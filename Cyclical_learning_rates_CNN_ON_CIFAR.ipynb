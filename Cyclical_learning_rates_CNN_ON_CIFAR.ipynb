{
  "cells": [
    {
      "cell_type": "markdown",
      "metadata": {
        "id": "kK3alCdFflQX"
      },
      "source": [
        "## This notebook contains implementation of Leslie's smith's cyclical learning rates for classification on CNN on Cifar-10 dataset.\n",
        "\n",
        "It also compares using this approach with normal Convolutions, Separable convolutions, depthwise convolutions. It demonstrates that the cyclical learning rates are able to achieve minima in least number of epochs compared to the large number of epochs taken by standard learning rate decay methods\n",
        "\n",
        "Also, please note that the achitecture used here is Densenet-101,\n",
        "and the model achieves 90% validation accuracy without the need of dropouts."
      ]
    },
    {
      "cell_type": "code",
      "execution_count": null,
      "metadata": {
        "id": "VDZ1DUPDstd2"
      },
      "outputs": [],
      "source": [
        "from tensorflow.keras import models, layers\n",
        "from tensorflow.keras.models import Model\n",
        "from tensorflow.keras.layers import BatchNormalization, Activation, Flatten, concatenate\n",
        "from tensorflow.keras.optimizers import Adam\n",
        "import matplotlib.pyplot as plt\n",
        "import numpy as np\n",
        "\n",
        "# !apt-get update\n",
        "# !apt-get install -y libsm6 libxext6 libxrender-dev\n",
        "# !pip install opencv-python\n",
        "# !pip install tqdm\n",
        "# keras-lr-finder\n",
        "# !pip install tensorflow-addons\n",
        "import cv2\n",
        "from tqdm.notebook import tqdm\n",
        "import os\n",
        "import tensorflow as tf"
      ]
    },
    {
      "cell_type": "code",
      "execution_count": null,
      "metadata": {
        "colab": {
          "base_uri": "https://localhost:8080/",
          "height": 466
        },
        "id": "gUvi6AyEkDOk",
        "outputId": "15ec92b4-6889-4e79-d714-a0c84e36c0c4"
      },
      "outputs": [
        {
          "data": {
            "text/plain": [
              "[name: \"/device:CPU:0\"\n",
              " device_type: \"CPU\"\n",
              " memory_limit: 268435456\n",
              " locality {\n",
              " }\n",
              " incarnation: 10761203925575657807, name: \"/device:XLA_CPU:0\"\n",
              " device_type: \"XLA_CPU\"\n",
              " memory_limit: 17179869184\n",
              " locality {\n",
              " }\n",
              " incarnation: 8199102453925040176\n",
              " physical_device_desc: \"device: XLA_CPU device\", name: \"/device:XLA_GPU:0\"\n",
              " device_type: \"XLA_GPU\"\n",
              " memory_limit: 17179869184\n",
              " locality {\n",
              " }\n",
              " incarnation: 14259748596257325835\n",
              " physical_device_desc: \"device: XLA_GPU device\", name: \"/device:GPU:0\"\n",
              " device_type: \"GPU\"\n",
              " memory_limit: 15701463552\n",
              " locality {\n",
              "   bus_id: 1\n",
              "   links {\n",
              "   }\n",
              " }\n",
              " incarnation: 17560109803807334416\n",
              " physical_device_desc: \"device: 0, name: Tesla P100-PCIE-16GB, pci bus id: 0000:00:04.0, compute capability: 6.0\"]"
            ]
          },
          "execution_count": 2,
          "metadata": {
            "tags": []
          },
          "output_type": "execute_result"
        }
      ],
      "source": [
        "from tensorflow.python.client import device_lib\n",
        "device_lib.list_local_devices()"
      ]
    },
    {
      "cell_type": "code",
      "execution_count": null,
      "metadata": {
        "colab": {
          "base_uri": "https://localhost:8080/",
          "height": 120
        },
        "id": "CY_X3ZepPeVC",
        "outputId": "28802baf-eb75-49be-ad01-bc9f9491d7f7"
      },
      "outputs": [
        {
          "name": "stdout",
          "output_type": "stream",
          "text": [
            "Go to this URL in a browser: https://accounts.google.com/o/oauth2/auth?client_id=947318989803-6bn6qk8qdgf4n4g3pfee6491hc0brc4i.apps.googleusercontent.com&redirect_uri=urn%3aietf%3awg%3aoauth%3a2.0%3aoob&response_type=code&scope=email%20https%3a%2f%2fwww.googleapis.com%2fauth%2fdocs.test%20https%3a%2f%2fwww.googleapis.com%2fauth%2fdrive%20https%3a%2f%2fwww.googleapis.com%2fauth%2fdrive.photos.readonly%20https%3a%2f%2fwww.googleapis.com%2fauth%2fpeopleapi.readonly\n",
            "\n",
            "Enter your authorization code:\n",
            "··········\n",
            "Mounted at /content/drive\n"
          ]
        }
      ],
      "source": [
        "from google.colab import drive\n",
        "drive.mount('/content/drive')"
      ]
    },
    {
      "cell_type": "code",
      "execution_count": null,
      "metadata": {
        "colab": {
          "base_uri": "https://localhost:8080/",
          "height": 50
        },
        "id": "uB6_ZZ_ktC7d",
        "outputId": "89d1b859-ca41-4105-a758-19837ce482bc"
      },
      "outputs": [
        {
          "name": "stdout",
          "output_type": "stream",
          "text": [
            "Downloading data from https://www.cs.toronto.edu/~kriz/cifar-10-python.tar.gz\n",
            "170500096/170498071 [==============================] - 12s 0us/step\n"
          ]
        }
      ],
      "source": [
        "# Load CIFAR10 Data\n",
        "(X_train, y_train), (X_test, y_test) = tf.keras.datasets.cifar10.load_data()\n",
        "img_height, img_width, channel = X_train.shape[1],X_train.shape[2],X_train.shape[3]\n",
        "\n",
        "# convert to one hot encoding \n",
        "num_classes = 10\n",
        "y_train = tf.keras.utils.to_categorical(y_train, num_classes)\n",
        "y_test = tf.keras.utils.to_categorical(y_test, num_classes) "
      ]
    },
    {
      "cell_type": "code",
      "execution_count": null,
      "metadata": {
        "colab": {
          "base_uri": "https://localhost:8080/",
          "height": 33
        },
        "id": "yYYqD4CWNzVp",
        "outputId": "217e6986-0223-4888-e811-ad78d6f5ba55"
      },
      "outputs": [
        {
          "data": {
            "text/plain": [
              "'/content'"
            ]
          },
          "execution_count": 6,
          "metadata": {
            "tags": []
          },
          "output_type": "execute_result"
        }
      ],
      "source": [
        "os.getcwd( )"
      ]
    },
    {
      "cell_type": "code",
      "execution_count": null,
      "metadata": {
        "id": "QCjXEpH5kKcG"
      },
      "outputs": [],
      "source": [
        "os.chdir('/content/drive/My Drive')"
      ]
    },
    {
      "cell_type": "code",
      "execution_count": null,
      "metadata": {
        "colab": {
          "base_uri": "https://localhost:8080/",
          "height": 33
        },
        "id": "tojwUxsvTN-q",
        "outputId": "5b63f03c-3096-4ff0-b43f-2cbb6c06fb02"
      },
      "outputs": [
        {
          "data": {
            "text/plain": [
              "((50000, 32, 32, 3), (10000, 32, 32, 3))"
            ]
          },
          "execution_count": 8,
          "metadata": {
            "tags": []
          },
          "output_type": "execute_result"
        }
      ],
      "source": [
        "X_train.shape , X_test.shape"
      ]
    },
    {
      "cell_type": "code",
      "execution_count": null,
      "metadata": {
        "colab": {
          "base_uri": "https://localhost:8080/",
          "height": 265
        },
        "id": "f_7PiVducJ1a",
        "outputId": "b620a24f-cfd2-4ed8-9c97-05b47337f2f4"
      },
      "outputs": [
        {
          "data": {
            "image/png": "[encoded data removed]",
            "text/plain": [
              "<Figure size 432x288 with 1 Axes>"
            ]
          },
          "metadata": {
            "needs_background": "light",
            "tags": []
          },
          "output_type": "display_data"
        }
      ],
      "source": [
        "# Before performing detailed enhancement\n",
        "plt.imshow(  X_train[80]  )\n",
        "plt.show()"
      ]
    },
    {
      "cell_type": "code",
      "execution_count": null,
      "metadata": {
        "colab": {
          "base_uri": "https://localhost:8080/",
          "height": 265
        },
        "id": "b5oHrdtuci6P",
        "outputId": "837182cd-19c6-41ac-a395-0ba5e6510afb"
      },
      "outputs": [
        {
          "data": {
            "image/png": "[encoded data removed]",
            "text/plain": [
              "<Figure size 432x288 with 1 Axes>"
            ]
          },
          "metadata": {
            "needs_background": "light",
            "tags": []
          },
          "output_type": "display_data"
        }
      ],
      "source": [
        "# Before performing detailed enhancement\n",
        "plt.imshow( X_test[80] )\n",
        "plt.show()"
      ]
    },
    {
      "cell_type": "code",
      "execution_count": null,
      "metadata": {
        "colab": {
          "base_uri": "https://localhost:8080/",
          "height": 114,
          "referenced_widgets": [
            "be4b080f4aea4783bca9b2fcaeddd871",
            "730d049e48a843f68a1b5d956ab84d75",
            "5eae98518820457ab20a64191bbcc604",
            "1a27c19e2ba9487987594a42441b5ab1",
            "fb56f03f2ecb4e128161ee75e920e756",
            "3cb10e0717b246ecbcdac4129374b201",
            "f3ac5bfeb3f046e9a70fff78df5ea1d1",
            "d5990a30688640ecaad899394c6dd9b3",
            "7e133d4e7dd647feb0f4cbf06470fcec",
            "697420b33a2745b98930aeef2fa0603b",
            "bb4ec63bed03425d9d95650430f79b43",
            "bca2591c85b248ad8d36f4184786dbc2",
            "6e1ae459c0774a688677dbcb1575f026",
            "9708c8a0780742099559b78c4d149e5e",
            "6cf9cffd6eed44e68783b5d3af5151bb",
            "64a6b992f8f94155bf3b787997a51efa"
          ]
        },
        "id": "kHHnZULTk_Eh",
        "outputId": "ba06574b-1fdc-464b-89f4-742377d07fc9"
      },
      "outputs": [
        {
          "data": {
            "application/vnd.jupyter.widget-view+json": {
              "model_id": "be4b080f4aea4783bca9b2fcaeddd871",
              "version_major": 2,
              "version_minor": 0
            },
            "text/plain": [
              "HBox(children=(FloatProgress(value=0.0, max=50000.0), HTML(value='')))"
            ]
          },
          "metadata": {
            "tags": []
          },
          "output_type": "display_data"
        },
        {
          "name": "stdout",
          "output_type": "stream",
          "text": [
            "\n"
          ]
        },
        {
          "data": {
            "application/vnd.jupyter.widget-view+json": {
              "model_id": "7e133d4e7dd647feb0f4cbf06470fcec",
              "version_major": 2,
              "version_minor": 0
            },
            "text/plain": [
              "HBox(children=(FloatProgress(value=0.0, max=10000.0), HTML(value='')))"
            ]
          },
          "metadata": {
            "tags": []
          },
          "output_type": "display_data"
        },
        {
          "name": "stdout",
          "output_type": "stream",
          "text": [
            "\n"
          ]
        }
      ],
      "source": [
        "# Perform detailEnhancement ( operation similar to sharpening)\n",
        "for every in tqdm(range( len(X_train) ) ):\n",
        "  X_train[ every ] = cv2.detailEnhance(X_train[ every ] , sigma_s=10, sigma_r=0.15)\n",
        "\n",
        "for every in tqdm(range( len(X_test) ) ):\n",
        "  X_test[ every ] = cv2.detailEnhance(X_test[ every ] , sigma_s=10, sigma_r=0.15)"
      ]
    },
    {
      "cell_type": "code",
      "execution_count": null,
      "metadata": {
        "colab": {
          "base_uri": "https://localhost:8080/",
          "height": 265
        },
        "id": "3lVXL4wecI8I",
        "outputId": "4f522f03-f9c9-4956-f903-c5371e72f2f9"
      },
      "outputs": [
        {
          "data": {
            "image/png": "[encoded data removed]",
            "text/plain": [
              "<Figure size 432x288 with 1 Axes>"
            ]
          },
          "metadata": {
            "needs_background": "light",
            "tags": []
          },
          "output_type": "display_data"
        }
      ],
      "source": [
        "# After performing detail enchancement\n",
        "plt.imshow(  X_train[ 80 ]  )\n",
        "plt.show()"
      ]
    },
    {
      "cell_type": "code",
      "execution_count": null,
      "metadata": {
        "colab": {
          "base_uri": "https://localhost:8080/",
          "height": 265
        },
        "id": "L372FEdicJBk",
        "outputId": "a0575b50-e45b-45de-c20e-8a53d909146f"
      },
      "outputs": [
        {
          "data": {
            "image/png": "[encoded data removed]",
            "text/plain": [
              "<Figure size 432x288 with 1 Axes>"
            ]
          },
          "metadata": {
            "needs_background": "light",
            "tags": []
          },
          "output_type": "display_data"
        }
      ],
      "source": [
        "# After performing detail enchancement\n",
        "plt.imshow( X_test[80] )\n",
        "plt.show()"
      ]
    },
    {
      "cell_type": "code",
      "execution_count": null,
      "metadata": {
        "id": "_mtzQ2a05oM2"
      },
      "outputs": [],
      "source": [
        "X_train = X_train/255.\n",
        "X_test = X_test / 255."
      ]
    },
    {
      "cell_type": "code",
      "execution_count": null,
      "metadata": {
        "id": "1xC0JrGW-0_l"
      },
      "outputs": [],
      "source": [
        "#Image Data Generator\n",
        "\n",
        "# Using laplace flter with modification to sharpen the images\n",
        "# Idea here is to see whether , sharpened text will lead to better results or not.\n",
        "\n",
        "# def sharpen_laplace_with_addition(img):\n",
        "#   kernel = np.array([[-1,-1,-1], [-1,9,-1], [-1,-1,-1]])\n",
        "#   return (cv2.filter2D(img, -1, kernel))\n",
        "\n",
        "\n",
        "def detail_enhancement( img ):\n",
        "  return cv2.detailEnhance(img , sigma_s=10, sigma_r=0.15)"
      ]
    },
    {
      "cell_type": "code",
      "execution_count": null,
      "metadata": {
        "colab": {
          "base_uri": "https://localhost:8080/",
          "height": 50
        },
        "id": "1jMAlIxf-1R8",
        "outputId": "7c45f681-e782-4541-e22e-be8b3c8fbe06"
      },
      "outputs": [
        {
          "name": "stderr",
          "output_type": "stream",
          "text": [
            "/usr/local/lib/python3.6/dist-packages/keras_preprocessing/image/image_data_generator.py:348: UserWarning: This ImageDataGenerator specifies `featurewise_std_normalization`, which overrides setting of `featurewise_center`.\n",
            "  warnings.warn('This ImageDataGenerator specifies '\n"
          ]
        }
      ],
      "source": [
        "datagen = tf.keras.preprocessing.image.ImageDataGenerator(            \n",
        "\n",
        "                                                         featurewise_std_normalization = True, \n",
        "                                                          # rotation_range = 90,   # 22.5 , 45 , 90\n",
        "                                                          width_shift_range= 0.1,\n",
        "                                                          height_shift_range= 0.1 ,\n",
        "                                                          # zca_whitening=True,\n",
        "                                                          #shear_range = 30 ,\n",
        "                                                          zca_epsilon=1e-06,\n",
        "                                                          horizontal_flip = True,\n",
        "                                                          #brightness_range=[0.1, 0.2]\n",
        "\n",
        "                                                        )\n",
        "\n",
        "datagen.fit(X_train)\n",
        "\n",
        "train_datagen = datagen.flow(x = X_train, y = y_train, batch_size = 64 )\n",
        "test_datagen = datagen.flow(x = X_test, y = y_test, batch_size = 64 )"
      ]
    },
    {
      "cell_type": "code",
      "metadata": {
        "id": "VoVLB8HFdr55"
      },
      "source": [
        "#### Chosen working model that gives test accuracy above 90% ::"
      ],
      "execution_count": null,
      "outputs": []
    },
    {
      "cell_type": "code",
      "execution_count": null,
      "metadata": {
        "id": "2e4s1mx5tDGF"
      },
      "outputs": [],
      "source": [
        "# Dense Block\n",
        "def denseblock(input, num_filter = 12, dropout_rate = 0):\n",
        "    global compression\n",
        "    temp = input\n",
        "    for _ in range(l):  # Controlling the depth\n",
        "        BatchNorm = layers.BatchNormalization()(temp)\n",
        "        relu = layers.Activation('relu')(BatchNorm)\n",
        "        Conv2D_3_3 = layers.Conv2D(  int(num_filter*compression), (3,3),kernel_initializer = 'he_normal' , bias_initializer = 'glorot_uniform',\n",
        "                                                                  use_bias=False ,padding='same')(relu)               # Eg : 12 * 0.5 = 6  filters   , kernel_regularizer = tf.keras.regularizers.l2( 0.0005 ) \n",
        "\n",
        "        # Conv2D_3_3 = layers.DepthwiseConv2D((3,3), (1,1) , depth_multiplier = 1 , depthwise_initializer =  'he_uniform' , \n",
        "        #                                                           use_bias=True , padding='same' )(relu)\n",
        "\n",
        "        # Conv2D_3_3 = layers.SeparableConv2D( int(num_filter*compression), (3,3) , depthwise_initializer =  'he_uniform' ,   depthwise_regularizer = tf.keras.regularizers.l2(0.005),\n",
        "        #                                                           use_bias=True , padding='same')(relu)\n",
        "\n",
        "        # if dropout_rate>0:\n",
        "        #     Conv2D_3_3 = layers.Dropout(dropout_rate)(Conv2D_3_3)\n",
        "\n",
        "\n",
        "        concat = layers.Concatenate(axis=-1)([temp,Conv2D_3_3])\n",
        "        temp = concat\n",
        "        \n",
        "    return temp\n",
        "\n",
        "## transition Block\n",
        "def transition(input, num_filter = 12, dropout_rate = 0):\n",
        "    global compression\n",
        "    BatchNorm = layers.BatchNormalization()(input)\n",
        "    relu = layers.Activation('relu')(BatchNorm)\n",
        "    Conv2D_BottleNeck = layers.Conv2D(    int(num_filter*compression), (1,1), kernel_initializer= 'he_uniform', use_bias=True , bias_initializer = 'he_normal',\n",
        "                                                                           padding='same'   )(relu)\n",
        "\n",
        "    # if dropout_rate>0:\n",
        "    #      Conv2D_BottleNeck = layers.Dropout(dropout_rate)(Conv2D_BottleNeck)\n",
        "\n",
        "    avg = layers.AveragePooling2D(pool_size=(2,2))(Conv2D_BottleNeck)\n",
        "    return avg\n",
        "\n",
        "#output layer\n",
        "def output_layer(input):\n",
        "    global compression\n",
        "    BatchNorm = layers.BatchNormalization()(input)\n",
        "    relu = layers.Activation('relu')(BatchNorm)\n",
        "    AvgPooling = layers.AveragePooling2D(pool_size=(2,2) )(relu)   # By default the stride is 2 for Average pooling\n",
        "\n",
        "    one_cross_one = layers.Conv2D(10, (1,1), use_bias=True ,padding='same' ,  kernel_initializer= 'he_uniform', bias_initializer = 'he_normal', name = 'one_cross_one_convoulution')(AvgPooling)\n",
        "    output_replacement = layers.GlobalMaxPooling2D( name = 'globalpooling')(one_cross_one)\n",
        "    output = layers.Activation('softmax')(output_replacement)\n",
        "\n",
        "    return output"
      ]
    },
    {
      "cell_type": "code",
      "execution_count": null,
      "metadata": {
        "id": "5xqORIy_tDIl"
      },
      "outputs": [],
      "source": [
        "# Model \n",
        "# Hyperparameters\n",
        "l = 10                                                # number of Dense blocks aka depth\n",
        "num_filter = 42\n",
        "compression = 0.5\n",
        "dropout_rate = 0\n",
        "\n",
        "input = layers.Input(shape=(img_height, img_width, channel,))\n",
        "First_Conv2D = layers.Conv2D( 64 , (3,3), use_bias=True ,padding='same', kernel_initializer = 'he_uniform', bias_initializer = 'he_normal',  kernel_regularizer = tf.keras.regularizers.l2( 0.0005 )  )(input)\n",
        "\n",
        "First_Block = denseblock(First_Conv2D, num_filter, dropout_rate)\n",
        "First_Transition = transition(First_Block, num_filter, dropout_rate)\n",
        "\n",
        "Second_Block = denseblock(First_Transition, num_filter, dropout_rate)\n",
        "Second_Transition = transition(Second_Block, num_filter, dropout_rate)\n",
        "\n",
        "Third_Block = denseblock(Second_Transition, num_filter, dropout_rate)\n",
        "Third_Transition = transition(Third_Block, num_filter, dropout_rate)\n",
        "\n",
        "Last_Block = denseblock(Third_Transition,  num_filter, dropout_rate)\n",
        "output = output_layer(Last_Block)"
      ]
    },
    {
      "cell_type": "code",
      "execution_count": null,
      "metadata": {
        "colab": {
          "base_uri": "https://localhost:8080/",
          "height": 1000
        },
        "id": "SJBTab8PtMfj",
        "outputId": "0b1f46d2-507b-45d0-9053-623590c2c81c"
      },
      "outputs": [
        {
          "name": "stdout",
          "output_type": "stream",
          "text": [
            "Model: \"model\"\n",
            "__________________________________________________________________________________________________\n",
            "Layer (type)                    Output Shape         Param #     Connected to                     \n",
            "==================================================================================================\n",
            "input_1 (InputLayer)            [(None, 32, 32, 3)]  0                                            \n",
            "__________________________________________________________________________________________________\n",
            "conv2d (Conv2D)                 (None, 32, 32, 64)   1792        input_1[0][0]                    \n",
            "__________________________________________________________________________________________________\n",
            "batch_normalization (BatchNorma (None, 32, 32, 64)   256         conv2d[0][0]                     \n",
            "__________________________________________________________________________________________________\n",
            "activation (Activation)         (None, 32, 32, 64)   0           batch_normalization[0][0]        \n",
            "__________________________________________________________________________________________________\n",
            "conv2d_1 (Conv2D)               (None, 32, 32, 21)   12096       activation[0][0]                 \n",
            "__________________________________________________________________________________________________\n",
            "concatenate (Concatenate)       (None, 32, 32, 85)   0           conv2d[0][0]                     \n",
            "                                                                 conv2d_1[0][0]                   \n",
            "__________________________________________________________________________________________________\n",
            "batch_normalization_1 (BatchNor (None, 32, 32, 85)   340         concatenate[0][0]                \n",
            "__________________________________________________________________________________________________\n",
            "activation_1 (Activation)       (None, 32, 32, 85)   0           batch_normalization_1[0][0]      \n",
            "__________________________________________________________________________________________________\n",
            "conv2d_2 (Conv2D)               (None, 32, 32, 21)   16065       activation_1[0][0]               \n",
            "__________________________________________________________________________________________________\n",
            "concatenate_1 (Concatenate)     (None, 32, 32, 106)  0           concatenate[0][0]                \n",
            "                                                                 conv2d_2[0][0]                   \n",
            "__________________________________________________________________________________________________\n",
            "batch_normalization_2 (BatchNor (None, 32, 32, 106)  424         concatenate_1[0][0]              \n",
            "__________________________________________________________________________________________________\n",
            "activation_2 (Activation)       (None, 32, 32, 106)  0           batch_normalization_2[0][0]      \n",
            "__________________________________________________________________________________________________\n",
            "conv2d_3 (Conv2D)               (None, 32, 32, 21)   20034       activation_2[0][0]               \n",
            "__________________________________________________________________________________________________\n",
            "concatenate_2 (Concatenate)     (None, 32, 32, 127)  0           concatenate_1[0][0]              \n",
            "                                                                 conv2d_3[0][0]                   \n",
            "__________________________________________________________________________________________________\n",
            "batch_normalization_3 (BatchNor (None, 32, 32, 127)  508         concatenate_2[0][0]              \n",
            "__________________________________________________________________________________________________\n",
            "activation_3 (Activation)       (None, 32, 32, 127)  0           batch_normalization_3[0][0]      \n",
            "__________________________________________________________________________________________________\n",
            "conv2d_4 (Conv2D)               (None, 32, 32, 21)   24003       activation_3[0][0]               \n",
            "__________________________________________________________________________________________________\n",
            "concatenate_3 (Concatenate)     (None, 32, 32, 148)  0           concatenate_2[0][0]              \n",
            "                                                                 conv2d_4[0][0]                   \n",
            "__________________________________________________________________________________________________\n",
            "batch_normalization_4 (BatchNor (None, 32, 32, 148)  592         concatenate_3[0][0]              \n",
            "__________________________________________________________________________________________________\n",
            "activation_4 (Activation)       (None, 32, 32, 148)  0           batch_normalization_4[0][0]      \n",
            "__________________________________________________________________________________________________\n",
            "conv2d_5 (Conv2D)               (None, 32, 32, 21)   27972       activation_4[0][0]               \n",
            "__________________________________________________________________________________________________\n",
            "concatenate_4 (Concatenate)     (None, 32, 32, 169)  0           concatenate_3[0][0]              \n",
            "                                                                 conv2d_5[0][0]                   \n",
            "__________________________________________________________________________________________________\n",
            "batch_normalization_5 (BatchNor (None, 32, 32, 169)  676         concatenate_4[0][0]              \n",
            "__________________________________________________________________________________________________\n",
            "activation_5 (Activation)       (None, 32, 32, 169)  0           batch_normalization_5[0][0]      \n",
            "__________________________________________________________________________________________________\n",
            "conv2d_6 (Conv2D)               (None, 32, 32, 21)   31941       activation_5[0][0]               \n",
            "__________________________________________________________________________________________________\n",
            "concatenate_5 (Concatenate)     (None, 32, 32, 190)  0           concatenate_4[0][0]              \n",
            "                                                                 conv2d_6[0][0]                   \n",
            "__________________________________________________________________________________________________\n",
            "batch_normalization_6 (BatchNor (None, 32, 32, 190)  760         concatenate_5[0][0]              \n",
            "__________________________________________________________________________________________________\n",
            "activation_6 (Activation)       (None, 32, 32, 190)  0           batch_normalization_6[0][0]      \n",
            "__________________________________________________________________________________________________\n",
            "conv2d_7 (Conv2D)               (None, 32, 32, 21)   35910       activation_6[0][0]               \n",
            "__________________________________________________________________________________________________\n",
            "concatenate_6 (Concatenate)     (None, 32, 32, 211)  0           concatenate_5[0][0]              \n",
            "                                                                 conv2d_7[0][0]                   \n",
            "__________________________________________________________________________________________________\n",
            "batch_normalization_7 (BatchNor (None, 32, 32, 211)  844         concatenate_6[0][0]              \n",
            "__________________________________________________________________________________________________\n",
            "activation_7 (Activation)       (None, 32, 32, 211)  0           batch_normalization_7[0][0]      \n",
            "__________________________________________________________________________________________________\n",
            "conv2d_8 (Conv2D)               (None, 32, 32, 21)   39879       activation_7[0][0]               \n",
            "__________________________________________________________________________________________________\n",
            "concatenate_7 (Concatenate)     (None, 32, 32, 232)  0           concatenate_6[0][0]              \n",
            "                                                                 conv2d_8[0][0]                   \n",
            "__________________________________________________________________________________________________\n",
            "batch_normalization_8 (BatchNor (None, 32, 32, 232)  928         concatenate_7[0][0]              \n",
            "__________________________________________________________________________________________________\n",
            "activation_8 (Activation)       (None, 32, 32, 232)  0           batch_normalization_8[0][0]      \n",
            "__________________________________________________________________________________________________\n",
            "conv2d_9 (Conv2D)               (None, 32, 32, 21)   43848       activation_8[0][0]               \n",
            "__________________________________________________________________________________________________\n",
            "concatenate_8 (Concatenate)     (None, 32, 32, 253)  0           concatenate_7[0][0]              \n",
            "                                                                 conv2d_9[0][0]                   \n",
            "__________________________________________________________________________________________________\n",
            "batch_normalization_9 (BatchNor (None, 32, 32, 253)  1012        concatenate_8[0][0]              \n",
            "__________________________________________________________________________________________________\n",
            "activation_9 (Activation)       (None, 32, 32, 253)  0           batch_normalization_9[0][0]      \n",
            "__________________________________________________________________________________________________\n",
            "conv2d_10 (Conv2D)              (None, 32, 32, 21)   47817       activation_9[0][0]               \n",
            "__________________________________________________________________________________________________\n",
            "concatenate_9 (Concatenate)     (None, 32, 32, 274)  0           concatenate_8[0][0]              \n",
            "                                                                 conv2d_10[0][0]                  \n",
            "__________________________________________________________________________________________________\n",
            "batch_normalization_10 (BatchNo (None, 32, 32, 274)  1096        concatenate_9[0][0]              \n",
            "__________________________________________________________________________________________________\n",
            "activation_10 (Activation)      (None, 32, 32, 274)  0           batch_normalization_10[0][0]     \n",
            "__________________________________________________________________________________________________\n",
            "conv2d_11 (Conv2D)              (None, 32, 32, 21)   5775        activation_10[0][0]              \n",
            "__________________________________________________________________________________________________\n",
            "average_pooling2d (AveragePooli (None, 16, 16, 21)   0           conv2d_11[0][0]                  \n",
            "__________________________________________________________________________________________________\n",
            "batch_normalization_11 (BatchNo (None, 16, 16, 21)   84          average_pooling2d[0][0]          \n",
            "__________________________________________________________________________________________________\n",
            "activation_11 (Activation)      (None, 16, 16, 21)   0           batch_normalization_11[0][0]     \n",
            "__________________________________________________________________________________________________\n",
            "conv2d_12 (Conv2D)              (None, 16, 16, 21)   3969        activation_11[0][0]              \n",
            "__________________________________________________________________________________________________\n",
            "concatenate_10 (Concatenate)    (None, 16, 16, 42)   0           average_pooling2d[0][0]          \n",
            "                                                                 conv2d_12[0][0]                  \n",
            "__________________________________________________________________________________________________\n",
            "batch_normalization_12 (BatchNo (None, 16, 16, 42)   168         concatenate_10[0][0]             \n",
            "__________________________________________________________________________________________________\n",
            "activation_12 (Activation)      (None, 16, 16, 42)   0           batch_normalization_12[0][0]     \n",
            "__________________________________________________________________________________________________\n",
            "conv2d_13 (Conv2D)              (None, 16, 16, 21)   7938        activation_12[0][0]              \n",
            "__________________________________________________________________________________________________\n",
            "concatenate_11 (Concatenate)    (None, 16, 16, 63)   0           concatenate_10[0][0]             \n",
            "                                                                 conv2d_13[0][0]                  \n",
            "__________________________________________________________________________________________________\n",
            "batch_normalization_13 (BatchNo (None, 16, 16, 63)   252         concatenate_11[0][0]             \n",
            "__________________________________________________________________________________________________\n",
            "activation_13 (Activation)      (None, 16, 16, 63)   0           batch_normalization_13[0][0]     \n",
            "__________________________________________________________________________________________________\n",
            "conv2d_14 (Conv2D)              (None, 16, 16, 21)   11907       activation_13[0][0]              \n",
            "__________________________________________________________________________________________________\n",
            "concatenate_12 (Concatenate)    (None, 16, 16, 84)   0           concatenate_11[0][0]             \n",
            "                                                                 conv2d_14[0][0]                  \n",
            "__________________________________________________________________________________________________\n",
            "batch_normalization_14 (BatchNo (None, 16, 16, 84)   336         concatenate_12[0][0]             \n",
            "__________________________________________________________________________________________________\n",
            "activation_14 (Activation)      (None, 16, 16, 84)   0           batch_normalization_14[0][0]     \n",
            "__________________________________________________________________________________________________\n",
            "conv2d_15 (Conv2D)              (None, 16, 16, 21)   15876       activation_14[0][0]              \n",
            "__________________________________________________________________________________________________\n",
            "concatenate_13 (Concatenate)    (None, 16, 16, 105)  0           concatenate_12[0][0]             \n",
            "                                                                 conv2d_15[0][0]                  \n",
            "__________________________________________________________________________________________________\n",
            "batch_normalization_15 (BatchNo (None, 16, 16, 105)  420         concatenate_13[0][0]             \n",
            "__________________________________________________________________________________________________\n",
            "activation_15 (Activation)      (None, 16, 16, 105)  0           batch_normalization_15[0][0]     \n",
            "__________________________________________________________________________________________________\n",
            "conv2d_16 (Conv2D)              (None, 16, 16, 21)   19845       activation_15[0][0]              \n",
            "__________________________________________________________________________________________________\n",
            "concatenate_14 (Concatenate)    (None, 16, 16, 126)  0           concatenate_13[0][0]             \n",
            "                                                                 conv2d_16[0][0]                  \n",
            "__________________________________________________________________________________________________\n",
            "batch_normalization_16 (BatchNo (None, 16, 16, 126)  504         concatenate_14[0][0]             \n",
            "__________________________________________________________________________________________________\n",
            "activation_16 (Activation)      (None, 16, 16, 126)  0           batch_normalization_16[0][0]     \n",
            "__________________________________________________________________________________________________\n",
            "conv2d_17 (Conv2D)              (None, 16, 16, 21)   23814       activation_16[0][0]              \n",
            "__________________________________________________________________________________________________\n",
            "concatenate_15 (Concatenate)    (None, 16, 16, 147)  0           concatenate_14[0][0]             \n",
            "                                                                 conv2d_17[0][0]                  \n",
            "__________________________________________________________________________________________________\n",
            "batch_normalization_17 (BatchNo (None, 16, 16, 147)  588         concatenate_15[0][0]             \n",
            "__________________________________________________________________________________________________\n",
            "activation_17 (Activation)      (None, 16, 16, 147)  0           batch_normalization_17[0][0]     \n",
            "__________________________________________________________________________________________________\n",
            "conv2d_18 (Conv2D)              (None, 16, 16, 21)   27783       activation_17[0][0]              \n",
            "__________________________________________________________________________________________________\n",
            "concatenate_16 (Concatenate)    (None, 16, 16, 168)  0           concatenate_15[0][0]             \n",
            "                                                                 conv2d_18[0][0]                  \n",
            "__________________________________________________________________________________________________\n",
            "batch_normalization_18 (BatchNo (None, 16, 16, 168)  672         concatenate_16[0][0]             \n",
            "__________________________________________________________________________________________________\n",
            "activation_18 (Activation)      (None, 16, 16, 168)  0           batch_normalization_18[0][0]     \n",
            "__________________________________________________________________________________________________\n",
            "conv2d_19 (Conv2D)              (None, 16, 16, 21)   31752       activation_18[0][0]              \n",
            "__________________________________________________________________________________________________\n",
            "concatenate_17 (Concatenate)    (None, 16, 16, 189)  0           concatenate_16[0][0]             \n",
            "                                                                 conv2d_19[0][0]                  \n",
            "__________________________________________________________________________________________________\n",
            "batch_normalization_19 (BatchNo (None, 16, 16, 189)  756         concatenate_17[0][0]             \n",
            "__________________________________________________________________________________________________\n",
            "activation_19 (Activation)      (None, 16, 16, 189)  0           batch_normalization_19[0][0]     \n",
            "__________________________________________________________________________________________________\n",
            "conv2d_20 (Conv2D)              (None, 16, 16, 21)   35721       activation_19[0][0]              \n",
            "__________________________________________________________________________________________________\n",
            "concatenate_18 (Concatenate)    (None, 16, 16, 210)  0           concatenate_17[0][0]             \n",
            "                                                                 conv2d_20[0][0]                  \n",
            "__________________________________________________________________________________________________\n",
            "batch_normalization_20 (BatchNo (None, 16, 16, 210)  840         concatenate_18[0][0]             \n",
            "__________________________________________________________________________________________________\n",
            "activation_20 (Activation)      (None, 16, 16, 210)  0           batch_normalization_20[0][0]     \n",
            "__________________________________________________________________________________________________\n",
            "conv2d_21 (Conv2D)              (None, 16, 16, 21)   39690       activation_20[0][0]              \n",
            "__________________________________________________________________________________________________\n",
            "concatenate_19 (Concatenate)    (None, 16, 16, 231)  0           concatenate_18[0][0]             \n",
            "                                                                 conv2d_21[0][0]                  \n",
            "__________________________________________________________________________________________________\n",
            "batch_normalization_21 (BatchNo (None, 16, 16, 231)  924         concatenate_19[0][0]             \n",
            "__________________________________________________________________________________________________\n",
            "activation_21 (Activation)      (None, 16, 16, 231)  0           batch_normalization_21[0][0]     \n",
            "__________________________________________________________________________________________________\n",
            "conv2d_22 (Conv2D)              (None, 16, 16, 21)   4872        activation_21[0][0]              \n",
            "__________________________________________________________________________________________________\n",
            "average_pooling2d_1 (AveragePoo (None, 8, 8, 21)     0           conv2d_22[0][0]                  \n",
            "__________________________________________________________________________________________________\n",
            "batch_normalization_22 (BatchNo (None, 8, 8, 21)     84          average_pooling2d_1[0][0]        \n",
            "__________________________________________________________________________________________________\n",
            "activation_22 (Activation)      (None, 8, 8, 21)     0           batch_normalization_22[0][0]     \n",
            "__________________________________________________________________________________________________\n",
            "conv2d_23 (Conv2D)              (None, 8, 8, 21)     3969        activation_22[0][0]              \n",
            "__________________________________________________________________________________________________\n",
            "concatenate_20 (Concatenate)    (None, 8, 8, 42)     0           average_pooling2d_1[0][0]        \n",
            "                                                                 conv2d_23[0][0]                  \n",
            "__________________________________________________________________________________________________\n",
            "batch_normalization_23 (BatchNo (None, 8, 8, 42)     168         concatenate_20[0][0]             \n",
            "__________________________________________________________________________________________________\n",
            "activation_23 (Activation)      (None, 8, 8, 42)     0           batch_normalization_23[0][0]     \n",
            "__________________________________________________________________________________________________\n",
            "conv2d_24 (Conv2D)              (None, 8, 8, 21)     7938        activation_23[0][0]              \n",
            "__________________________________________________________________________________________________\n",
            "concatenate_21 (Concatenate)    (None, 8, 8, 63)     0           concatenate_20[0][0]             \n",
            "                                                                 conv2d_24[0][0]                  \n",
            "__________________________________________________________________________________________________\n",
            "batch_normalization_24 (BatchNo (None, 8, 8, 63)     252         concatenate_21[0][0]             \n",
            "__________________________________________________________________________________________________\n",
            "activation_24 (Activation)      (None, 8, 8, 63)     0           batch_normalization_24[0][0]     \n",
            "__________________________________________________________________________________________________\n",
            "conv2d_25 (Conv2D)              (None, 8, 8, 21)     11907       activation_24[0][0]              \n",
            "__________________________________________________________________________________________________\n",
            "concatenate_22 (Concatenate)    (None, 8, 8, 84)     0           concatenate_21[0][0]             \n",
            "                                                                 conv2d_25[0][0]                  \n",
            "__________________________________________________________________________________________________\n",
            "batch_normalization_25 (BatchNo (None, 8, 8, 84)     336         concatenate_22[0][0]             \n",
            "__________________________________________________________________________________________________\n",
            "activation_25 (Activation)      (None, 8, 8, 84)     0           batch_normalization_25[0][0]     \n",
            "__________________________________________________________________________________________________\n",
            "conv2d_26 (Conv2D)              (None, 8, 8, 21)     15876       activation_25[0][0]              \n",
            "__________________________________________________________________________________________________\n",
            "concatenate_23 (Concatenate)    (None, 8, 8, 105)    0           concatenate_22[0][0]             \n",
            "                                                                 conv2d_26[0][0]                  \n",
            "__________________________________________________________________________________________________\n",
            "batch_normalization_26 (BatchNo (None, 8, 8, 105)    420         concatenate_23[0][0]             \n",
            "__________________________________________________________________________________________________\n",
            "activation_26 (Activation)      (None, 8, 8, 105)    0           batch_normalization_26[0][0]     \n",
            "__________________________________________________________________________________________________\n",
            "conv2d_27 (Conv2D)              (None, 8, 8, 21)     19845       activation_26[0][0]              \n",
            "__________________________________________________________________________________________________\n",
            "concatenate_24 (Concatenate)    (None, 8, 8, 126)    0           concatenate_23[0][0]             \n",
            "                                                                 conv2d_27[0][0]                  \n",
            "__________________________________________________________________________________________________\n",
            "batch_normalization_27 (BatchNo (None, 8, 8, 126)    504         concatenate_24[0][0]             \n",
            "__________________________________________________________________________________________________\n",
            "activation_27 (Activation)      (None, 8, 8, 126)    0           batch_normalization_27[0][0]     \n",
            "__________________________________________________________________________________________________\n",
            "conv2d_28 (Conv2D)              (None, 8, 8, 21)     23814       activation_27[0][0]              \n",
            "__________________________________________________________________________________________________\n",
            "concatenate_25 (Concatenate)    (None, 8, 8, 147)    0           concatenate_24[0][0]             \n",
            "                                                                 conv2d_28[0][0]                  \n",
            "__________________________________________________________________________________________________\n",
            "batch_normalization_28 (BatchNo (None, 8, 8, 147)    588         concatenate_25[0][0]             \n",
            "__________________________________________________________________________________________________\n",
            "activation_28 (Activation)      (None, 8, 8, 147)    0           batch_normalization_28[0][0]     \n",
            "__________________________________________________________________________________________________\n",
            "conv2d_29 (Conv2D)              (None, 8, 8, 21)     27783       activation_28[0][0]              \n",
            "__________________________________________________________________________________________________\n",
            "concatenate_26 (Concatenate)    (None, 8, 8, 168)    0           concatenate_25[0][0]             \n",
            "                                                                 conv2d_29[0][0]                  \n",
            "__________________________________________________________________________________________________\n",
            "batch_normalization_29 (BatchNo (None, 8, 8, 168)    672         concatenate_26[0][0]             \n",
            "__________________________________________________________________________________________________\n",
            "activation_29 (Activation)      (None, 8, 8, 168)    0           batch_normalization_29[0][0]     \n",
            "__________________________________________________________________________________________________\n",
            "conv2d_30 (Conv2D)              (None, 8, 8, 21)     31752       activation_29[0][0]              \n",
            "__________________________________________________________________________________________________\n",
            "concatenate_27 (Concatenate)    (None, 8, 8, 189)    0           concatenate_26[0][0]             \n",
            "                                                                 conv2d_30[0][0]                  \n",
            "__________________________________________________________________________________________________\n",
            "batch_normalization_30 (BatchNo (None, 8, 8, 189)    756         concatenate_27[0][0]             \n",
            "__________________________________________________________________________________________________\n",
            "activation_30 (Activation)      (None, 8, 8, 189)    0           batch_normalization_30[0][0]     \n",
            "__________________________________________________________________________________________________\n",
            "conv2d_31 (Conv2D)              (None, 8, 8, 21)     35721       activation_30[0][0]              \n",
            "__________________________________________________________________________________________________\n",
            "concatenate_28 (Concatenate)    (None, 8, 8, 210)    0           concatenate_27[0][0]             \n",
            "                                                                 conv2d_31[0][0]                  \n",
            "__________________________________________________________________________________________________\n",
            "batch_normalization_31 (BatchNo (None, 8, 8, 210)    840         concatenate_28[0][0]             \n",
            "__________________________________________________________________________________________________\n",
            "activation_31 (Activation)      (None, 8, 8, 210)    0           batch_normalization_31[0][0]     \n",
            "__________________________________________________________________________________________________\n",
            "conv2d_32 (Conv2D)              (None, 8, 8, 21)     39690       activation_31[0][0]              \n",
            "__________________________________________________________________________________________________\n",
            "concatenate_29 (Concatenate)    (None, 8, 8, 231)    0           concatenate_28[0][0]             \n",
            "                                                                 conv2d_32[0][0]                  \n",
            "__________________________________________________________________________________________________\n",
            "batch_normalization_32 (BatchNo (None, 8, 8, 231)    924         concatenate_29[0][0]             \n",
            "__________________________________________________________________________________________________\n",
            "activation_32 (Activation)      (None, 8, 8, 231)    0           batch_normalization_32[0][0]     \n",
            "__________________________________________________________________________________________________\n",
            "conv2d_33 (Conv2D)              (None, 8, 8, 21)     4872        activation_32[0][0]              \n",
            "__________________________________________________________________________________________________\n",
            "average_pooling2d_2 (AveragePoo (None, 4, 4, 21)     0           conv2d_33[0][0]                  \n",
            "__________________________________________________________________________________________________\n",
            "batch_normalization_33 (BatchNo (None, 4, 4, 21)     84          average_pooling2d_2[0][0]        \n",
            "__________________________________________________________________________________________________\n",
            "activation_33 (Activation)      (None, 4, 4, 21)     0           batch_normalization_33[0][0]     \n",
            "__________________________________________________________________________________________________\n",
            "conv2d_34 (Conv2D)              (None, 4, 4, 21)     3969        activation_33[0][0]              \n",
            "__________________________________________________________________________________________________\n",
            "concatenate_30 (Concatenate)    (None, 4, 4, 42)     0           average_pooling2d_2[0][0]        \n",
            "                                                                 conv2d_34[0][0]                  \n",
            "__________________________________________________________________________________________________\n",
            "batch_normalization_34 (BatchNo (None, 4, 4, 42)     168         concatenate_30[0][0]             \n",
            "__________________________________________________________________________________________________\n",
            "activation_34 (Activation)      (None, 4, 4, 42)     0           batch_normalization_34[0][0]     \n",
            "__________________________________________________________________________________________________\n",
            "conv2d_35 (Conv2D)              (None, 4, 4, 21)     7938        activation_34[0][0]              \n",
            "__________________________________________________________________________________________________\n",
            "concatenate_31 (Concatenate)    (None, 4, 4, 63)     0           concatenate_30[0][0]             \n",
            "                                                                 conv2d_35[0][0]                  \n",
            "__________________________________________________________________________________________________\n",
            "batch_normalization_35 (BatchNo (None, 4, 4, 63)     252         concatenate_31[0][0]             \n",
            "__________________________________________________________________________________________________\n",
            "activation_35 (Activation)      (None, 4, 4, 63)     0           batch_normalization_35[0][0]     \n",
            "__________________________________________________________________________________________________\n",
            "conv2d_36 (Conv2D)              (None, 4, 4, 21)     11907       activation_35[0][0]              \n",
            "__________________________________________________________________________________________________\n",
            "concatenate_32 (Concatenate)    (None, 4, 4, 84)     0           concatenate_31[0][0]             \n",
            "                                                                 conv2d_36[0][0]                  \n",
            "__________________________________________________________________________________________________\n",
            "batch_normalization_36 (BatchNo (None, 4, 4, 84)     336         concatenate_32[0][0]             \n",
            "__________________________________________________________________________________________________\n",
            "activation_36 (Activation)      (None, 4, 4, 84)     0           batch_normalization_36[0][0]     \n",
            "__________________________________________________________________________________________________\n",
            "conv2d_37 (Conv2D)              (None, 4, 4, 21)     15876       activation_36[0][0]              \n",
            "__________________________________________________________________________________________________\n",
            "concatenate_33 (Concatenate)    (None, 4, 4, 105)    0           concatenate_32[0][0]             \n",
            "                                                                 conv2d_37[0][0]                  \n",
            "__________________________________________________________________________________________________\n",
            "batch_normalization_37 (BatchNo (None, 4, 4, 105)    420         concatenate_33[0][0]             \n",
            "__________________________________________________________________________________________________\n",
            "activation_37 (Activation)      (None, 4, 4, 105)    0           batch_normalization_37[0][0]     \n",
            "__________________________________________________________________________________________________\n",
            "conv2d_38 (Conv2D)              (None, 4, 4, 21)     19845       activation_37[0][0]              \n",
            "__________________________________________________________________________________________________\n",
            "concatenate_34 (Concatenate)    (None, 4, 4, 126)    0           concatenate_33[0][0]             \n",
            "                                                                 conv2d_38[0][0]                  \n",
            "__________________________________________________________________________________________________\n",
            "batch_normalization_38 (BatchNo (None, 4, 4, 126)    504         concatenate_34[0][0]             \n",
            "__________________________________________________________________________________________________\n",
            "activation_38 (Activation)      (None, 4, 4, 126)    0           batch_normalization_38[0][0]     \n",
            "__________________________________________________________________________________________________\n",
            "conv2d_39 (Conv2D)              (None, 4, 4, 21)     23814       activation_38[0][0]              \n",
            "__________________________________________________________________________________________________\n",
            "concatenate_35 (Concatenate)    (None, 4, 4, 147)    0           concatenate_34[0][0]             \n",
            "                                                                 conv2d_39[0][0]                  \n",
            "__________________________________________________________________________________________________\n",
            "batch_normalization_39 (BatchNo (None, 4, 4, 147)    588         concatenate_35[0][0]             \n",
            "__________________________________________________________________________________________________\n",
            "activation_39 (Activation)      (None, 4, 4, 147)    0           batch_normalization_39[0][0]     \n",
            "__________________________________________________________________________________________________\n",
            "conv2d_40 (Conv2D)              (None, 4, 4, 21)     27783       activation_39[0][0]              \n",
            "__________________________________________________________________________________________________\n",
            "concatenate_36 (Concatenate)    (None, 4, 4, 168)    0           concatenate_35[0][0]             \n",
            "                                                                 conv2d_40[0][0]                  \n",
            "__________________________________________________________________________________________________\n",
            "batch_normalization_40 (BatchNo (None, 4, 4, 168)    672         concatenate_36[0][0]             \n",
            "__________________________________________________________________________________________________\n",
            "activation_40 (Activation)      (None, 4, 4, 168)    0           batch_normalization_40[0][0]     \n",
            "__________________________________________________________________________________________________\n",
            "conv2d_41 (Conv2D)              (None, 4, 4, 21)     31752       activation_40[0][0]              \n",
            "__________________________________________________________________________________________________\n",
            "concatenate_37 (Concatenate)    (None, 4, 4, 189)    0           concatenate_36[0][0]             \n",
            "                                                                 conv2d_41[0][0]                  \n",
            "__________________________________________________________________________________________________\n",
            "batch_normalization_41 (BatchNo (None, 4, 4, 189)    756         concatenate_37[0][0]             \n",
            "__________________________________________________________________________________________________\n",
            "activation_41 (Activation)      (None, 4, 4, 189)    0           batch_normalization_41[0][0]     \n",
            "__________________________________________________________________________________________________\n",
            "conv2d_42 (Conv2D)              (None, 4, 4, 21)     35721       activation_41[0][0]              \n",
            "__________________________________________________________________________________________________\n",
            "concatenate_38 (Concatenate)    (None, 4, 4, 210)    0           concatenate_37[0][0]             \n",
            "                                                                 conv2d_42[0][0]                  \n",
            "__________________________________________________________________________________________________\n",
            "batch_normalization_42 (BatchNo (None, 4, 4, 210)    840         concatenate_38[0][0]             \n",
            "__________________________________________________________________________________________________\n",
            "activation_42 (Activation)      (None, 4, 4, 210)    0           batch_normalization_42[0][0]     \n",
            "__________________________________________________________________________________________________\n",
            "conv2d_43 (Conv2D)              (None, 4, 4, 21)     39690       activation_42[0][0]              \n",
            "__________________________________________________________________________________________________\n",
            "concatenate_39 (Concatenate)    (None, 4, 4, 231)    0           concatenate_38[0][0]             \n",
            "                                                                 conv2d_43[0][0]                  \n",
            "__________________________________________________________________________________________________\n",
            "batch_normalization_43 (BatchNo (None, 4, 4, 231)    924         concatenate_39[0][0]             \n",
            "__________________________________________________________________________________________________\n",
            "activation_43 (Activation)      (None, 4, 4, 231)    0           batch_normalization_43[0][0]     \n",
            "__________________________________________________________________________________________________\n",
            "average_pooling2d_3 (AveragePoo (None, 2, 2, 231)    0           activation_43[0][0]              \n",
            "__________________________________________________________________________________________________\n",
            "one_cross_one_convoulution (Con (None, 2, 2, 10)     2320        average_pooling2d_3[0][0]        \n",
            "__________________________________________________________________________________________________\n",
            "globalpooling (GlobalMaxPooling (None, 10)           0           one_cross_one_convoulution[0][0] \n",
            "__________________________________________________________________________________________________\n",
            "activation_44 (Activation)      (None, 10)           0           globalpooling[0][0]              \n",
            "==================================================================================================\n",
            "Total params: 998,149\n",
            "Trainable params: 986,115\n",
            "Non-trainable params: 12,034\n",
            "__________________________________________________________________________________________________\n"
          ]
        }
      ],
      "source": [
        "model = Model(inputs=[input], outputs=[output])\n",
        "model.summary()"
      ]
    },
    {
      "cell_type": "code",
      "execution_count": null,
      "metadata": {
        "id": "FP2wmIkVtMiQ"
      },
      "outputs": [],
      "source": [
        "# determine Loss function and Optimizer\n",
        "model.compile(loss='categorical_crossentropy',\n",
        "              optimizer=tf.keras.optimizers.Nadam(learning_rate =  0.001),\n",
        "              # optimizer = tf.keras.optimizers.Adam(learning_rate = 0.001, ),\n",
        "              #optimizer=tf.keras.optimizers.SGD( momentum = 0.9, nesterov = True),\n",
        "              metrics=['accuracy'])"
      ]
    },
    {
      "cell_type": "code",
      "execution_count": null,
      "metadata": {
        "colab": {
          "base_uri": "https://localhost:8080/",
          "height": 33
        },
        "id": "wCQv6hSaEPrd",
        "outputId": "9e4de2fd-6497-4c40-efc5-3aea534e4a16"
      },
      "outputs": [
        {
          "data": {
            "text/plain": [
              "'/content/drive/My Drive'"
            ]
          },
          "execution_count": 21,
          "metadata": {
            "tags": []
          },
          "output_type": "execute_result"
        }
      ],
      "source": [
        "os.getcwd()"
      ]
    },
    {
      "cell_type": "code",
      "execution_count": null,
      "metadata": {
        "colab": {
          "base_uri": "https://localhost:8080/",
          "height": 33
        },
        "id": "6M2dRrKFcVxN",
        "outputId": "a7246e1d-bb63-444d-96bf-08da3742a10d"
      },
      "outputs": [
        {
          "name": "stdout",
          "output_type": "stream",
          "text": [
            "WARNING:tensorflow:`write_grads` will be ignored in TensorFlow 2.0 for the `TensorBoard` Callback.\n"
          ]
        }
      ],
      "source": [
        "import datetime\n",
        "log_dir=\"logs/fit1/\" + datetime.datetime.now().strftime(\"%Y%m%d-%H%M%S\")\n",
        "tensorboard_callback = tf.keras.callbacks.TensorBoard(log_dir=log_dir, histogram_freq=1, write_graph=True,write_grads=True)"
      ]
    },
    {
      "cell_type": "code",
      "execution_count": null,
      "metadata": {
        "id": "ZWxn5aCiagkk"
      },
      "outputs": [],
      "source": [
        "def lr_schedule(epoch, lr = 0.003):\n",
        "    '''Takes in the epoch and learning rate and returns the modified learning rate based on the epoch count\n",
        "    '''\n",
        "    if epoch > 250:\n",
        "        lr = 0.00006\n",
        "    elif epoch > 125:\n",
        "        lr = 0.0003\n",
        "    elif epoch <125:\n",
        "      lr = 0.001\n",
        "    return lr\n",
        "\n",
        "lr_scheduler = tf.keras.callbacks.LearningRateScheduler(lr_schedule)"
      ]
    },
    {
      "cell_type": "code",
      "execution_count": null,
      "metadata": {
        "id": "qna4iZWKJUBz"
      },
      "outputs": [],
      "source": [
        "filepath=\"./checkpoint/weights-{epoch:02d}-{val_accuracy:.4f}.hdf5\"\n",
        "checkpoint = tf.keras.callbacks.ModelCheckpoint(filepath, monitor='val_accuracy', verbose=1, save_best_only=True, save_weights_only=True ,  mode='max')"
      ]
    },
    {
      "cell_type": "code",
      "execution_count": null,
      "metadata": {
        "id": "W-MHIxwdxc3s"
      },
      "outputs": [],
      "source": [
        "class MyThresholdCallback(tf.keras.callbacks.Callback):\n",
        "    ''' Inherits from the tf.keras.callbacks.Callbacks\n",
        "        Functionality :: It stops the model training when either of Two following conditions are met  ::\n",
        "        \n",
        "        1) The difference between  ( Train and Test accuracy is  2%) and ( Test accuracy is >= The threshold value set)\n",
        "        \n",
        "        2) When the model's Test accuracy is >= to the Set Threshold value desired.\n",
        "        \n",
        "    '''\n",
        "\n",
        "    def __init__(self, threshold):\n",
        "        super(MyThresholdCallback, self).__init__()\n",
        "        self.threshold = threshold\n",
        "\n",
        "    def on_epoch_end(self, epoch, logs=None): \n",
        "        test_accuracy = logs[\"val_accuracy\"]\n",
        "        train_accuracy = logs['accuracy']\n",
        "        if test_accuracy >= self.threshold   and  ( abs(train_accuracy - test_accuracy) < 2 )  :\n",
        "            print('###' * 15)\n",
        "            print('Stopping model training as objectives are met , difference between train and test = 2% !!')\n",
        "            print('###' * 15)\n",
        "            self.model.stop_training = True\n",
        "\n",
        "        elif  test_accuracy >= self.threshold :\n",
        "            print('###' * 15)\n",
        "            print('Stopping model training as objectives are met !!')\n",
        "            print('###' * 15)\n",
        "            self.model.stop_training = True\n",
        "\n",
        "stop_training =MyThresholdCallback(  threshold = 0.9  )                   # Setting a threshold of 90%  as that is out objective"
      ]
    },
    {
      "cell_type": "code",
      "execution_count": null,
      "metadata": {
        "id": "PsEc8uLxVo6z"
      },
      "outputs": [],
      "source": [
        "# How to save model in tensorflow\n",
        "# https://www.tensorflow.org/api_docs/python/tf/keras/models/save_model"
      ]
    },
    {
      "cell_type": "code",
      "execution_count": null,
      "metadata": {
        "colab": {
          "base_uri": "https://localhost:8080/",
          "height": 1000
        },
        "id": "cJMsD20QZZoP",
        "outputId": "770b971e-4112-47ef-aaf6-bdbcbb2acbc7"
      },
      "outputs": [
        {
          "name": "stdout",
          "output_type": "stream",
          "text": [
            "781 156\n",
            "WARNING:tensorflow:From <ipython-input-27-3bf971a532d2>:8: Model.fit_generator (from tensorflow.python.keras.engine.training) is deprecated and will be removed in a future version.\n",
            "Instructions for updating:\n",
            "Please use Model.fit, which supports generators.\n",
            "Epoch 1/300\n",
            "  2/781 [..............................] - ETA: 3:00 - loss: 2.5187 - accuracy: 0.0781WARNING:tensorflow:Method (on_train_batch_end) is slow compared to the batch update (0.184666). Check your callbacks.\n",
            "781/781 [==============================] - ETA: 0s - loss: 1.3496 - accuracy: 0.5298\n",
            "Epoch 00001: val_accuracy improved from -inf to 0.60086, saving model to ./checkpoint/weights-01-0.6009.hdf5\n",
            "781/781 [==============================] - 68s 87ms/step - loss: 1.3496 - accuracy: 0.5298 - val_loss: 1.2035 - val_accuracy: 0.6009 - lr: 0.0010\n",
            "Epoch 2/300\n",
            "781/781 [==============================] - ETA: 0s - loss: 0.9303 - accuracy: 0.6869\n",
            "Epoch 00002: val_accuracy improved from 0.60086 to 0.63131, saving model to ./checkpoint/weights-02-0.6313.hdf5\n",
            "781/781 [==============================] - 67s 85ms/step - loss: 0.9303 - accuracy: 0.6869 - val_loss: 1.1814 - val_accuracy: 0.6313 - lr: 0.0010\n",
            "Epoch 3/300\n",
            "781/781 [==============================] - ETA: 0s - loss: 0.7796 - accuracy: 0.7413\n",
            "Epoch 00003: val_accuracy improved from 0.63131 to 0.72927, saving model to ./checkpoint/weights-03-0.7293.hdf5\n",
            "781/781 [==============================] - 67s 85ms/step - loss: 0.7796 - accuracy: 0.7413 - val_loss: 0.8369 - val_accuracy: 0.7293 - lr: 0.0010\n",
            "Epoch 4/300\n",
            "781/781 [==============================] - ETA: 0s - loss: 0.6925 - accuracy: 0.7730\n",
            "Epoch 00004: val_accuracy improved from 0.72927 to 0.73347, saving model to ./checkpoint/weights-04-0.7335.hdf5\n",
            "781/781 [==============================] - 67s 85ms/step - loss: 0.6925 - accuracy: 0.7730 - val_loss: 0.8042 - val_accuracy: 0.7335 - lr: 0.0010\n",
            "Epoch 5/300\n",
            "781/781 [==============================] - ETA: 0s - loss: 0.6281 - accuracy: 0.7919\n",
            "Epoch 00005: val_accuracy improved from 0.73347 to 0.77604, saving model to ./checkpoint/weights-05-0.7760.hdf5\n",
            "781/781 [==============================] - 67s 85ms/step - loss: 0.6281 - accuracy: 0.7919 - val_loss: 0.6850 - val_accuracy: 0.7760 - lr: 0.0010\n",
            "Epoch 6/300\n",
            "781/781 [==============================] - ETA: 0s - loss: 0.5805 - accuracy: 0.8100\n",
            "Epoch 00006: val_accuracy did not improve from 0.77604\n",
            "781/781 [==============================] - 67s 85ms/step - loss: 0.5805 - accuracy: 0.8100 - val_loss: 0.9819 - val_accuracy: 0.6917 - lr: 0.0010\n",
            "Epoch 7/300\n",
            "781/781 [==============================] - ETA: 0s - loss: 0.5408 - accuracy: 0.8220\n",
            "Epoch 00007: val_accuracy improved from 0.77604 to 0.79137, saving model to ./checkpoint/weights-07-0.7914.hdf5\n",
            "781/781 [==============================] - 67s 86ms/step - loss: 0.5408 - accuracy: 0.8220 - val_loss: 0.6543 - val_accuracy: 0.7914 - lr: 0.0010\n",
            "Epoch 8/300\n",
            "781/781 [==============================] - ETA: 0s - loss: 0.5045 - accuracy: 0.8345\n",
            "Epoch 00008: val_accuracy did not improve from 0.79137\n",
            "781/781 [==============================] - 67s 86ms/step - loss: 0.5045 - accuracy: 0.8345 - val_loss: 0.6893 - val_accuracy: 0.7769 - lr: 0.0010\n",
            "Epoch 9/300\n",
            "781/781 [==============================] - ETA: 0s - loss: 0.4745 - accuracy: 0.8451\n",
            "Epoch 00009: val_accuracy improved from 0.79137 to 0.81921, saving model to ./checkpoint/weights-09-0.8192.hdf5\n",
            "781/781 [==============================] - 68s 88ms/step - loss: 0.4745 - accuracy: 0.8451 - val_loss: 0.5605 - val_accuracy: 0.8192 - lr: 0.0010\n",
            "Epoch 10/300\n",
            "781/781 [==============================] - ETA: 0s - loss: 0.4476 - accuracy: 0.8539\n",
            "Epoch 00010: val_accuracy did not improve from 0.81921\n",
            "781/781 [==============================] - 68s 87ms/step - loss: 0.4476 - accuracy: 0.8539 - val_loss: 0.6285 - val_accuracy: 0.7967 - lr: 0.0010\n",
            "Epoch 11/300\n",
            "781/781 [==============================] - ETA: 0s - loss: 0.4281 - accuracy: 0.8605\n",
            "Epoch 00011: val_accuracy improved from 0.81921 to 0.83013, saving model to ./checkpoint/weights-11-0.8301.hdf5\n",
            "781/781 [==============================] - 68s 87ms/step - loss: 0.4281 - accuracy: 0.8605 - val_loss: 0.5238 - val_accuracy: 0.8301 - lr: 0.0010\n",
            "Epoch 12/300\n",
            "781/781 [==============================] - ETA: 0s - loss: 0.4070 - accuracy: 0.8670\n",
            "Epoch 00012: val_accuracy did not improve from 0.83013\n",
            "781/781 [==============================] - 68s 87ms/step - loss: 0.4070 - accuracy: 0.8670 - val_loss: 0.5922 - val_accuracy: 0.8168 - lr: 0.0010\n",
            "Epoch 13/300\n",
            "781/781 [==============================] - ETA: 0s - loss: 0.3871 - accuracy: 0.8734\n",
            "Epoch 00013: val_accuracy did not improve from 0.83013\n",
            "781/781 [==============================] - 69s 88ms/step - loss: 0.3871 - accuracy: 0.8734 - val_loss: 0.5504 - val_accuracy: 0.8220 - lr: 0.0010\n",
            "Epoch 14/300\n",
            "781/781 [==============================] - ETA: 0s - loss: 0.3754 - accuracy: 0.8764\n",
            "Epoch 00014: val_accuracy did not improve from 0.83013\n",
            "781/781 [==============================] - 68s 87ms/step - loss: 0.3754 - accuracy: 0.8764 - val_loss: 0.5953 - val_accuracy: 0.8099 - lr: 0.0010\n",
            "Epoch 15/300\n",
            "781/781 [==============================] - ETA: 0s - loss: 0.3571 - accuracy: 0.8817\n",
            "Epoch 00015: val_accuracy improved from 0.83013 to 0.83574, saving model to ./checkpoint/weights-15-0.8357.hdf5\n",
            "781/781 [==============================] - 68s 87ms/step - loss: 0.3571 - accuracy: 0.8817 - val_loss: 0.5114 - val_accuracy: 0.8357 - lr: 0.0010\n",
            "Epoch 16/300\n",
            "781/781 [==============================] - ETA: 0s - loss: 0.3440 - accuracy: 0.8862\n",
            "Epoch 00016: val_accuracy did not improve from 0.83574\n",
            "781/781 [==============================] - 68s 86ms/step - loss: 0.3440 - accuracy: 0.8862 - val_loss: 0.5304 - val_accuracy: 0.8282 - lr: 0.0010\n",
            "Epoch 17/300\n",
            "781/781 [==============================] - ETA: 0s - loss: 0.3263 - accuracy: 0.8925\n",
            "Epoch 00017: val_accuracy improved from 0.83574 to 0.84295, saving model to ./checkpoint/weights-17-0.8429.hdf5\n",
            "781/781 [==============================] - 68s 87ms/step - loss: 0.3263 - accuracy: 0.8925 - val_loss: 0.4941 - val_accuracy: 0.8429 - lr: 0.0010\n",
            "Epoch 18/300\n",
            "781/781 [==============================] - ETA: 0s - loss: 0.3113 - accuracy: 0.8962\n",
            "Epoch 00018: val_accuracy improved from 0.84295 to 0.84696, saving model to ./checkpoint/weights-18-0.8470.hdf5\n",
            "781/781 [==============================] - 68s 87ms/step - loss: 0.3113 - accuracy: 0.8962 - val_loss: 0.4705 - val_accuracy: 0.8470 - lr: 0.0010\n",
            "Epoch 19/300\n",
            "781/781 [==============================] - ETA: 0s - loss: 0.3033 - accuracy: 0.8986\n",
            "Epoch 00019: val_accuracy improved from 0.84696 to 0.85707, saving model to ./checkpoint/weights-19-0.8571.hdf5\n",
            "781/781 [==============================] - 68s 87ms/step - loss: 0.3033 - accuracy: 0.8986 - val_loss: 0.4511 - val_accuracy: 0.8571 - lr: 0.0010\n",
            "Epoch 20/300\n",
            "781/781 [==============================] - ETA: 0s - loss: 0.2927 - accuracy: 0.9032\n",
            "Epoch 00020: val_accuracy did not improve from 0.85707\n",
            "781/781 [==============================] - 68s 87ms/step - loss: 0.2927 - accuracy: 0.9032 - val_loss: 0.5141 - val_accuracy: 0.8380 - lr: 0.0010\n",
            "Epoch 21/300\n",
            "781/781 [==============================] - ETA: 0s - loss: 0.2854 - accuracy: 0.9048\n",
            "Epoch 00021: val_accuracy did not improve from 0.85707\n",
            "781/781 [==============================] - 67s 86ms/step - loss: 0.2854 - accuracy: 0.9048 - val_loss: 0.4592 - val_accuracy: 0.8545 - lr: 0.0010\n",
            "Epoch 22/300\n",
            "781/781 [==============================] - ETA: 0s - loss: 0.2719 - accuracy: 0.9094\n",
            "Epoch 00022: val_accuracy did not improve from 0.85707\n",
            "781/781 [==============================] - 67s 86ms/step - loss: 0.2719 - accuracy: 0.9094 - val_loss: 0.4732 - val_accuracy: 0.8497 - lr: 0.0010\n",
            "Epoch 23/300\n",
            "781/781 [==============================] - ETA: 0s - loss: 0.2616 - accuracy: 0.9126\n",
            "Epoch 00023: val_accuracy improved from 0.85707 to 0.86238, saving model to ./checkpoint/weights-23-0.8624.hdf5\n",
            "781/781 [==============================] - 67s 86ms/step - loss: 0.2616 - accuracy: 0.9126 - val_loss: 0.4389 - val_accuracy: 0.8624 - lr: 0.0010\n",
            "Epoch 24/300\n",
            "781/781 [==============================] - ETA: 0s - loss: 0.2542 - accuracy: 0.9154\n",
            "Epoch 00024: val_accuracy improved from 0.86238 to 0.86799, saving model to ./checkpoint/weights-24-0.8680.hdf5\n",
            "781/781 [==============================] - 67s 86ms/step - loss: 0.2542 - accuracy: 0.9154 - val_loss: 0.4098 - val_accuracy: 0.8680 - lr: 0.0010\n",
            "Epoch 25/300\n",
            "781/781 [==============================] - ETA: 0s - loss: 0.2510 - accuracy: 0.9160\n",
            "Epoch 00025: val_accuracy did not improve from 0.86799\n",
            "781/781 [==============================] - 67s 86ms/step - loss: 0.2510 - accuracy: 0.9160 - val_loss: 0.4833 - val_accuracy: 0.8539 - lr: 0.0010\n",
            "Epoch 26/300\n",
            "781/781 [==============================] - ETA: 0s - loss: 0.2411 - accuracy: 0.9195\n",
            "Epoch 00026: val_accuracy did not improve from 0.86799\n",
            "781/781 [==============================] - 67s 86ms/step - loss: 0.2411 - accuracy: 0.9195 - val_loss: 0.4399 - val_accuracy: 0.8574 - lr: 0.0010\n",
            "Epoch 27/300\n",
            "781/781 [==============================] - ETA: 0s - loss: 0.2309 - accuracy: 0.9224\n",
            "Epoch 00027: val_accuracy did not improve from 0.86799\n",
            "781/781 [==============================] - 67s 86ms/step - loss: 0.2309 - accuracy: 0.9224 - val_loss: 0.4429 - val_accuracy: 0.8603 - lr: 0.0010\n",
            "Epoch 28/300\n",
            "781/781 [==============================] - ETA: 0s - loss: 0.2261 - accuracy: 0.9252\n",
            "Epoch 00028: val_accuracy did not improve from 0.86799\n",
            "781/781 [==============================] - 67s 85ms/step - loss: 0.2261 - accuracy: 0.9252 - val_loss: 0.4277 - val_accuracy: 0.8582 - lr: 0.0010\n",
            "Epoch 29/300\n",
            "781/781 [==============================] - ETA: 0s - loss: 0.2174 - accuracy: 0.9266\n",
            "Epoch 00029: val_accuracy did not improve from 0.86799\n",
            "781/781 [==============================] - 67s 85ms/step - loss: 0.2174 - accuracy: 0.9266 - val_loss: 0.4451 - val_accuracy: 0.8625 - lr: 0.0010\n",
            "Epoch 30/300\n",
            "781/781 [==============================] - ETA: 0s - loss: 0.2089 - accuracy: 0.9290\n",
            "Epoch 00030: val_accuracy did not improve from 0.86799\n",
            "781/781 [==============================] - 67s 86ms/step - loss: 0.2089 - accuracy: 0.9290 - val_loss: 0.5114 - val_accuracy: 0.8496 - lr: 0.0010\n",
            "Epoch 31/300\n",
            "781/781 [==============================] - ETA: 0s - loss: 0.2060 - accuracy: 0.9310\n",
            "Epoch 00031: val_accuracy did not improve from 0.86799\n",
            "781/781 [==============================] - 67s 86ms/step - loss: 0.2060 - accuracy: 0.9310 - val_loss: 0.5639 - val_accuracy: 0.8411 - lr: 0.0010\n",
            "Epoch 32/300\n",
            "781/781 [==============================] - ETA: 0s - loss: 0.1973 - accuracy: 0.9330\n",
            "Epoch 00032: val_accuracy did not improve from 0.86799\n",
            "781/781 [==============================] - 68s 87ms/step - loss: 0.1973 - accuracy: 0.9330 - val_loss: 0.4723 - val_accuracy: 0.8587 - lr: 0.0010\n",
            "Epoch 33/300\n",
            "781/781 [==============================] - ETA: 0s - loss: 0.1897 - accuracy: 0.9370\n",
            "Epoch 00033: val_accuracy did not improve from 0.86799\n",
            "781/781 [==============================] - 67s 86ms/step - loss: 0.1897 - accuracy: 0.9370 - val_loss: 0.4509 - val_accuracy: 0.8662 - lr: 0.0010\n",
            "Epoch 34/300\n",
            "781/781 [==============================] - ETA: 0s - loss: 0.1829 - accuracy: 0.9384\n",
            "Epoch 00034: val_accuracy improved from 0.86799 to 0.87190, saving model to ./checkpoint/weights-34-0.8719.hdf5\n",
            "781/781 [==============================] - 68s 87ms/step - loss: 0.1829 - accuracy: 0.9384 - val_loss: 0.4428 - val_accuracy: 0.8719 - lr: 0.0010\n",
            "Epoch 35/300\n",
            "781/781 [==============================] - ETA: 0s - loss: 0.1833 - accuracy: 0.9389\n",
            "Epoch 00035: val_accuracy did not improve from 0.87190\n",
            "781/781 [==============================] - 68s 86ms/step - loss: 0.1833 - accuracy: 0.9389 - val_loss: 0.4520 - val_accuracy: 0.8650 - lr: 0.0010\n",
            "Epoch 36/300\n",
            "781/781 [==============================] - ETA: 0s - loss: 0.1760 - accuracy: 0.9413\n",
            "Epoch 00036: val_accuracy did not improve from 0.87190\n",
            "781/781 [==============================] - 67s 86ms/step - loss: 0.1760 - accuracy: 0.9413 - val_loss: 0.4743 - val_accuracy: 0.8607 - lr: 0.0010\n",
            "Epoch 37/300\n",
            "781/781 [==============================] - ETA: 0s - loss: 0.1709 - accuracy: 0.9431\n",
            "Epoch 00037: val_accuracy did not improve from 0.87190\n",
            "781/781 [==============================] - 68s 87ms/step - loss: 0.1709 - accuracy: 0.9431 - val_loss: 0.4976 - val_accuracy: 0.8592 - lr: 0.0010\n",
            "Epoch 38/300\n",
            "781/781 [==============================] - ETA: 0s - loss: 0.1644 - accuracy: 0.9444\n",
            "Epoch 00038: val_accuracy did not improve from 0.87190\n",
            "781/781 [==============================] - 67s 86ms/step - loss: 0.1644 - accuracy: 0.9444 - val_loss: 0.5366 - val_accuracy: 0.8516 - lr: 0.0010\n",
            "Epoch 39/300\n",
            "781/781 [==============================] - ETA: 0s - loss: 0.1618 - accuracy: 0.9455\n",
            "Epoch 00039: val_accuracy did not improve from 0.87190\n",
            "781/781 [==============================] - 67s 86ms/step - loss: 0.1618 - accuracy: 0.9455 - val_loss: 0.4809 - val_accuracy: 0.8629 - lr: 0.0010\n",
            "Epoch 40/300\n",
            "781/781 [==============================] - ETA: 0s - loss: 0.1556 - accuracy: 0.9479\n",
            "Epoch 00040: val_accuracy did not improve from 0.87190\n",
            "781/781 [==============================] - 67s 86ms/step - loss: 0.1556 - accuracy: 0.9479 - val_loss: 0.4627 - val_accuracy: 0.8698 - lr: 0.0010\n",
            "Epoch 41/300\n",
            "781/781 [==============================] - ETA: 0s - loss: 0.1551 - accuracy: 0.9488\n",
            "Epoch 00041: val_accuracy improved from 0.87190 to 0.87470, saving model to ./checkpoint/weights-41-0.8747.hdf5\n",
            "781/781 [==============================] - 67s 86ms/step - loss: 0.1551 - accuracy: 0.9488 - val_loss: 0.4379 - val_accuracy: 0.8747 - lr: 0.0010\n",
            "Epoch 42/300\n",
            "781/781 [==============================] - ETA: 0s - loss: 0.1506 - accuracy: 0.9501\n",
            "Epoch 00042: val_accuracy did not improve from 0.87470\n",
            "781/781 [==============================] - 67s 86ms/step - loss: 0.1506 - accuracy: 0.9501 - val_loss: 0.4706 - val_accuracy: 0.8689 - lr: 0.0010\n",
            "Epoch 43/300\n",
            "781/781 [==============================] - ETA: 0s - loss: 0.1452 - accuracy: 0.9512\n",
            "Epoch 00043: val_accuracy improved from 0.87470 to 0.87851, saving model to ./checkpoint/weights-43-0.8785.hdf5\n",
            "781/781 [==============================] - 67s 86ms/step - loss: 0.1452 - accuracy: 0.9512 - val_loss: 0.4296 - val_accuracy: 0.8785 - lr: 0.0010\n",
            "Epoch 44/300\n",
            "781/781 [==============================] - ETA: 0s - loss: 0.1425 - accuracy: 0.9527\n",
            "Epoch 00044: val_accuracy did not improve from 0.87851\n",
            "781/781 [==============================] - 67s 86ms/step - loss: 0.1425 - accuracy: 0.9527 - val_loss: 0.4421 - val_accuracy: 0.8750 - lr: 0.0010\n",
            "Epoch 45/300\n",
            "781/781 [==============================] - ETA: 0s - loss: 0.1393 - accuracy: 0.9536\n",
            "Epoch 00045: val_accuracy did not improve from 0.87851\n",
            "781/781 [==============================] - 67s 86ms/step - loss: 0.1393 - accuracy: 0.9536 - val_loss: 0.4287 - val_accuracy: 0.8760 - lr: 0.0010\n",
            "Epoch 46/300\n",
            "781/781 [==============================] - ETA: 0s - loss: 0.1369 - accuracy: 0.9548\n",
            "Epoch 00046: val_accuracy did not improve from 0.87851\n",
            "781/781 [==============================] - 67s 85ms/step - loss: 0.1369 - accuracy: 0.9548 - val_loss: 0.4211 - val_accuracy: 0.8769 - lr: 0.0010\n",
            "Epoch 47/300\n",
            "781/781 [==============================] - ETA: 0s - loss: 0.1320 - accuracy: 0.9568\n",
            "Epoch 00047: val_accuracy did not improve from 0.87851\n",
            "781/781 [==============================] - 67s 86ms/step - loss: 0.1320 - accuracy: 0.9568 - val_loss: 0.5639 - val_accuracy: 0.8520 - lr: 0.0010\n",
            "Epoch 48/300\n",
            "781/781 [==============================] - ETA: 0s - loss: 0.1290 - accuracy: 0.9570\n",
            "Epoch 00048: val_accuracy did not improve from 0.87851\n",
            "781/781 [==============================] - 67s 86ms/step - loss: 0.1290 - accuracy: 0.9570 - val_loss: 0.4491 - val_accuracy: 0.8773 - lr: 0.0010\n",
            "Epoch 49/300\n",
            "781/781 [==============================] - ETA: 0s - loss: 0.1266 - accuracy: 0.9586\n",
            "Epoch 00049: val_accuracy did not improve from 0.87851\n",
            "781/781 [==============================] - 67s 86ms/step - loss: 0.1266 - accuracy: 0.9586 - val_loss: 0.4960 - val_accuracy: 0.8694 - lr: 0.0010\n",
            "Epoch 50/300\n",
            "781/781 [==============================] - ETA: 0s - loss: 0.1229 - accuracy: 0.9590\n",
            "Epoch 00050: val_accuracy did not improve from 0.87851\n",
            "781/781 [==============================] - 67s 86ms/step - loss: 0.1229 - accuracy: 0.9590 - val_loss: 0.5054 - val_accuracy: 0.8679 - lr: 0.0010\n",
            "Epoch 51/300\n",
            "781/781 [==============================] - ETA: 0s - loss: 0.1208 - accuracy: 0.9594\n",
            "Epoch 00051: val_accuracy did not improve from 0.87851\n",
            "781/781 [==============================] - 67s 86ms/step - loss: 0.1208 - accuracy: 0.9594 - val_loss: 0.4780 - val_accuracy: 0.8776 - lr: 0.0010\n",
            "Epoch 52/300\n",
            "781/781 [==============================] - ETA: 0s - loss: 0.1197 - accuracy: 0.9601\n",
            "Epoch 00052: val_accuracy did not improve from 0.87851\n",
            "781/781 [==============================] - 67s 86ms/step - loss: 0.1197 - accuracy: 0.9601 - val_loss: 0.4895 - val_accuracy: 0.8699 - lr: 0.0010\n",
            "Epoch 53/300\n",
            "781/781 [==============================] - ETA: 0s - loss: 0.1166 - accuracy: 0.9603\n",
            "Epoch 00053: val_accuracy did not improve from 0.87851\n",
            "781/781 [==============================] - 67s 86ms/step - loss: 0.1166 - accuracy: 0.9603 - val_loss: 0.5490 - val_accuracy: 0.8593 - lr: 0.0010\n",
            "Epoch 54/300\n",
            "781/781 [==============================] - ETA: 0s - loss: 0.1146 - accuracy: 0.9615\n",
            "Epoch 00054: val_accuracy improved from 0.87851 to 0.88652, saving model to ./checkpoint/weights-54-0.8865.hdf5\n",
            "781/781 [==============================] - 67s 86ms/step - loss: 0.1146 - accuracy: 0.9615 - val_loss: 0.4094 - val_accuracy: 0.8865 - lr: 0.0010\n",
            "Epoch 55/300\n",
            "781/781 [==============================] - ETA: 0s - loss: 0.1132 - accuracy: 0.9624\n",
            "Epoch 00055: val_accuracy did not improve from 0.88652\n",
            "781/781 [==============================] - 67s 85ms/step - loss: 0.1132 - accuracy: 0.9624 - val_loss: 0.4770 - val_accuracy: 0.8679 - lr: 0.0010\n",
            "Epoch 56/300\n",
            "781/781 [==============================] - ETA: 0s - loss: 0.1122 - accuracy: 0.9623\n",
            "Epoch 00056: val_accuracy did not improve from 0.88652\n",
            "781/781 [==============================] - 67s 86ms/step - loss: 0.1122 - accuracy: 0.9623 - val_loss: 0.5753 - val_accuracy: 0.8523 - lr: 0.0010\n",
            "Epoch 57/300\n",
            "781/781 [==============================] - ETA: 0s - loss: 0.1093 - accuracy: 0.9639\n",
            "Epoch 00057: val_accuracy did not improve from 0.88652\n",
            "781/781 [==============================] - 67s 86ms/step - loss: 0.1093 - accuracy: 0.9639 - val_loss: 0.4528 - val_accuracy: 0.8754 - lr: 0.0010\n",
            "Epoch 58/300\n",
            "781/781 [==============================] - ETA: 0s - loss: 0.1047 - accuracy: 0.9653\n",
            "Epoch 00058: val_accuracy did not improve from 0.88652\n",
            "781/781 [==============================] - 67s 86ms/step - loss: 0.1047 - accuracy: 0.9653 - val_loss: 0.4683 - val_accuracy: 0.8814 - lr: 0.0010\n",
            "Epoch 59/300\n",
            "781/781 [==============================] - ETA: 0s - loss: 0.1050 - accuracy: 0.9653\n",
            "Epoch 00059: val_accuracy did not improve from 0.88652\n",
            "781/781 [==============================] - 67s 85ms/step - loss: 0.1050 - accuracy: 0.9653 - val_loss: 0.4601 - val_accuracy: 0.8766 - lr: 0.0010\n",
            "Epoch 60/300\n",
            "781/781 [==============================] - ETA: 0s - loss: 0.1052 - accuracy: 0.9653\n",
            "Epoch 00060: val_accuracy did not improve from 0.88652\n",
            "781/781 [==============================] - 67s 86ms/step - loss: 0.1052 - accuracy: 0.9653 - val_loss: 0.4516 - val_accuracy: 0.8810 - lr: 0.0010\n",
            "Epoch 61/300\n",
            "781/781 [==============================] - ETA: 0s - loss: 0.1000 - accuracy: 0.9665\n",
            "Epoch 00061: val_accuracy did not improve from 0.88652\n",
            "781/781 [==============================] - 67s 85ms/step - loss: 0.1000 - accuracy: 0.9665 - val_loss: 0.5341 - val_accuracy: 0.8708 - lr: 0.0010\n",
            "Epoch 62/300\n",
            "781/781 [==============================] - ETA: 0s - loss: 0.0980 - accuracy: 0.9679\n",
            "Epoch 00062: val_accuracy did not improve from 0.88652\n",
            "781/781 [==============================] - 67s 86ms/step - loss: 0.0980 - accuracy: 0.9679 - val_loss: 0.4938 - val_accuracy: 0.8764 - lr: 0.0010\n",
            "Epoch 63/300\n",
            "781/781 [==============================] - ETA: 0s - loss: 0.0976 - accuracy: 0.9678\n",
            "Epoch 00063: val_accuracy did not improve from 0.88652\n",
            "781/781 [==============================] - 67s 85ms/step - loss: 0.0976 - accuracy: 0.9678 - val_loss: 0.4940 - val_accuracy: 0.8736 - lr: 0.0010\n",
            "Epoch 64/300\n",
            "781/781 [==============================] - ETA: 0s - loss: 0.0950 - accuracy: 0.9682\n",
            "Epoch 00064: val_accuracy did not improve from 0.88652\n",
            "781/781 [==============================] - 67s 85ms/step - loss: 0.0950 - accuracy: 0.9682 - val_loss: 0.4814 - val_accuracy: 0.8800 - lr: 0.0010\n",
            "Epoch 65/300\n",
            "781/781 [==============================] - ETA: 0s - loss: 0.0949 - accuracy: 0.9686\n",
            "Epoch 00065: val_accuracy did not improve from 0.88652\n",
            "781/781 [==============================] - 67s 86ms/step - loss: 0.0949 - accuracy: 0.9686 - val_loss: 0.4973 - val_accuracy: 0.8757 - lr: 0.0010\n",
            "Epoch 66/300\n",
            "781/781 [==============================] - ETA: 0s - loss: 0.0906 - accuracy: 0.9706\n",
            "Epoch 00066: val_accuracy did not improve from 0.88652\n",
            "781/781 [==============================] - 67s 86ms/step - loss: 0.0906 - accuracy: 0.9706 - val_loss: 0.5376 - val_accuracy: 0.8696 - lr: 0.0010\n",
            "Epoch 67/300\n",
            "781/781 [==============================] - ETA: 0s - loss: 0.0893 - accuracy: 0.9704\n",
            "Epoch 00067: val_accuracy did not improve from 0.88652\n",
            "781/781 [==============================] - 67s 85ms/step - loss: 0.0893 - accuracy: 0.9704 - val_loss: 0.5060 - val_accuracy: 0.8773 - lr: 0.0010\n",
            "Epoch 68/300\n",
            "781/781 [==============================] - ETA: 0s - loss: 0.0882 - accuracy: 0.9711\n",
            "Epoch 00068: val_accuracy did not improve from 0.88652\n",
            "781/781 [==============================] - 67s 85ms/step - loss: 0.0882 - accuracy: 0.9711 - val_loss: 0.4789 - val_accuracy: 0.8809 - lr: 0.0010\n",
            "Epoch 69/300\n",
            "781/781 [==============================] - ETA: 0s - loss: 0.0897 - accuracy: 0.9705\n",
            "Epoch 00069: val_accuracy did not improve from 0.88652\n",
            "781/781 [==============================] - 67s 86ms/step - loss: 0.0897 - accuracy: 0.9705 - val_loss: 0.5122 - val_accuracy: 0.8765 - lr: 0.0010\n",
            "Epoch 70/300\n",
            "781/781 [==============================] - ETA: 0s - loss: 0.0862 - accuracy: 0.9717\n",
            "Epoch 00070: val_accuracy did not improve from 0.88652\n",
            "781/781 [==============================] - 67s 86ms/step - loss: 0.0862 - accuracy: 0.9717 - val_loss: 0.4512 - val_accuracy: 0.8852 - lr: 0.0010\n",
            "Epoch 71/300\n",
            "781/781 [==============================] - ETA: 0s - loss: 0.0837 - accuracy: 0.9730\n",
            "Epoch 00071: val_accuracy did not improve from 0.88652\n",
            "781/781 [==============================] - 67s 85ms/step - loss: 0.0837 - accuracy: 0.9730 - val_loss: 0.4653 - val_accuracy: 0.8862 - lr: 0.0010\n",
            "Epoch 72/300\n",
            "781/781 [==============================] - ETA: 0s - loss: 0.0806 - accuracy: 0.9733\n",
            "Epoch 00072: val_accuracy did not improve from 0.88652\n",
            "781/781 [==============================] - 67s 86ms/step - loss: 0.0806 - accuracy: 0.9733 - val_loss: 0.5505 - val_accuracy: 0.8681 - lr: 0.0010\n",
            "Epoch 73/300\n",
            "781/781 [==============================] - ETA: 0s - loss: 0.0846 - accuracy: 0.9724\n",
            "Epoch 00073: val_accuracy did not improve from 0.88652\n",
            "781/781 [==============================] - 67s 86ms/step - loss: 0.0846 - accuracy: 0.9724 - val_loss: 0.4807 - val_accuracy: 0.8804 - lr: 0.0010\n",
            "Epoch 74/300\n",
            "781/781 [==============================] - ETA: 0s - loss: 0.0818 - accuracy: 0.9733\n",
            "Epoch 00074: val_accuracy improved from 0.88652 to 0.88972, saving model to ./checkpoint/weights-74-0.8897.hdf5\n",
            "781/781 [==============================] - 67s 86ms/step - loss: 0.0818 - accuracy: 0.9733 - val_loss: 0.4483 - val_accuracy: 0.8897 - lr: 0.0010\n",
            "Epoch 75/300\n",
            "781/781 [==============================] - ETA: 0s - loss: 0.0806 - accuracy: 0.9740\n",
            "Epoch 00075: val_accuracy did not improve from 0.88972\n",
            "781/781 [==============================] - 67s 86ms/step - loss: 0.0806 - accuracy: 0.9740 - val_loss: 0.4795 - val_accuracy: 0.8865 - lr: 0.0010\n",
            "Epoch 76/300\n",
            "781/781 [==============================] - ETA: 0s - loss: 0.0808 - accuracy: 0.9729\n",
            "Epoch 00076: val_accuracy did not improve from 0.88972\n",
            "781/781 [==============================] - 67s 86ms/step - loss: 0.0808 - accuracy: 0.9729 - val_loss: 0.5043 - val_accuracy: 0.8818 - lr: 0.0010\n",
            "Epoch 77/300\n",
            "781/781 [==============================] - ETA: 0s - loss: 0.0803 - accuracy: 0.9738\n",
            "Epoch 00077: val_accuracy did not improve from 0.88972\n",
            "781/781 [==============================] - 67s 86ms/step - loss: 0.0803 - accuracy: 0.9738 - val_loss: 0.4731 - val_accuracy: 0.8884 - lr: 0.0010\n",
            "Epoch 78/300\n",
            "781/781 [==============================] - ETA: 0s - loss: 0.0775 - accuracy: 0.9743\n",
            "Epoch 00078: val_accuracy did not improve from 0.88972\n",
            "781/781 [==============================] - 67s 86ms/step - loss: 0.0775 - accuracy: 0.9743 - val_loss: 0.4918 - val_accuracy: 0.8831 - lr: 0.0010\n",
            "Epoch 79/300\n",
            "781/781 [==============================] - ETA: 0s - loss: 0.0738 - accuracy: 0.9759\n",
            "Epoch 00079: val_accuracy did not improve from 0.88972\n",
            "781/781 [==============================] - 67s 86ms/step - loss: 0.0738 - accuracy: 0.9759 - val_loss: 0.5058 - val_accuracy: 0.8788 - lr: 0.0010\n",
            "Epoch 80/300\n",
            "781/781 [==============================] - ETA: 0s - loss: 0.0753 - accuracy: 0.9755\n",
            "Epoch 00080: val_accuracy did not improve from 0.88972\n",
            "781/781 [==============================] - 67s 85ms/step - loss: 0.0753 - accuracy: 0.9755 - val_loss: 0.5422 - val_accuracy: 0.8775 - lr: 0.0010\n",
            "Epoch 81/300\n",
            "781/781 [==============================] - ETA: 0s - loss: 0.0725 - accuracy: 0.9766\n",
            "Epoch 00081: val_accuracy did not improve from 0.88972\n",
            "781/781 [==============================] - 67s 86ms/step - loss: 0.0725 - accuracy: 0.9766 - val_loss: 0.5316 - val_accuracy: 0.8827 - lr: 0.0010\n",
            "Epoch 82/300\n",
            "781/781 [==============================] - ETA: 0s - loss: 0.0729 - accuracy: 0.9764\n",
            "Epoch 00082: val_accuracy did not improve from 0.88972\n",
            "781/781 [==============================] - 67s 86ms/step - loss: 0.0729 - accuracy: 0.9764 - val_loss: 0.4976 - val_accuracy: 0.8859 - lr: 0.0010\n",
            "Epoch 83/300\n",
            "781/781 [==============================] - ETA: 0s - loss: 0.0713 - accuracy: 0.9771\n",
            "Epoch 00083: val_accuracy did not improve from 0.88972\n",
            "781/781 [==============================] - 67s 86ms/step - loss: 0.0713 - accuracy: 0.9771 - val_loss: 0.4927 - val_accuracy: 0.8891 - lr: 0.0010\n",
            "Epoch 84/300\n",
            "781/781 [==============================] - ETA: 0s - loss: 0.0686 - accuracy: 0.9780\n",
            "Epoch 00084: val_accuracy improved from 0.88972 to 0.89093, saving model to ./checkpoint/weights-84-0.8909.hdf5\n",
            "781/781 [==============================] - 67s 86ms/step - loss: 0.0686 - accuracy: 0.9780 - val_loss: 0.4783 - val_accuracy: 0.8909 - lr: 0.0010\n",
            "Epoch 85/300\n",
            "781/781 [==============================] - ETA: 0s - loss: 0.0719 - accuracy: 0.9767\n",
            "Epoch 00085: val_accuracy did not improve from 0.89093\n",
            "781/781 [==============================] - 67s 86ms/step - loss: 0.0719 - accuracy: 0.9767 - val_loss: 0.4970 - val_accuracy: 0.8813 - lr: 0.0010\n",
            "Epoch 86/300\n",
            "781/781 [==============================] - ETA: 0s - loss: 0.0723 - accuracy: 0.9767\n",
            "Epoch 00086: val_accuracy did not improve from 0.89093\n",
            "781/781 [==============================] - 67s 86ms/step - loss: 0.0723 - accuracy: 0.9767 - val_loss: 0.5032 - val_accuracy: 0.8895 - lr: 0.0010\n",
            "Epoch 87/300\n",
            "781/781 [==============================] - ETA: 0s - loss: 0.0669 - accuracy: 0.9779\n",
            "Epoch 00087: val_accuracy improved from 0.89093 to 0.89113, saving model to ./checkpoint/weights-87-0.8911.hdf5\n",
            "781/781 [==============================] - 67s 86ms/step - loss: 0.0669 - accuracy: 0.9779 - val_loss: 0.4799 - val_accuracy: 0.8911 - lr: 0.0010\n",
            "Epoch 88/300\n",
            "781/781 [==============================] - ETA: 0s - loss: 0.0644 - accuracy: 0.9793\n",
            "Epoch 00088: val_accuracy did not improve from 0.89113\n",
            "781/781 [==============================] - 67s 86ms/step - loss: 0.0644 - accuracy: 0.9793 - val_loss: 0.4758 - val_accuracy: 0.8907 - lr: 0.0010\n",
            "Epoch 89/300\n",
            "781/781 [==============================] - ETA: 0s - loss: 0.0691 - accuracy: 0.9773\n",
            "Epoch 00089: val_accuracy did not improve from 0.89113\n",
            "781/781 [==============================] - 67s 86ms/step - loss: 0.0691 - accuracy: 0.9773 - val_loss: 0.5227 - val_accuracy: 0.8827 - lr: 0.0010\n",
            "Epoch 90/300\n",
            "781/781 [==============================] - ETA: 0s - loss: 0.0641 - accuracy: 0.9794\n",
            "Epoch 00090: val_accuracy did not improve from 0.89113\n",
            "781/781 [==============================] - 67s 86ms/step - loss: 0.0641 - accuracy: 0.9794 - val_loss: 0.5130 - val_accuracy: 0.8850 - lr: 0.0010\n",
            "Epoch 91/300\n",
            "781/781 [==============================] - ETA: 0s - loss: 0.0680 - accuracy: 0.9778\n",
            "Epoch 00091: val_accuracy improved from 0.89113 to 0.89353, saving model to ./checkpoint/weights-91-0.8935.hdf5\n",
            "781/781 [==============================] - 67s 86ms/step - loss: 0.0680 - accuracy: 0.9778 - val_loss: 0.4676 - val_accuracy: 0.8935 - lr: 0.0010\n",
            "Epoch 92/300\n",
            "781/781 [==============================] - ETA: 0s - loss: 0.0637 - accuracy: 0.9794\n",
            "Epoch 00092: val_accuracy did not improve from 0.89353\n",
            "781/781 [==============================] - 67s 86ms/step - loss: 0.0637 - accuracy: 0.9794 - val_loss: 0.4897 - val_accuracy: 0.8861 - lr: 0.0010\n",
            "Epoch 93/300\n",
            "781/781 [==============================] - ETA: 0s - loss: 0.0640 - accuracy: 0.9800\n",
            "Epoch 00093: val_accuracy did not improve from 0.89353\n",
            "781/781 [==============================] - 67s 86ms/step - loss: 0.0640 - accuracy: 0.9800 - val_loss: 0.5152 - val_accuracy: 0.8840 - lr: 0.0010\n",
            "Epoch 94/300\n",
            "781/781 [==============================] - ETA: 0s - loss: 0.0648 - accuracy: 0.9794\n",
            "Epoch 00094: val_accuracy did not improve from 0.89353\n",
            "781/781 [==============================] - 67s 86ms/step - loss: 0.0648 - accuracy: 0.9794 - val_loss: 0.5022 - val_accuracy: 0.8827 - lr: 0.0010\n",
            "Epoch 95/300\n",
            "781/781 [==============================] - ETA: 0s - loss: 0.0653 - accuracy: 0.9790\n",
            "Epoch 00095: val_accuracy did not improve from 0.89353\n",
            "781/781 [==============================] - 66s 84ms/step - loss: 0.0653 - accuracy: 0.9790 - val_loss: 0.5102 - val_accuracy: 0.8850 - lr: 0.0010\n",
            "Epoch 96/300\n",
            "781/781 [==============================] - ETA: 0s - loss: 0.0625 - accuracy: 0.9798\n",
            "Epoch 00096: val_accuracy did not improve from 0.89353\n",
            "781/781 [==============================] - 66s 85ms/step - loss: 0.0625 - accuracy: 0.9798 - val_loss: 0.4790 - val_accuracy: 0.8889 - lr: 0.0010\n",
            "Epoch 97/300\n",
            "781/781 [==============================] - ETA: 0s - loss: 0.0605 - accuracy: 0.9808\n",
            "Epoch 00097: val_accuracy did not improve from 0.89353\n",
            "781/781 [==============================] - 66s 84ms/step - loss: 0.0605 - accuracy: 0.9808 - val_loss: 0.4785 - val_accuracy: 0.8903 - lr: 0.0010\n",
            "Epoch 98/300\n",
            "781/781 [==============================] - ETA: 0s - loss: 0.0608 - accuracy: 0.9805\n",
            "Epoch 00098: val_accuracy did not improve from 0.89353\n",
            "781/781 [==============================] - 65s 83ms/step - loss: 0.0608 - accuracy: 0.9805 - val_loss: 0.4997 - val_accuracy: 0.8887 - lr: 0.0010\n",
            "Epoch 99/300\n",
            "781/781 [==============================] - ETA: 0s - loss: 0.0623 - accuracy: 0.9806\n",
            "Epoch 00099: val_accuracy did not improve from 0.89353\n",
            "781/781 [==============================] - 66s 84ms/step - loss: 0.0623 - accuracy: 0.9806 - val_loss: 0.4857 - val_accuracy: 0.8868 - lr: 0.0010\n",
            "Epoch 100/300\n",
            "781/781 [==============================] - ETA: 0s - loss: 0.0621 - accuracy: 0.9797\n",
            "Epoch 00100: val_accuracy did not improve from 0.89353\n",
            "781/781 [==============================] - 65s 84ms/step - loss: 0.0621 - accuracy: 0.9797 - val_loss: 0.5181 - val_accuracy: 0.8867 - lr: 0.0010\n",
            "Epoch 101/300\n",
            "781/781 [==============================] - ETA: 0s - loss: 0.0578 - accuracy: 0.9819\n",
            "Epoch 00101: val_accuracy did not improve from 0.89353\n",
            "781/781 [==============================] - 65s 84ms/step - loss: 0.0578 - accuracy: 0.9819 - val_loss: 0.5065 - val_accuracy: 0.8882 - lr: 0.0010\n",
            "Epoch 102/300\n",
            "781/781 [==============================] - ETA: 0s - loss: 0.0576 - accuracy: 0.9814\n",
            "Epoch 00102: val_accuracy improved from 0.89353 to 0.89383, saving model to ./checkpoint/weights-102-0.8938.hdf5\n",
            "781/781 [==============================] - 66s 84ms/step - loss: 0.0576 - accuracy: 0.9814 - val_loss: 0.4969 - val_accuracy: 0.8938 - lr: 0.0010\n",
            "Epoch 103/300\n",
            "781/781 [==============================] - ETA: 0s - loss: 0.0578 - accuracy: 0.9815\n",
            "Epoch 00103: val_accuracy did not improve from 0.89383\n",
            "781/781 [==============================] - 66s 84ms/step - loss: 0.0578 - accuracy: 0.9815 - val_loss: 0.5589 - val_accuracy: 0.8848 - lr: 0.0010\n",
            "Epoch 104/300\n",
            "781/781 [==============================] - ETA: 0s - loss: 0.0582 - accuracy: 0.9816\n",
            "Epoch 00104: val_accuracy did not improve from 0.89383\n",
            "781/781 [==============================] - 66s 84ms/step - loss: 0.0582 - accuracy: 0.9816 - val_loss: 0.5300 - val_accuracy: 0.8853 - lr: 0.0010\n",
            "Epoch 105/300\n",
            "781/781 [==============================] - ETA: 0s - loss: 0.0566 - accuracy: 0.9816\n",
            "Epoch 00105: val_accuracy did not improve from 0.89383\n",
            "781/781 [==============================] - 66s 84ms/step - loss: 0.0566 - accuracy: 0.9816 - val_loss: 0.5457 - val_accuracy: 0.8843 - lr: 0.0010\n",
            "Epoch 106/300\n",
            "781/781 [==============================] - ETA: 0s - loss: 0.0540 - accuracy: 0.9831\n",
            "Epoch 00106: val_accuracy did not improve from 0.89383\n",
            "781/781 [==============================] - 66s 84ms/step - loss: 0.0540 - accuracy: 0.9831 - val_loss: 0.5050 - val_accuracy: 0.8860 - lr: 0.0010\n",
            "Epoch 107/300\n",
            "781/781 [==============================] - ETA: 0s - loss: 0.0582 - accuracy: 0.9819\n",
            "Epoch 00107: val_accuracy did not improve from 0.89383\n",
            "781/781 [==============================] - 65s 84ms/step - loss: 0.0582 - accuracy: 0.9819 - val_loss: 0.5408 - val_accuracy: 0.8881 - lr: 0.0010\n",
            "Epoch 108/300\n",
            "781/781 [==============================] - ETA: 0s - loss: 0.0548 - accuracy: 0.9826\n",
            "Epoch 00108: val_accuracy did not improve from 0.89383\n",
            "781/781 [==============================] - 65s 83ms/step - loss: 0.0548 - accuracy: 0.9826 - val_loss: 0.5679 - val_accuracy: 0.8794 - lr: 0.0010\n",
            "Epoch 109/300\n",
            "781/781 [==============================] - ETA: 0s - loss: 0.0546 - accuracy: 0.9823\n",
            "Epoch 00109: val_accuracy did not improve from 0.89383\n",
            "781/781 [==============================] - 65s 84ms/step - loss: 0.0546 - accuracy: 0.9823 - val_loss: 0.5294 - val_accuracy: 0.8892 - lr: 0.0010\n",
            "Epoch 110/300\n",
            "781/781 [==============================] - ETA: 0s - loss: 0.0516 - accuracy: 0.9839\n",
            "Epoch 00110: val_accuracy did not improve from 0.89383\n",
            "781/781 [==============================] - 65s 83ms/step - loss: 0.0516 - accuracy: 0.9839 - val_loss: 0.5777 - val_accuracy: 0.8781 - lr: 0.0010\n",
            "Epoch 111/300\n",
            "781/781 [==============================] - ETA: 0s - loss: 0.0526 - accuracy: 0.9838\n",
            "Epoch 00111: val_accuracy did not improve from 0.89383\n",
            "781/781 [==============================] - 65s 83ms/step - loss: 0.0526 - accuracy: 0.9838 - val_loss: 0.5301 - val_accuracy: 0.8856 - lr: 0.0010\n",
            "Epoch 112/300\n",
            "781/781 [==============================] - ETA: 0s - loss: 0.0564 - accuracy: 0.9828\n",
            "Epoch 00112: val_accuracy did not improve from 0.89383\n",
            "781/781 [==============================] - 65s 83ms/step - loss: 0.0564 - accuracy: 0.9828 - val_loss: 0.5685 - val_accuracy: 0.8804 - lr: 0.0010\n",
            "Epoch 113/300\n",
            "781/781 [==============================] - ETA: 0s - loss: 0.0543 - accuracy: 0.9821\n",
            "Epoch 00113: val_accuracy did not improve from 0.89383\n",
            "781/781 [==============================] - 65s 83ms/step - loss: 0.0543 - accuracy: 0.9821 - val_loss: 0.5197 - val_accuracy: 0.8872 - lr: 0.0010\n",
            "Epoch 114/300\n",
            "781/781 [==============================] - ETA: 0s - loss: 0.0528 - accuracy: 0.9832\n",
            "Epoch 00114: val_accuracy did not improve from 0.89383\n",
            "781/781 [==============================] - 65s 83ms/step - loss: 0.0528 - accuracy: 0.9832 - val_loss: 0.4779 - val_accuracy: 0.8929 - lr: 0.0010\n",
            "Epoch 115/300\n",
            "781/781 [==============================] - ETA: 0s - loss: 0.0515 - accuracy: 0.9841\n",
            "Epoch 00115: val_accuracy did not improve from 0.89383\n",
            "781/781 [==============================] - 65s 83ms/step - loss: 0.0515 - accuracy: 0.9841 - val_loss: 0.5478 - val_accuracy: 0.8852 - lr: 0.0010\n",
            "Epoch 116/300\n",
            "781/781 [==============================] - ETA: 0s - loss: 0.0521 - accuracy: 0.9834\n",
            "Epoch 00116: val_accuracy did not improve from 0.89383\n",
            "781/781 [==============================] - 65s 83ms/step - loss: 0.0521 - accuracy: 0.9834 - val_loss: 0.5546 - val_accuracy: 0.8814 - lr: 0.0010\n",
            "Epoch 117/300\n",
            "781/781 [==============================] - ETA: 0s - loss: 0.0528 - accuracy: 0.9843\n",
            "Epoch 00117: val_accuracy did not improve from 0.89383\n",
            "781/781 [==============================] - 65s 83ms/step - loss: 0.0528 - accuracy: 0.9843 - val_loss: 0.4949 - val_accuracy: 0.8925 - lr: 0.0010\n",
            "Epoch 118/300\n",
            "781/781 [==============================] - ETA: 0s - loss: 0.0528 - accuracy: 0.9836\n",
            "Epoch 00118: val_accuracy did not improve from 0.89383\n",
            "781/781 [==============================] - 65s 83ms/step - loss: 0.0528 - accuracy: 0.9836 - val_loss: 0.5410 - val_accuracy: 0.8888 - lr: 0.0010\n",
            "Epoch 119/300\n",
            "781/781 [==============================] - ETA: 0s - loss: 0.0495 - accuracy: 0.9844\n",
            "Epoch 00119: val_accuracy did not improve from 0.89383\n",
            "781/781 [==============================] - 65s 83ms/step - loss: 0.0495 - accuracy: 0.9844 - val_loss: 0.5289 - val_accuracy: 0.8844 - lr: 0.0010\n",
            "Epoch 120/300\n",
            "781/781 [==============================] - ETA: 0s - loss: 0.0488 - accuracy: 0.9843\n",
            "Epoch 00120: val_accuracy did not improve from 0.89383\n",
            "781/781 [==============================] - 65s 83ms/step - loss: 0.0488 - accuracy: 0.9843 - val_loss: 0.5476 - val_accuracy: 0.8847 - lr: 0.0010\n",
            "Epoch 121/300\n",
            "781/781 [==============================] - ETA: 0s - loss: 0.0479 - accuracy: 0.9847\n",
            "Epoch 00121: val_accuracy did not improve from 0.89383\n",
            "781/781 [==============================] - 65s 83ms/step - loss: 0.0479 - accuracy: 0.9847 - val_loss: 0.5391 - val_accuracy: 0.8862 - lr: 0.0010\n",
            "Epoch 122/300\n",
            "781/781 [==============================] - ETA: 0s - loss: 0.0544 - accuracy: 0.9826\n",
            "Epoch 00122: val_accuracy did not improve from 0.89383\n",
            "781/781 [==============================] - 65s 83ms/step - loss: 0.0544 - accuracy: 0.9826 - val_loss: 0.5209 - val_accuracy: 0.8865 - lr: 0.0010\n",
            "Epoch 123/300\n",
            "781/781 [==============================] - ETA: 0s - loss: 0.0479 - accuracy: 0.9846\n",
            "Epoch 00123: val_accuracy did not improve from 0.89383\n",
            "781/781 [==============================] - 65s 83ms/step - loss: 0.0479 - accuracy: 0.9846 - val_loss: 0.6062 - val_accuracy: 0.8765 - lr: 0.0010\n",
            "Epoch 124/300\n",
            "781/781 [==============================] - ETA: 0s - loss: 0.0513 - accuracy: 0.9839\n",
            "Epoch 00124: val_accuracy did not improve from 0.89383\n",
            "781/781 [==============================] - 65s 83ms/step - loss: 0.0513 - accuracy: 0.9839 - val_loss: 0.4902 - val_accuracy: 0.8910 - lr: 0.0010\n",
            "Epoch 125/300\n",
            "781/781 [==============================] - ETA: 0s - loss: 0.0492 - accuracy: 0.9847\n",
            "Epoch 00125: val_accuracy did not improve from 0.89383\n",
            "781/781 [==============================] - 65s 83ms/step - loss: 0.0492 - accuracy: 0.9847 - val_loss: 0.5058 - val_accuracy: 0.8900 - lr: 0.0010\n",
            "Epoch 126/300\n",
            "781/781 [==============================] - ETA: 0s - loss: 0.0502 - accuracy: 0.9841\n",
            "Epoch 00126: val_accuracy did not improve from 0.89383\n",
            "781/781 [==============================] - 65s 83ms/step - loss: 0.0502 - accuracy: 0.9841 - val_loss: 0.5386 - val_accuracy: 0.8871 - lr: 0.0010\n",
            "Epoch 127/300\n",
            "781/781 [==============================] - ETA: 0s - loss: 0.0251 - accuracy: 0.9935\n",
            "Epoch 00127: val_accuracy improved from 0.89383 to 0.90505, saving model to ./checkpoint/weights-127-0.9050.hdf5\n",
            "#############################################\n",
            "Stopping model training as objectives are met !!\n",
            "#############################################\n",
            "781/781 [==============================] - 65s 83ms/step - loss: 0.0251 - accuracy: 0.9935 - val_loss: 0.4469 - val_accuracy: 0.9050 - lr: 3.0000e-04\n"
          ]
        }
      ],
      "source": [
        "batch_size = 64   # 128\n",
        "epochs_value = 300\n",
        "train_steps_value = X_train.shape[0] // batch_size                                         # Eg :: Train steps = 50000 / 64 = 781 \n",
        "validation_steps_value = X_test.shape[0] // batch_size                 # Eg:: Validation steps = 10000 / 64 = 156\n",
        "print( train_steps_value, validation_steps_value )\n",
        "\n",
        "history = model.fit_generator( train_datagen , steps_per_epoch = train_steps_value,   epochs = epochs_value  , validation_data = test_datagen , \n",
        "                               callbacks = [ tensorboard_callback, checkpoint, lr_scheduler , stop_training ]  ,  validation_steps = validation_steps_value )\n"
      ]
    },
    {
      "cell_type": "code",
      "execution_count": null,
      "metadata": {
        "colab": {
          "base_uri": "https://localhost:8080/",
          "height": 283
        },
        "id": "SXAmQej0GKd5",
        "outputId": "9fe2c418-a00e-48f2-9f32-c93c58f0d124"
      },
      "outputs": [
        {
          "data": {
            "text/plain": [
              "<matplotlib.axes._subplots.AxesSubplot at 0x7f3586a2c470>"
            ]
          },
          "execution_count": 31,
          "metadata": {
            "tags": []
          },
          "output_type": "execute_result"
        },
        {
          "data": {
            "image/png": "[encoded data removed]",
            "text/plain": [
              "<Figure size 432x288 with 1 Axes>"
            ]
          },
          "metadata": {
            "needs_background": "light",
            "tags": []
          },
          "output_type": "display_data"
        }
      ],
      "source": [
        "import pandas as pd\n",
        "hold_history = pd.DataFrame(dict(model.history.history))\n",
        "hold_history.to_csv( 'saved_model1.csv',  index = False )\n",
        "hold_history = pd.read_csv('/content/drive/My Drive/saved_model1.csv')\n",
        "hold_history.plot()"
      ]
    },
    {
      "cell_type": "code",
      "execution_count": null,
      "metadata": {
        "colab": {
          "base_uri": "https://localhost:8080/",
          "height": 406
        },
        "id": "KIN1MbKKWpt8",
        "outputId": "ba995851-fbb8-451a-8eb9-f0f396e94547"
      },
      "outputs": [
        {
          "data": {
            "text/html": [
              "<div>\n",
              "<style scoped>\n",
              "    .dataframe tbody tr th:only-of-type {\n",
              "        vertical-align: middle;\n",
              "    }\n",
              "\n",
              "    .dataframe tbody tr th {\n",
              "        vertical-align: top;\n",
              "    }\n",
              "\n",
              "    .dataframe thead th {\n",
              "        text-align: right;\n",
              "    }\n",
              "</style>\n",
              "<table border=\"1\" class=\"dataframe\">\n",
              "  <thead>\n",
              "    <tr style=\"text-align: right;\">\n",
              "      <th></th>\n",
              "      <th>loss</th>\n",
              "      <th>accuracy</th>\n",
              "      <th>val_loss</th>\n",
              "      <th>val_accuracy</th>\n",
              "      <th>lr</th>\n",
              "    </tr>\n",
              "  </thead>\n",
              "  <tbody>\n",
              "    <tr>\n",
              "      <th>0</th>\n",
              "      <td>1.349607</td>\n",
              "      <td>0.529850</td>\n",
              "      <td>1.203496</td>\n",
              "      <td>0.600861</td>\n",
              "      <td>0.0010</td>\n",
              "    </tr>\n",
              "    <tr>\n",
              "      <th>1</th>\n",
              "      <td>0.930302</td>\n",
              "      <td>0.686919</td>\n",
              "      <td>1.181446</td>\n",
              "      <td>0.631310</td>\n",
              "      <td>0.0010</td>\n",
              "    </tr>\n",
              "    <tr>\n",
              "      <th>2</th>\n",
              "      <td>0.779591</td>\n",
              "      <td>0.741309</td>\n",
              "      <td>0.836913</td>\n",
              "      <td>0.729267</td>\n",
              "      <td>0.0010</td>\n",
              "    </tr>\n",
              "    <tr>\n",
              "      <th>3</th>\n",
              "      <td>0.692505</td>\n",
              "      <td>0.772989</td>\n",
              "      <td>0.804176</td>\n",
              "      <td>0.733474</td>\n",
              "      <td>0.0010</td>\n",
              "    </tr>\n",
              "    <tr>\n",
              "      <th>4</th>\n",
              "      <td>0.628102</td>\n",
              "      <td>0.791914</td>\n",
              "      <td>0.685013</td>\n",
              "      <td>0.776042</td>\n",
              "      <td>0.0010</td>\n",
              "    </tr>\n",
              "    <tr>\n",
              "      <th>...</th>\n",
              "      <td>...</td>\n",
              "      <td>...</td>\n",
              "      <td>...</td>\n",
              "      <td>...</td>\n",
              "      <td>...</td>\n",
              "    </tr>\n",
              "    <tr>\n",
              "      <th>122</th>\n",
              "      <td>0.047873</td>\n",
              "      <td>0.984620</td>\n",
              "      <td>0.606236</td>\n",
              "      <td>0.876502</td>\n",
              "      <td>0.0010</td>\n",
              "    </tr>\n",
              "    <tr>\n",
              "      <th>123</th>\n",
              "      <td>0.051340</td>\n",
              "      <td>0.983939</td>\n",
              "      <td>0.490167</td>\n",
              "      <td>0.891026</td>\n",
              "      <td>0.0010</td>\n",
              "    </tr>\n",
              "    <tr>\n",
              "      <th>124</th>\n",
              "      <td>0.049245</td>\n",
              "      <td>0.984720</td>\n",
              "      <td>0.505763</td>\n",
              "      <td>0.890024</td>\n",
              "      <td>0.0010</td>\n",
              "    </tr>\n",
              "    <tr>\n",
              "      <th>125</th>\n",
              "      <td>0.050183</td>\n",
              "      <td>0.984100</td>\n",
              "      <td>0.538589</td>\n",
              "      <td>0.887119</td>\n",
              "      <td>0.0010</td>\n",
              "    </tr>\n",
              "    <tr>\n",
              "      <th>126</th>\n",
              "      <td>0.025134</td>\n",
              "      <td>0.993452</td>\n",
              "      <td>0.446929</td>\n",
              "      <td>0.905048</td>\n",
              "      <td>0.0003</td>\n",
              "    </tr>\n",
              "  </tbody>\n",
              "</table>\n",
              "<p>127 rows × 5 columns</p>\n",
              "</div>"
            ],
            "text/plain": [
              "         loss  accuracy  val_loss  val_accuracy      lr\n",
              "0    1.349607  0.529850  1.203496      0.600861  0.0010\n",
              "1    0.930302  0.686919  1.181446      0.631310  0.0010\n",
              "2    0.779591  0.741309  0.836913      0.729267  0.0010\n",
              "3    0.692505  0.772989  0.804176      0.733474  0.0010\n",
              "4    0.628102  0.791914  0.685013      0.776042  0.0010\n",
              "..        ...       ...       ...           ...     ...\n",
              "122  0.047873  0.984620  0.606236      0.876502  0.0010\n",
              "123  0.051340  0.983939  0.490167      0.891026  0.0010\n",
              "124  0.049245  0.984720  0.505763      0.890024  0.0010\n",
              "125  0.050183  0.984100  0.538589      0.887119  0.0010\n",
              "126  0.025134  0.993452  0.446929      0.905048  0.0003\n",
              "\n",
              "[127 rows x 5 columns]"
            ]
          },
          "execution_count": 32,
          "metadata": {
            "tags": []
          },
          "output_type": "execute_result"
        }
      ],
      "source": [
        "# pd.read_csv('/content/drive/My Drive/saved_model1.csv')\n",
        "hold_history"
      ]
    },
    {
      "cell_type": "code",
      "execution_count": null,
      "metadata": {
        "colab": {
          "base_uri": "https://localhost:8080/",
          "height": 294
        },
        "id": "ZBzsy4MUGKgm",
        "outputId": "b882ead7-2d3d-44c5-cc61-5e950191cbaa"
      },
      "outputs": [
        {
          "data": {
            "image/png": "[encoded data removed]",
            "text/plain": [
              "<Figure size 432x288 with 1 Axes>"
            ]
          },
          "metadata": {
            "needs_background": "light",
            "tags": []
          },
          "output_type": "display_data"
        }
      ],
      "source": [
        "hold_history[ ['lr']].plot()\n",
        "plt.ylabel('learning_rate')\n",
        "plt.xlabel('epochs')\n",
        "plt.title('learning rate over epochs')\n",
        "plt.show()"
      ]
    },
    {
      "cell_type": "code",
      "execution_count": null,
      "metadata": {
        "colab": {
          "base_uri": "https://localhost:8080/",
          "height": 294
        },
        "id": "-PBlH726GKjH",
        "outputId": "3fb1581c-3b82-4c84-dc9b-e6633ae34464"
      },
      "outputs": [
        {
          "data": {
            "image/png": "[encoded data removed]",
            "text/plain": [
              "<Figure size 432x288 with 1 Axes>"
            ]
          },
          "metadata": {
            "needs_background": "light",
            "tags": []
          },
          "output_type": "display_data"
        }
      ],
      "source": [
        "hold_history[ ['val_accuracy', 'accuracy'] ].plot()\n",
        "plt.ylabel('train/test accuracy')\n",
        "plt.xlabel('epochs')\n",
        "plt.title('  train/test accuracy   over epochs')\n",
        "plt.show()"
      ]
    },
    {
      "cell_type": "code",
      "execution_count": null,
      "metadata": {
        "colab": {
          "base_uri": "https://localhost:8080/",
          "height": 294
        },
        "id": "tc3GEdYBHBBb",
        "outputId": "f40e8d9d-c36f-4b81-fb55-73427337cdec"
      },
      "outputs": [
        {
          "data": {
            "image/png": "[encoded data removed]",
            "text/plain": [
              "<Figure size 432x288 with 1 Axes>"
            ]
          },
          "metadata": {
            "needs_background": "light",
            "tags": []
          },
          "output_type": "display_data"
        }
      ],
      "source": [
        "hold_history[ ['val_loss', 'loss'] ].plot()\n",
        "plt.ylabel('train/test loss')\n",
        "plt.xlabel('epochs')\n",
        "plt.title('  train/test loss   over epochs')\n",
        "plt.show()"
      ]
    },
    {
      "cell_type": "code",
      "metadata": {
        "id": "gYN7iFYPtDLL"
      },
      "source": [
        "## Observations, Other Experiments and results  with Cyclical Learning rate schedulers::"
      ],
      "execution_count": null,
      "outputs": []
    },
    {
      "cell_type": "markdown",
      "metadata": {
        "id": "wHVohaTzc4PJ"
      },
      "source": [
        "### 1) *Normal Conv2d with Cyclical learning rates  having 457,000 Params ::*"
      ]
    },
    {
      "cell_type": "code",
      "execution_count": null,
      "metadata": {
        "id": "P4FqePHYc4PK"
      },
      "outputs": [],
      "source": [
        "from IPython.display import Image\n",
        "from IPython.core.display import HTML"
      ]
    },
    {
      "cell_type": "code",
      "execution_count": null,
      "metadata": {
        "id": "GYC8DZ7ec4PK",
        "outputId": "23207b79-82a8-4a29-aef4-282a576e604b"
      },
      "outputs": [
        {
          "name": "stdout",
          "output_type": "stream",
          "text": [
            "Params Proof \n",
            "Fig 1 :: \n"
          ]
        },
        {
          "data": {
            "text/html": [
              "<img src=\"https://i.imgur.com/IEjQ3zg.png\"/>"
            ],
            "text/plain": [
              "<IPython.core.display.Image object>"
            ]
          },
          "execution_count": 39,
          "metadata": {},
          "output_type": "execute_result"
        }
      ],
      "source": [
        "print('Params Proof \\nFig 1 :: ')\n",
        "Image(url= \"https://i.imgur.com/IEjQ3zg.png\")"
      ]
    },
    {
      "cell_type": "code",
      "execution_count": null,
      "metadata": {
        "id": "pj1k3d70c4PL",
        "outputId": "9d4f331b-8fa3-48ef-b5f7-d08357bf6238"
      },
      "outputs": [
        {
          "name": "stdout",
          "output_type": "stream",
          "text": [
            "Epochs until 84% test accuracy:   \n",
            "Fig 2 :: \n"
          ]
        },
        {
          "data": {
            "text/html": [
              "<img src=\"https://i.imgur.com/AIz8ACP.png\"/>"
            ],
            "text/plain": [
              "<IPython.core.display.Image object>"
            ]
          },
          "execution_count": 40,
          "metadata": {},
          "output_type": "execute_result"
        }
      ],
      "source": [
        "print('Epochs until 84% test accuracy:   \\nFig 2 :: ')\n",
        "Image(url= \"https://i.imgur.com/AIz8ACP.png\")"
      ]
    },
    {
      "cell_type": "code",
      "execution_count": null,
      "metadata": {
        "id": "brB5S2Qsc4PL",
        "outputId": "5334b5cf-343d-41a0-dca3-b015963d2a38"
      },
      "outputs": [
        {
          "name": "stdout",
          "output_type": "stream",
          "text": [
            "Result of searching Learning rate via Learning rate Scheduler \n",
            "Fig 3 :: \n"
          ]
        },
        {
          "data": {
            "text/html": [
              "<img src=\"https://i.imgur.com/bQsCCc1.png\"/>"
            ],
            "text/plain": [
              "<IPython.core.display.Image object>"
            ]
          },
          "execution_count": 41,
          "metadata": {},
          "output_type": "execute_result"
        }
      ],
      "source": [
        "print('Result of searching Learning rate via Learning rate Scheduler \\nFig 3 :: ')\n",
        "Image(url= \"https://i.imgur.com/bQsCCc1.png\")"
      ]
    },
    {
      "cell_type": "code",
      "execution_count": null,
      "metadata": {
        "id": "Bgj9Q4ZJc4PL",
        "outputId": "c900b51c-6a16-477e-93f8-b7a2e495fb78"
      },
      "outputs": [
        {
          "name": "stdout",
          "output_type": "stream",
          "text": [
            "Triangular2 Learning rate \n",
            "Fig 4 :: \n"
          ]
        },
        {
          "data": {
            "text/html": [
              "<img src=\"https://i.imgur.com/VBW6gRm.png\"/>"
            ],
            "text/plain": [
              "<IPython.core.display.Image object>"
            ]
          },
          "execution_count": 75,
          "metadata": {},
          "output_type": "execute_result"
        }
      ],
      "source": [
        "print('Triangular2 Learning rate \\nFig 4 :: ')\n",
        "Image(url= \"https://i.imgur.com/VBW6gRm.png\")"
      ]
    },
    {
      "cell_type": "code",
      "execution_count": null,
      "metadata": {
        "id": "GKBoO3swc4PL",
        "outputId": "efe33d93-6d7a-42a2-dbac-b0cd2ec7bb5c"
      },
      "outputs": [
        {
          "name": "stdout",
          "output_type": "stream",
          "text": [
            "Results after 10 epochs \n",
            "Fig 5 :: \n"
          ]
        },
        {
          "data": {
            "text/html": [
              "<img src=\"https://i.imgur.com/1pIMj7u.png\"/>"
            ],
            "text/plain": [
              "<IPython.core.display.Image object>"
            ]
          },
          "execution_count": 43,
          "metadata": {},
          "output_type": "execute_result"
        }
      ],
      "source": [
        "print('Results after 10 epochs \\nFig 5 :: ')\n",
        "Image(url= \"https://i.imgur.com/1pIMj7u.png\")"
      ]
    },
    {
      "cell_type": "markdown",
      "metadata": {
        "id": "AjVXzrNAc4PM"
      },
      "source": [
        "### 2) *Separable Conv2d with Cyclical learning rates  having 360,000 Params ::*"
      ]
    },
    {
      "cell_type": "code",
      "execution_count": null,
      "metadata": {
        "id": "AtPzHIlYc4PM",
        "outputId": "0bbb596e-51de-4052-8e24-41bfc33c0296"
      },
      "outputs": [
        {
          "name": "stdout",
          "output_type": "stream",
          "text": [
            "Params   \n",
            "Fig 1 :: \n"
          ]
        },
        {
          "data": {
            "text/html": [
              "<img src=\"https://i.imgur.com/UTRCTHe.png\"/>"
            ],
            "text/plain": [
              "<IPython.core.display.Image object>"
            ]
          },
          "execution_count": 45,
          "metadata": {},
          "output_type": "execute_result"
        }
      ],
      "source": [
        "print('Params   \\nFig 1 :: ')\n",
        "Image(url= \"https://i.imgur.com/UTRCTHe.png\")"
      ]
    },
    {
      "cell_type": "code",
      "execution_count": null,
      "metadata": {
        "id": "MT2XPGnxc4PM",
        "outputId": "532e8a53-cd48-4717-b590-272c1d48f0b2"
      },
      "outputs": [
        {
          "name": "stdout",
          "output_type": "stream",
          "text": [
            "Cyclic learning rate scheduler example usage  \n",
            "Fig 2 :: \n"
          ]
        },
        {
          "data": {
            "text/html": [
              "<img src=\"https://i.imgur.com/8rfAEpq.png\"/>"
            ],
            "text/plain": [
              "<IPython.core.display.Image object>"
            ]
          },
          "execution_count": 46,
          "metadata": {},
          "output_type": "execute_result"
        }
      ],
      "source": [
        "print('Cyclic learning rate scheduler example usage  \\nFig 2 :: ')\n",
        "Image(url= \"https://i.imgur.com/8rfAEpq.png\")"
      ]
    },
    {
      "cell_type": "code",
      "execution_count": null,
      "metadata": {
        "id": "teoTazZrc4PM",
        "outputId": "dc5b04d2-181a-4e26-972a-0469b060eecf"
      },
      "outputs": [
        {
          "name": "stdout",
          "output_type": "stream",
          "text": [
            "Epochs until 84% test accuracy:   \n",
            "Fig 3 :: \n"
          ]
        },
        {
          "data": {
            "text/html": [
              "<img src=\"https://i.imgur.com/AIz8ACP.png\"/>"
            ],
            "text/plain": [
              "<IPython.core.display.Image object>"
            ]
          },
          "execution_count": 47,
          "metadata": {},
          "output_type": "execute_result"
        }
      ],
      "source": [
        "print('Epochs until 84% test accuracy:   \\nFig 3 :: ')\n",
        "Image(url= \"https://i.imgur.com/AIz8ACP.png\")"
      ]
    },
    {
      "cell_type": "code",
      "execution_count": null,
      "metadata": {
        "id": "KlomcwuLc4PN",
        "outputId": "c1749307-0120-48b3-9a62-b014b26e930f"
      },
      "outputs": [
        {
          "name": "stdout",
          "output_type": "stream",
          "text": [
            "Learning rate finder \n",
            "Fig 4 :: \n"
          ]
        },
        {
          "data": {
            "text/html": [
              "<img src=\"https://i.imgur.com/GwH0B8h.png\"/>"
            ],
            "text/plain": [
              "<IPython.core.display.Image object>"
            ]
          },
          "execution_count": 48,
          "metadata": {},
          "output_type": "execute_result"
        }
      ],
      "source": [
        "print('Learning rate finder \\nFig 4 :: ')\n",
        "Image(url= \"https://i.imgur.com/GwH0B8h.png\")"
      ]
    },
    {
      "cell_type": "code",
      "execution_count": null,
      "metadata": {
        "id": "6uq91ml6c4PN",
        "outputId": "6132dee7-5943-4996-9833-158a8114c958"
      },
      "outputs": [
        {
          "name": "stdout",
          "output_type": "stream",
          "text": [
            "Triangluar2 Learning rate \n",
            "Fig 5 :: \n"
          ]
        },
        {
          "data": {
            "text/html": [
              "<img src=\"https://i.imgur.com/b6EeiHS.png\"/>"
            ],
            "text/plain": [
              "<IPython.core.display.Image object>"
            ]
          },
          "execution_count": 49,
          "metadata": {},
          "output_type": "execute_result"
        }
      ],
      "source": [
        "print('Triangluar2 Learning rate \\nFig 5 :: ')\n",
        "Image(url= \"https://i.imgur.com/b6EeiHS.png\")"
      ]
    },
    {
      "cell_type": "code",
      "execution_count": null,
      "metadata": {
        "id": "zWAIgFw1c4PN",
        "outputId": "91f66b06-0a28-4ad6-adf9-08714790cfaf"
      },
      "outputs": [
        {
          "name": "stdout",
          "output_type": "stream",
          "text": [
            "Learning rate finder for model from 10 to 20th epoch  \n",
            "Fig 6 :: \n"
          ]
        },
        {
          "data": {
            "text/html": [
              "<img src=\"https://i.imgur.com/hdeIDz8.png\"/>"
            ],
            "text/plain": [
              "<IPython.core.display.Image object>"
            ]
          },
          "execution_count": 50,
          "metadata": {},
          "output_type": "execute_result"
        }
      ],
      "source": [
        "print('Learning rate finder for model from 10 to 20th epoch  \\nFig 6 :: ')\n",
        "Image(url= \"https://i.imgur.com/hdeIDz8.png\")"
      ]
    },
    {
      "cell_type": "code",
      "execution_count": null,
      "metadata": {
        "id": "0h6IlQXic4PO",
        "outputId": "c12da80a-749e-4437-b71c-27a521a5276a"
      },
      "outputs": [
        {
          "name": "stdout",
          "output_type": "stream",
          "text": [
            "Results after 10 epochs  \n",
            "Fig 7 :: \n"
          ]
        },
        {
          "data": {
            "text/html": [
              "<img src=\"https://i.imgur.com/gFH28OV.png\"/>"
            ],
            "text/plain": [
              "<IPython.core.display.Image object>"
            ]
          },
          "execution_count": 51,
          "metadata": {},
          "output_type": "execute_result"
        }
      ],
      "source": [
        "print('Results after 10 epochs  \\nFig 7 :: ')\n",
        "Image(url= \"https://i.imgur.com/gFH28OV.png\")"
      ]
    },
    {
      "cell_type": "markdown",
      "metadata": {
        "id": "7AFfhkS1c4PO"
      },
      "source": [
        "### 3) *Normal Conv2d with Cyclical learning rates  having 986,000 Params ::*"
      ]
    },
    {
      "cell_type": "code",
      "execution_count": null,
      "metadata": {
        "id": "Sncq2ucOc4PO",
        "outputId": "42fee941-96be-4bbd-db6f-761f9a1f37f7"
      },
      "outputs": [
        {
          "name": "stdout",
          "output_type": "stream",
          "text": [
            "Params   \n",
            "Fig 1 :: \n"
          ]
        },
        {
          "data": {
            "text/html": [
              "<img src=\"https://i.imgur.com/RRAW7Ow.png\"/>"
            ],
            "text/plain": [
              "<IPython.core.display.Image object>"
            ]
          },
          "execution_count": 52,
          "metadata": {},
          "output_type": "execute_result"
        }
      ],
      "source": [
        "print('Params   \\nFig 1 :: ')\n",
        "Image(url= \"https://i.imgur.com/RRAW7Ow.png\")"
      ]
    },
    {
      "cell_type": "code",
      "execution_count": null,
      "metadata": {
        "id": "xqeWiiS7c4PO",
        "outputId": "93878f15-2e05-479c-c07a-e9844e9a76b7"
      },
      "outputs": [
        {
          "name": "stdout",
          "output_type": "stream",
          "text": [
            "Epochs until 84% test accuracy:   \n",
            "Fig 2 :: \n"
          ]
        },
        {
          "data": {
            "text/html": [
              "<img src=\"https://i.imgur.com/AS5wVEK.png\"/>"
            ],
            "text/plain": [
              "<IPython.core.display.Image object>"
            ]
          },
          "execution_count": 54,
          "metadata": {},
          "output_type": "execute_result"
        }
      ],
      "source": [
        "print('Epochs until 84% test accuracy:   \\nFig 2 :: ')\n",
        "Image(url= \"https://i.imgur.com/AS5wVEK.png\")"
      ]
    },
    {
      "cell_type": "code",
      "execution_count": null,
      "metadata": {
        "id": "ylH17kDic4PP",
        "outputId": "deb7967a-fd22-492d-c243-7ac90c615b3b"
      },
      "outputs": [
        {
          "name": "stdout",
          "output_type": "stream",
          "text": [
            "Epochs until 85% test accuracy:   \n",
            "Fig 3 :: \n"
          ]
        },
        {
          "data": {
            "text/html": [
              "<img src=\"https://i.imgur.com/LNemTnb.png\"/>"
            ],
            "text/plain": [
              "<IPython.core.display.Image object>"
            ]
          },
          "execution_count": 57,
          "metadata": {},
          "output_type": "execute_result"
        }
      ],
      "source": [
        "print('Epochs until 85% test accuracy:   \\nFig 3 :: ')\n",
        "Image(url= \"https://i.imgur.com/LNemTnb.png\")"
      ]
    },
    {
      "cell_type": "code",
      "execution_count": null,
      "metadata": {
        "id": "sXue6G6Pc4PP",
        "outputId": "7ce4da62-8122-43ec-940a-2433829cd12a"
      },
      "outputs": [
        {
          "name": "stdout",
          "output_type": "stream",
          "text": [
            "Results after 15 epochs:   \n",
            "Fig 4 :: \n"
          ]
        },
        {
          "data": {
            "text/html": [
              "<img src=\"https://i.imgur.com/vYbpEkz.png\"/>"
            ],
            "text/plain": [
              "<IPython.core.display.Image object>"
            ]
          },
          "execution_count": 59,
          "metadata": {},
          "output_type": "execute_result"
        }
      ],
      "source": [
        "print('Results after 15 epochs:   \\nFig 4 :: ')\n",
        "Image(url= \"https://i.imgur.com/vYbpEkz.png\")\n"
      ]
    },
    {
      "cell_type": "code",
      "execution_count": null,
      "metadata": {
        "id": "1Fp4yPePc4PP",
        "outputId": "f711acb8-9c76-4f53-ea7f-dcf353976816"
      },
      "outputs": [
        {
          "name": "stdout",
          "output_type": "stream",
          "text": [
            " learning rate with cyclical learning rate scheduler:   \n",
            "Fig 5 :: \n"
          ]
        },
        {
          "data": {
            "text/html": [
              "<img src=\"https://i.imgur.com/N4Y4jYZ.png\"/>"
            ],
            "text/plain": [
              "<IPython.core.display.Image object>"
            ]
          },
          "execution_count": 64,
          "metadata": {},
          "output_type": "execute_result"
        }
      ],
      "source": [
        "print(' learning rate with cyclical learning rate scheduler:   \\nFig 5 :: ')\n",
        "Image(url= \"https://i.imgur.com/N4Y4jYZ.png\")"
      ]
    },
    {
      "cell_type": "code",
      "execution_count": null,
      "metadata": {
        "id": "hVIOlKBjc4PP",
        "outputId": "17a7c9fe-ee64-4f43-ddd1-b3615b8c1d82"
      },
      "outputs": [
        {
          "name": "stdout",
          "output_type": "stream",
          "text": [
            "Accuracy and loss plots:   \n",
            "Fig 6 :: \n"
          ]
        },
        {
          "data": {
            "text/html": [
              "<img src=\"https://i.imgur.com/7tj0rip.png\"/>"
            ],
            "text/plain": [
              "<IPython.core.display.Image object>"
            ]
          },
          "execution_count": 67,
          "metadata": {},
          "output_type": "execute_result"
        }
      ],
      "source": [
        "print('Accuracy and loss plots:   \\nFig 6 :: ')\n",
        "Image(url= \"https://i.imgur.com/7tj0rip.png\")"
      ]
    },
    {
      "cell_type": "code",
      "execution_count": null,
      "metadata": {
        "id": "5ckTllShc4PQ",
        "outputId": "5007a0e6-2534-4017-a1d7-8e2b212cd2b1"
      },
      "outputs": [
        {
          "name": "stdout",
          "output_type": "stream",
          "text": [
            "Using different optimizer for saved models:   \n",
            "Fig 7 :: \n"
          ]
        },
        {
          "data": {
            "text/html": [
              "<img src=\"https://i.imgur.com/e8aJrLz.png\"/>"
            ],
            "text/plain": [
              "<IPython.core.display.Image object>"
            ]
          },
          "execution_count": 68,
          "metadata": {},
          "output_type": "execute_result"
        }
      ],
      "source": [
        "print('Using different optimizer for saved models:   \\nFig 7 :: ')\n",
        "Image(url= \"https://i.imgur.com/e8aJrLz.png\")"
      ]
    },
    {
      "cell_type": "code",
      "execution_count": null,
      "metadata": {
        "id": "Qv1Ri8Swc4PQ",
        "outputId": "be481b75-786a-402e-c597-5d7d99fb98ea"
      },
      "outputs": [
        {
          "name": "stdout",
          "output_type": "stream",
          "text": [
            "Result after 20 Epochs   \n",
            "Fig 8 :: \n"
          ]
        },
        {
          "data": {
            "text/html": [
              "<img src=\"https://i.imgur.com/ikg5b5M.png\"/>"
            ],
            "text/plain": [
              "<IPython.core.display.Image object>"
            ]
          },
          "execution_count": 72,
          "metadata": {},
          "output_type": "execute_result"
        }
      ],
      "source": [
        "print('Result after 20 Epochs   \\nFig 8 :: ')\n",
        "Image(url= \"https://i.imgur.com/ikg5b5M.png\")"
      ]
    },
    {
      "cell_type": "markdown",
      "metadata": {
        "id": "tUPRePYEc4PQ"
      },
      "source": [
        "### Observations ::"
      ]
    },
    {
      "cell_type": "markdown",
      "metadata": {
        "id": "d_Gwd2EDc4PQ"
      },
      "source": [
        "#### 1)  Chosen Working model, Normal Conv2d with 986,000  trainable Params and Step decay learning rate scheduler ::"
      ]
    },
    {
      "cell_type": "markdown",
      "metadata": {
        "id": "41Rubp7_c4PQ"
      },
      "source": [
        "* This model uses __986,000  parameters__ , with no dropouts and  __Takes 127 epochs to cross 90% threshold for Test set__ , however, it overfits  as it uses  a \n",
        "    Simple learning rate scheduler with __step decay__, The chosen optimizer after repeated experimentation was Nadam , as it gave faster convergence  when\n",
        "    compared to SGD with Momentum and Adam.\n",
        "\n",
        "* The best  batch size was found to be 64 , which gave the best results in lesser number of epochs compared to other batch sizes i.e 128 and 256 .\n",
        "\n",
        "* Further experimentation with L1, L2 and L1_L2 regularizers has increased the __time taken to Run an epoch by 5  Times__, whilst giving no significant improvement in    the results.\n",
        "\n",
        "* We can Further observe that the __Test loss__ seldom decreased below 0.4 with this model."
      ]
    },
    {
      "cell_type": "markdown",
      "metadata": {
        "id": "dJiCXRASc4PR"
      },
      "source": [
        "#### Reason for using Cyclical learning rate schedulers ::\n",
        "1) Please Refer :: https://arxiv.org/abs/1506.01186\n",
        "\n",
        "2) Sample notebook on generating cyclical learning rates :: https://github.com/bckenstler/CLR/blob/master/clr_callback_tests.ipynb"
      ]
    },
    {
      "cell_type": "markdown",
      "metadata": {
        "id": "41xVCbLnc4PR"
      },
      "source": [
        "#### 2)  Conv2d Separable results ( 360,000 total params)  with Cyclic learning rate scheduler::"
      ]
    },
    {
      "cell_type": "markdown",
      "metadata": {
        "id": "nrzZhEFKc4PR"
      },
      "source": [
        "* This model takes significantly , i.e 1/3 of the number of params as the chosen model , and performs on par with it controlling for all the same conditions\n",
        "    ,When run for 150 epochs , it does not overfit  like the chosen model.\n",
        "\n",
        "*  This model uses the __cyclic learning rate scheduler__ as  mentioned in the __Paper Titled :: Cyclical Learning Rates for Training Neural Networks - Leslie Smith__\n",
        "    It uses a Triangular2 periodic learning rate with 1562 , i.e  2 times the iterations as the step size,(recommended is between 2 -8 times the iterations(train steps) )\n",
        "    \n",
        "* We are able to achieve __84% accuracy with Test set and less than 3% difference between train and test accuracy in 8 epochs only__ .\n",
        "\n",
        "* When this model was Ran for  35 epochs , The results were 88 % Test accuracy and 91 % Train accuracy , to get the same comparable result \n",
        "   from the Chosen model , we had to wait until 54th epoch but, we can see the difference, The chosen model is a bad performer, as it overfits a lot, \n",
        "   i.e 96  % Train and 88 % test .\n",
        "\n",
        "* One of the reasons why this model  performs better in Contrast to the Chosen model is \n",
        "    ,__Cyclic Learning rates help us to converge faster than the traditional  learning rate decay methods__ .\n",
        "    \n",
        "* There are instances where 88 % accuracy on test Data set was achieved in less than __15 epochs__ with  difference between train and test accuracies <= 3 %\n",
        "\n",
        "\n",
        "* Here we have  __performed a gridsearch kind of a technique for finding The best Range of Initial Learning rate__ for the model to begin with , \n",
        "    more information on this can be found out in the same  paper by Leslie Smith (Link :: https://arxiv.org/abs/1506.01186  )\n",
        "    \n",
        "    \n",
        "* Here in this model, the  __best reduction in test loss  which is ( 0.35)  was seen for 88% Test accuracy__, which is better by huge margin compared to previous model."
      ]
    },
    {
      "cell_type": "code",
      "metadata": {
        "id": "ShM_8pHLstd9"
      },
      "source": [
        "#### 3)  Normal Conv2d with 460,000 trainable Params   with Cyclic learning rate scheduler :: "
      ],
      "execution_count": null,
      "outputs": []
    },
    {
      "cell_type": "markdown",
      "metadata": {
        "id": "nzXTTG9yc4PS"
      },
      "source": [
        "* The performance  of this model\n",
        "    almost Similar to the Conv2d Separable , same techniques of using learning rate finder and cyclic learning rates were used here as well."
      ]
    },
    {
      "cell_type": "code",
      "metadata": {
        "id": "vuFm8rv8std_"
      },
      "source": [
        "#### 4) Normal Conv2d with 986,000 trainable Params with Cyclic learning rate scheduler::\n",
        "\n",
        "* This model has the same design  as the Chosen model, The difference here is the use of Gridsearch like techinique to find the best intial learning rate for the model\n",
        "    to begin with and the use of Cyclical learning rate schedulers.\n",
        "    \n",
        "* This model used both Triangular2 and exp_range which gradually decays the Traingular.\n",
        "\n",
        "* As observed in other models with cyclical learning rate schedulers , this model fits the same pattern, of converging in less number of epochs,\n",
        "    ( i.e best one was 89% test accuracy at 12th epoch)  with very minimal overfitting to training data set.\n"
      ],
      "execution_count": null,
      "outputs": []
    },
    {
      "cell_type": "markdown",
      "metadata": {
        "id": "NL9F3JD7c4PT"
      },
      "source": [
        "* Models were also run with Regularizers , but did not show significant improvement, as regularizers are not alternatives to Dropouts. Also, regularizers increase the \n",
        "   Time taken to complete one epoch by _5 times _ when regularizers were not used."
      ]
    },
    {
      "cell_type": "markdown",
      "metadata": {
        "id": "9ow4qpaUc4PT"
      },
      "source": [
        "#### 5 ) Normal Conv2d With 986,000  trainable params SGD optimizer, as mentioned in the Densenet Paper ::\n",
        "\n",
        "*  As mentioned in the Densenet Paper which used SGD with momentum , and 300 epochs,  and 1 Million params. \n",
        "   __Link to paper - (https://arxiv.org/abs/1608.06993)__\n",
        "* Similar settings were tried with Dropouts = 0, and the test accuracy did not cross 88% even after 200 epochs even after using step decay with values \n",
        "   mentioned in the Paper."
      ]
    },
    {
      "cell_type": "code",
      "metadata": {
        "id": "TLVcyNYKflQi"
      },
      "source": [
        "### References ::\n",
        "\n",
        "1) https://www.learnopencv.com/non-photorealistic-rendering-using-opencv-python-c/\n",
        "\n",
        "2) https://stackoverflow.com/questions/33022578/improve-image-quality\n",
        "\n",
        "3) machinecurve.com/index.php/2019/09/24/creating-depthwise-separable-convolutions-in-keras/#\n",
        "\n",
        "4)  https://keras.io/api/layers/convolution_layers/depthwise_convolution2d/\n",
        "\n",
        "\n",
        "5) https://stackoverflow.com/questions/53500047/stop-training-in-keras-when-accuracy-is-already-1-0\n",
        "\n",
        "6) https://towardsdatascience.com/a-bunch-of-tips-and-tricks-for-training-deep-neural-networks-3ca24c31ddc8\n",
        "\n",
        "7) https://www.youtube.com/watch?v=gmr18xg4wTg\n",
        "\n",
        "\n",
        "\n",
        "##### Cyclic learning rate schedulers \n",
        "8) https://www.tensorflow.org/addons/api_docs/python/tfa/optimizers/CyclicalLearningRate\n",
        "\n",
        "9) https://www.pyimagesearch.com/2019/09/23/keras-starting-stopping-and-resuming-training/\n",
        "\n",
        "10) https://www.pyimagesearch.com/2019/07/29/cyclical-learning-rates-with-keras-and-deep-learning/\n",
        "\n",
        "11) https://github.com/bckenstler/CLR\n",
        "\n",
        "12) https://www.jeremyjordan.me/nn-learning-rate/\n",
        "\n",
        "13) https://medium.com/octavian-ai/how-to-use-the-learning-rate-finder-in-tensorflow-126210de9489\n",
        "\n",
        "14) https://www.pyimagesearch.com/2019/08/05/keras-learning-rate-finder/\n",
        "\n",
        "15) https://github.com/psklight/keras_one_cycle_clr\n",
        "\n",
        "\n",
        "#### Papers referred and videos  ::\n",
        " 16) Cyclical Learning Rates for Training Neural Networks  - Leslie Smith ( https://arxiv.org/abs/1506.01186 ) \n",
        "        \n",
        " 17) Competition Winning Learning Rates -  https://www.youtube.com/watch?v=bR7z2MA0p-o .\n",
        "\n",
        "#### Errors\n",
        "17)  https://stackoverflow.com/questions/55112713/earlystopping-object-has-no-attribute-on-train-batch-begin/55114607\n",
        "\n",
        "##### Editing Colab packages\n",
        "18)https://stackoverflow.com/questions/56917299/how-to-edit-google-colaboratory-libraries\n",
        "\n",
        "##### Learning rate finder\n",
        "20) https://github.com/surmenok/keras_lr_finder\n",
        "\n",
        "21) https://towardsdatascience.com/estimating-optimal-learning-rate-for-a-deep-neural-network-ce32f2556ce0\n",
        "\n",
        "##### Miscellaneous ::\n",
        "22) https://stackoverflow.com/questions/33759623/tensorflow-how-to-save-restore-a-model/58073719#58073719\n",
        "\n",
        "23) https://stackoverflow.com/questions/47523841/using-keras-to-load-model-and-assign-new-values-to-its-parameters\n",
        "\n",
        "\n",
        "##### Types on Convolution ::\n",
        "24) https://towardsdatascience.com/a-comprehensive-introduction-to-different-types-of-convolutions-in-deep-learning-669281e58215\n",
        "\n",
        "25) https://ikhlestov.github.io/pages/machine-learning/convolutions-types/\n",
        "\n",
        "26) https://www.youtube.com/watch?v=gmr18xg4wTg\n",
        "\n",
        "27) https://www.youtube.com/watch?v=T7o3xvJLuHk\n",
        "\n",
        "28) https://www.youtube.com/channel/UCNXHr_mzoplvXy0crvhJKRg"
      ],
      "execution_count": null,
      "outputs": []
    }
  ],
  "metadata": {
    "accelerator": "GPU",
    "colab": {
      "collapsed_sections": [],
      "machine_shape": "hm",
      "provenance": [],
      "toc_visible": true
    },
    "kernelspec": {
      "display_name": "Python 3",
      "language": "python",
      "name": "python3"
    },
    "language_info": {
      "codemirror_mode": {
        "name": "ipython",
        "version": 3
      },
      "file_extension": ".py",
      "mimetype": "text/x-python",
      "name": "python",
      "nbconvert_exporter": "python",
      "pygments_lexer": "ipython3",
      "version": "3.6.5"
    },
    "widgets": {
      "application/vnd.jupyter.widget-state+json": {
        "1a27c19e2ba9487987594a42441b5ab1": {
          "model_module": "@jupyter-widgets/controls",
          "model_name": "HTMLModel",
          "state": {
            "_dom_classes": [],
            "_model_module": "@jupyter-widgets/controls",
            "_model_module_version": "1.5.0",
            "_model_name": "HTMLModel",
            "_view_count": null,
            "_view_module": "@jupyter-widgets/controls",
            "_view_module_version": "1.5.0",
            "_view_name": "HTMLView",
            "description": "",
            "description_tooltip": null,
            "layout": "IPY_MODEL_d5990a30688640ecaad899394c6dd9b3",
            "placeholder": "​",
            "style": "IPY_MODEL_f3ac5bfeb3f046e9a70fff78df5ea1d1",
            "value": " 50000/50000 [00:12&lt;00:00, 4089.54it/s]"
          },
          "model_module_version": "1.5.0"
        },
        "3cb10e0717b246ecbcdac4129374b201": {
          "model_module": "@jupyter-widgets/base",
          "model_name": "LayoutModel",
          "state": {
            "_model_module": "@jupyter-widgets/base",
            "_model_module_version": "1.2.0",
            "_model_name": "LayoutModel",
            "_view_count": null,
            "_view_module": "@jupyter-widgets/base",
            "_view_module_version": "1.2.0",
            "_view_name": "LayoutView",
            "align_content": null,
            "align_items": null,
            "align_self": null,
            "border": null,
            "bottom": null,
            "display": null,
            "flex": null,
            "flex_flow": null,
            "grid_area": null,
            "grid_auto_columns": null,
            "grid_auto_flow": null,
            "grid_auto_rows": null,
            "grid_column": null,
            "grid_gap": null,
            "grid_row": null,
            "grid_template_areas": null,
            "grid_template_columns": null,
            "grid_template_rows": null,
            "height": null,
            "justify_content": null,
            "justify_items": null,
            "left": null,
            "margin": null,
            "max_height": null,
            "max_width": null,
            "min_height": null,
            "min_width": null,
            "object_fit": null,
            "object_position": null,
            "order": null,
            "overflow": null,
            "overflow_x": null,
            "overflow_y": null,
            "padding": null,
            "right": null,
            "top": null,
            "visibility": null,
            "width": null
          },
          "model_module_version": "1.2.0"
        },
        "5eae98518820457ab20a64191bbcc604": {
          "model_module": "@jupyter-widgets/controls",
          "model_name": "FloatProgressModel",
          "state": {
            "_dom_classes": [],
            "_model_module": "@jupyter-widgets/controls",
            "_model_module_version": "1.5.0",
            "_model_name": "FloatProgressModel",
            "_view_count": null,
            "_view_module": "@jupyter-widgets/controls",
            "_view_module_version": "1.5.0",
            "_view_name": "ProgressView",
            "bar_style": "success",
            "description": "100%",
            "description_tooltip": null,
            "layout": "IPY_MODEL_3cb10e0717b246ecbcdac4129374b201",
            "max": 50000,
            "min": 0,
            "orientation": "horizontal",
            "style": "IPY_MODEL_fb56f03f2ecb4e128161ee75e920e756",
            "value": 50000
          },
          "model_module_version": "1.5.0"
        },
        "64a6b992f8f94155bf3b787997a51efa": {
          "model_module": "@jupyter-widgets/base",
          "model_name": "LayoutModel",
          "state": {
            "_model_module": "@jupyter-widgets/base",
            "_model_module_version": "1.2.0",
            "_model_name": "LayoutModel",
            "_view_count": null,
            "_view_module": "@jupyter-widgets/base",
            "_view_module_version": "1.2.0",
            "_view_name": "LayoutView",
            "align_content": null,
            "align_items": null,
            "align_self": null,
            "border": null,
            "bottom": null,
            "display": null,
            "flex": null,
            "flex_flow": null,
            "grid_area": null,
            "grid_auto_columns": null,
            "grid_auto_flow": null,
            "grid_auto_rows": null,
            "grid_column": null,
            "grid_gap": null,
            "grid_row": null,
            "grid_template_areas": null,
            "grid_template_columns": null,
            "grid_template_rows": null,
            "height": null,
            "justify_content": null,
            "justify_items": null,
            "left": null,
            "margin": null,
            "max_height": null,
            "max_width": null,
            "min_height": null,
            "min_width": null,
            "object_fit": null,
            "object_position": null,
            "order": null,
            "overflow": null,
            "overflow_x": null,
            "overflow_y": null,
            "padding": null,
            "right": null,
            "top": null,
            "visibility": null,
            "width": null
          },
          "model_module_version": "1.2.0"
        },
        "697420b33a2745b98930aeef2fa0603b": {
          "model_module": "@jupyter-widgets/base",
          "model_name": "LayoutModel",
          "state": {
            "_model_module": "@jupyter-widgets/base",
            "_model_module_version": "1.2.0",
            "_model_name": "LayoutModel",
            "_view_count": null,
            "_view_module": "@jupyter-widgets/base",
            "_view_module_version": "1.2.0",
            "_view_name": "LayoutView",
            "align_content": null,
            "align_items": null,
            "align_self": null,
            "border": null,
            "bottom": null,
            "display": null,
            "flex": null,
            "flex_flow": null,
            "grid_area": null,
            "grid_auto_columns": null,
            "grid_auto_flow": null,
            "grid_auto_rows": null,
            "grid_column": null,
            "grid_gap": null,
            "grid_row": null,
            "grid_template_areas": null,
            "grid_template_columns": null,
            "grid_template_rows": null,
            "height": null,
            "justify_content": null,
            "justify_items": null,
            "left": null,
            "margin": null,
            "max_height": null,
            "max_width": null,
            "min_height": null,
            "min_width": null,
            "object_fit": null,
            "object_position": null,
            "order": null,
            "overflow": null,
            "overflow_x": null,
            "overflow_y": null,
            "padding": null,
            "right": null,
            "top": null,
            "visibility": null,
            "width": null
          },
          "model_module_version": "1.2.0"
        },
        "6cf9cffd6eed44e68783b5d3af5151bb": {
          "model_module": "@jupyter-widgets/controls",
          "model_name": "DescriptionStyleModel",
          "state": {
            "_model_module": "@jupyter-widgets/controls",
            "_model_module_version": "1.5.0",
            "_model_name": "DescriptionStyleModel",
            "_view_count": null,
            "_view_module": "@jupyter-widgets/base",
            "_view_module_version": "1.2.0",
            "_view_name": "StyleView",
            "description_width": ""
          },
          "model_module_version": "1.5.0"
        },
        "6e1ae459c0774a688677dbcb1575f026": {
          "model_module": "@jupyter-widgets/controls",
          "model_name": "ProgressStyleModel",
          "state": {
            "_model_module": "@jupyter-widgets/controls",
            "_model_module_version": "1.5.0",
            "_model_name": "ProgressStyleModel",
            "_view_count": null,
            "_view_module": "@jupyter-widgets/base",
            "_view_module_version": "1.2.0",
            "_view_name": "StyleView",
            "bar_color": null,
            "description_width": "initial"
          },
          "model_module_version": "1.5.0"
        },
        "730d049e48a843f68a1b5d956ab84d75": {
          "model_module": "@jupyter-widgets/base",
          "model_name": "LayoutModel",
          "state": {
            "_model_module": "@jupyter-widgets/base",
            "_model_module_version": "1.2.0",
            "_model_name": "LayoutModel",
            "_view_count": null,
            "_view_module": "@jupyter-widgets/base",
            "_view_module_version": "1.2.0",
            "_view_name": "LayoutView",
            "align_content": null,
            "align_items": null,
            "align_self": null,
            "border": null,
            "bottom": null,
            "display": null,
            "flex": null,
            "flex_flow": null,
            "grid_area": null,
            "grid_auto_columns": null,
            "grid_auto_flow": null,
            "grid_auto_rows": null,
            "grid_column": null,
            "grid_gap": null,
            "grid_row": null,
            "grid_template_areas": null,
            "grid_template_columns": null,
            "grid_template_rows": null,
            "height": null,
            "justify_content": null,
            "justify_items": null,
            "left": null,
            "margin": null,
            "max_height": null,
            "max_width": null,
            "min_height": null,
            "min_width": null,
            "object_fit": null,
            "object_position": null,
            "order": null,
            "overflow": null,
            "overflow_x": null,
            "overflow_y": null,
            "padding": null,
            "right": null,
            "top": null,
            "visibility": null,
            "width": null
          },
          "model_module_version": "1.2.0"
        },
        "7e133d4e7dd647feb0f4cbf06470fcec": {
          "model_module": "@jupyter-widgets/controls",
          "model_name": "HBoxModel",
          "state": {
            "_dom_classes": [],
            "_model_module": "@jupyter-widgets/controls",
            "_model_module_version": "1.5.0",
            "_model_name": "HBoxModel",
            "_view_count": null,
            "_view_module": "@jupyter-widgets/controls",
            "_view_module_version": "1.5.0",
            "_view_name": "HBoxView",
            "box_style": "",
            "children": [
              "IPY_MODEL_bb4ec63bed03425d9d95650430f79b43",
              "IPY_MODEL_bca2591c85b248ad8d36f4184786dbc2"
            ],
            "layout": "IPY_MODEL_697420b33a2745b98930aeef2fa0603b"
          },
          "model_module_version": "1.5.0"
        },
        "9708c8a0780742099559b78c4d149e5e": {
          "model_module": "@jupyter-widgets/base",
          "model_name": "LayoutModel",
          "state": {
            "_model_module": "@jupyter-widgets/base",
            "_model_module_version": "1.2.0",
            "_model_name": "LayoutModel",
            "_view_count": null,
            "_view_module": "@jupyter-widgets/base",
            "_view_module_version": "1.2.0",
            "_view_name": "LayoutView",
            "align_content": null,
            "align_items": null,
            "align_self": null,
            "border": null,
            "bottom": null,
            "display": null,
            "flex": null,
            "flex_flow": null,
            "grid_area": null,
            "grid_auto_columns": null,
            "grid_auto_flow": null,
            "grid_auto_rows": null,
            "grid_column": null,
            "grid_gap": null,
            "grid_row": null,
            "grid_template_areas": null,
            "grid_template_columns": null,
            "grid_template_rows": null,
            "height": null,
            "justify_content": null,
            "justify_items": null,
            "left": null,
            "margin": null,
            "max_height": null,
            "max_width": null,
            "min_height": null,
            "min_width": null,
            "object_fit": null,
            "object_position": null,
            "order": null,
            "overflow": null,
            "overflow_x": null,
            "overflow_y": null,
            "padding": null,
            "right": null,
            "top": null,
            "visibility": null,
            "width": null
          },
          "model_module_version": "1.2.0"
        },
        "bb4ec63bed03425d9d95650430f79b43": {
          "model_module": "@jupyter-widgets/controls",
          "model_name": "FloatProgressModel",
          "state": {
            "_dom_classes": [],
            "_model_module": "@jupyter-widgets/controls",
            "_model_module_version": "1.5.0",
            "_model_name": "FloatProgressModel",
            "_view_count": null,
            "_view_module": "@jupyter-widgets/controls",
            "_view_module_version": "1.5.0",
            "_view_name": "ProgressView",
            "bar_style": "success",
            "description": "100%",
            "description_tooltip": null,
            "layout": "IPY_MODEL_9708c8a0780742099559b78c4d149e5e",
            "max": 10000,
            "min": 0,
            "orientation": "horizontal",
            "style": "IPY_MODEL_6e1ae459c0774a688677dbcb1575f026",
            "value": 10000
          },
          "model_module_version": "1.5.0"
        },
        "bca2591c85b248ad8d36f4184786dbc2": {
          "model_module": "@jupyter-widgets/controls",
          "model_name": "HTMLModel",
          "state": {
            "_dom_classes": [],
            "_model_module": "@jupyter-widgets/controls",
            "_model_module_version": "1.5.0",
            "_model_name": "HTMLModel",
            "_view_count": null,
            "_view_module": "@jupyter-widgets/controls",
            "_view_module_version": "1.5.0",
            "_view_name": "HTMLView",
            "description": "",
            "description_tooltip": null,
            "layout": "IPY_MODEL_64a6b992f8f94155bf3b787997a51efa",
            "placeholder": "​",
            "style": "IPY_MODEL_6cf9cffd6eed44e68783b5d3af5151bb",
            "value": " 10000/10000 [00:02&lt;00:00, 3921.09it/s]"
          },
          "model_module_version": "1.5.0"
        },
        "be4b080f4aea4783bca9b2fcaeddd871": {
          "model_module": "@jupyter-widgets/controls",
          "model_name": "HBoxModel",
          "state": {
            "_dom_classes": [],
            "_model_module": "@jupyter-widgets/controls",
            "_model_module_version": "1.5.0",
            "_model_name": "HBoxModel",
            "_view_count": null,
            "_view_module": "@jupyter-widgets/controls",
            "_view_module_version": "1.5.0",
            "_view_name": "HBoxView",
            "box_style": "",
            "children": [
              "IPY_MODEL_5eae98518820457ab20a64191bbcc604",
              "IPY_MODEL_1a27c19e2ba9487987594a42441b5ab1"
            ],
            "layout": "IPY_MODEL_730d049e48a843f68a1b5d956ab84d75"
          },
          "model_module_version": "1.5.0"
        },
        "d5990a30688640ecaad899394c6dd9b3": {
          "model_module": "@jupyter-widgets/base",
          "model_name": "LayoutModel",
          "state": {
            "_model_module": "@jupyter-widgets/base",
            "_model_module_version": "1.2.0",
            "_model_name": "LayoutModel",
            "_view_count": null,
            "_view_module": "@jupyter-widgets/base",
            "_view_module_version": "1.2.0",
            "_view_name": "LayoutView",
            "align_content": null,
            "align_items": null,
            "align_self": null,
            "border": null,
            "bottom": null,
            "display": null,
            "flex": null,
            "flex_flow": null,
            "grid_area": null,
            "grid_auto_columns": null,
            "grid_auto_flow": null,
            "grid_auto_rows": null,
            "grid_column": null,
            "grid_gap": null,
            "grid_row": null,
            "grid_template_areas": null,
            "grid_template_columns": null,
            "grid_template_rows": null,
            "height": null,
            "justify_content": null,
            "justify_items": null,
            "left": null,
            "margin": null,
            "max_height": null,
            "max_width": null,
            "min_height": null,
            "min_width": null,
            "object_fit": null,
            "object_position": null,
            "order": null,
            "overflow": null,
            "overflow_x": null,
            "overflow_y": null,
            "padding": null,
            "right": null,
            "top": null,
            "visibility": null,
            "width": null
          },
          "model_module_version": "1.2.0"
        },
        "f3ac5bfeb3f046e9a70fff78df5ea1d1": {
          "model_module": "@jupyter-widgets/controls",
          "model_name": "DescriptionStyleModel",
          "state": {
            "_model_module": "@jupyter-widgets/controls",
            "_model_module_version": "1.5.0",
            "_model_name": "DescriptionStyleModel",
            "_view_count": null,
            "_view_module": "@jupyter-widgets/base",
            "_view_module_version": "1.2.0",
            "_view_name": "StyleView",
            "description_width": ""
          },
          "model_module_version": "1.5.0"
        },
        "fb56f03f2ecb4e128161ee75e920e756": {
          "model_module": "@jupyter-widgets/controls",
          "model_name": "ProgressStyleModel",
          "state": {
            "_model_module": "@jupyter-widgets/controls",
            "_model_module_version": "1.5.0",
            "_model_name": "ProgressStyleModel",
            "_view_count": null,
            "_view_module": "@jupyter-widgets/base",
            "_view_module_version": "1.2.0",
            "_view_name": "StyleView",
            "bar_color": null,
            "description_width": "initial"
          },
          "model_module_version": "1.5.0"
        }
      }
    }
  },
  "nbformat": 4,
  "nbformat_minor": 0
}