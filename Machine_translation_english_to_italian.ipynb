{
  "cells": [
    {
      "cell_type": "markdown",
      "metadata": {
        "id": "EdHVQrqyDB50"
      },
      "source": [
        "## This notebook contains NMT implementation (Machine translation i.e italian to english or english to italian translation)\n",
        "\n",
        "It uses global attention with general, concat and dot products for measuring similarity between encoder and decoder states.The notebook also contains a vanilla implementation of machine translation"
      ]
    },
    {
      "cell_type": "code",
      "execution_count": null,
      "metadata": {
        "colab": {
          "base_uri": "https://localhost:8080/",
          "height": 102
        },
        "id": "E58HaeA6CsM9",
        "outputId": "63d96cf4-f0e8-466e-985e-c8479deb274e"
      },
      "outputs": [
        {
          "name": "stdout",
          "output_type": "stream",
          "text": [
            "======================================== Memory Information ========================================\n",
            "Total: 25.51GB\n",
            "Available: 21.57GB\n",
            "Used: 4.42GB\n",
            "Percentage: 15.4%\n"
          ]
        }
      ],
      "source": [
        "import psutil\n",
        "def get_size(bytes, suffix=\"B\"):\n",
        "    factor = 1024\n",
        "    for unit in [\"\", \"K\", \"M\", \"G\", \"T\", \"P\"]:\n",
        "        if bytes < factor:\n",
        "            return f\"{bytes:.2f}{unit}{suffix}\"\n",
        "        bytes /= factor\n",
        "print(\"=\"*40, \"Memory Information\", \"=\"*40)\n",
        "svmem = psutil.virtual_memory()\n",
        "print(f\"Total: {get_size(svmem.total)}\") ; print(f\"Available: {get_size(svmem.available)}\")\n",
        "print(f\"Used: {get_size(svmem.used)}\") ; print(f\"Percentage: {svmem.percent}%\")"
      ]
    },
    {
      "cell_type": "markdown",
      "metadata": {
        "id": "FgVfBlvZDEja"
      },
      "source": [
        "# GPU Information"
      ]
    },
    {
      "cell_type": "code",
      "execution_count": null,
      "metadata": {
        "colab": {
          "base_uri": "https://localhost:8080/",
          "height": 357
        },
        "id": "rxlkxvkrCyin",
        "outputId": "a9c83996-ca05-468a-cffd-55b7cbe82279"
      },
      "outputs": [
        {
          "name": "stdout",
          "output_type": "stream",
          "text": [
            "Sun Jul  5 08:41:57 2020       \n",
            "+-----------------------------------------------------------------------------+\n",
            "| NVIDIA-SMI 450.36.06    Driver Version: 418.67       CUDA Version: 10.1     |\n",
            "|-------------------------------+----------------------+----------------------+\n",
            "| GPU  Name        Persistence-M| Bus-Id        Disp.A | Volatile Uncorr. ECC |\n",
            "| Fan  Temp  Perf  Pwr:Usage/Cap|         Memory-Usage | GPU-Util  Compute M. |\n",
            "|                               |                      |               MIG M. |\n",
            "|===============================+======================+======================|\n",
            "|   0  Tesla P100-PCIE...  Off  | 00000000:00:04.0 Off |                    0 |\n",
            "| N/A   43C    P0    39W / 250W |  15561MiB / 16280MiB |      0%      Default |\n",
            "|                               |                      |                 ERR! |\n",
            "+-------------------------------+----------------------+----------------------+\n",
            "                                                                               \n",
            "+-----------------------------------------------------------------------------+\n",
            "| Processes:                                                                  |\n",
            "|  GPU   GI   CI        PID   Type   Process name                  GPU Memory |\n",
            "|        ID   ID                                                   Usage      |\n",
            "|=============================================================================|\n",
            "|  No running processes found                                                 |\n",
            "+-----------------------------------------------------------------------------+\n"
          ]
        }
      ],
      "source": [
        "! nvidia-smi"
      ]
    },
    {
      "cell_type": "markdown",
      "metadata": {
        "id": "fwPL0hIlGKoA"
      },
      "source": [
        "# **Sequence to sequence implementation**</font>"
      ]
    },
    {
      "cell_type": "markdown",
      "metadata": {
        "id": "Q3d7GeBMGbsJ"
      },
      "source": [
        "1. Download the **Italian** to **English** translation dataset from <a href=\"http://www.manythings.org/anki/ita-eng.zip\">here</a>\n",
        "\n",
        "2. You will find **ita.txt** file in that ZIP, \n",
        "you can read that data using python and preprocess that data. \n",
        "\n",
        "3. We  implement an Encoder and Decoder architecture with  \n",
        "attention\n",
        "\n",
        "    * Encoder   - with 1 layer LSTM <br>\n",
        "    * Decoder   - with 1 layer LSTM<br>\n",
        "    * attention \n",
        "\n",
        "4. In Global attention, we have 3 types of scoring functions\n",
        "<img src='https://i.imgur.com/iD2jZo3.png'>\n",
        "\n",
        "    * In model 1 we implemnt \"dot\" score function\n",
        "    * In model 2 we implement \"general\" score function\n",
        "    * In model 3 we implemnt \"concat\" score function.<br>\n",
        "    "
      ]
    },
    {
      "cell_type": "code",
      "execution_count": null,
      "metadata": {
        "id": "YsrnFikGHYmX"
      },
      "outputs": [],
      "source": [
        "## Importing Necessary \n",
        "\n",
        "import tensorflow as tf\n",
        "from tensorflow.keras.layers import Input, Softmax, RNN, Dense, Embedding, LSTM, TimeDistributed\n",
        "from tensorflow.keras.models import Model\n",
        "from tensorflow.keras.preprocessing.text import Tokenizer\n",
        "from tensorflow.keras.preprocessing.sequence import pad_sequences\n",
        "from tqdm.notebook import tqdm\n",
        "import warnings\n",
        "warnings.filterwarnings('ignore')\n",
        "import nltk.translate.bleu_score as bleu\n",
        "import numpy as np\n",
        "import matplotlib.pyplot as plt\n",
        "import seaborn as sns\n",
        "import zipfile\n",
        "import random\n",
        "import unicodedata\n",
        "import re\n",
        "import os"
      ]
    },
    {
      "cell_type": "code",
      "execution_count": null,
      "metadata": {
        "colab": {
          "base_uri": "https://localhost:8080/",
          "height": 33
        },
        "id": "HIRgzixOHKDs",
        "outputId": "b3a6f8db-6e09-482a-a8f3-9752f6ecbf77"
      },
      "outputs": [
        {
          "name": "stdout",
          "output_type": "stream",
          "text": [
            "Drive already mounted at /content/drive; to attempt to forcibly remount, call drive.mount(\"/content/drive\", force_remount=True).\n"
          ]
        }
      ],
      "source": [
        "from google.colab import drive\n",
        "drive.mount('/content/drive')"
      ]
    },
    {
      "cell_type": "code",
      "execution_count": null,
      "metadata": {
        "colab": {
          "base_uri": "https://localhost:8080/",
          "height": 34
        },
        "id": "53Vf1xGdJEoP",
        "outputId": "a4918949-3591-485c-87d3-ba4d5a5aeb1a"
      },
      "outputs": [
        {
          "data": {
            "application/vnd.google.colaboratory.intrinsic": {
              "type": "string"
            },
            "text/plain": [
              "'/content/drive/My Drive'"
            ]
          },
          "execution_count": 88,
          "metadata": {
            "tags": []
          },
          "output_type": "execute_result"
        }
      ],
      "source": [
        "os.chdir( '/content/drive/My Drive' )\n",
        "os.getcwd()"
      ]
    },
    {
      "cell_type": "markdown",
      "metadata": {
        "id": "3k_AlAuKJqVA"
      },
      "source": [
        "### Load the Data\n"
      ]
    },
    {
      "cell_type": "code",
      "execution_count": null,
      "metadata": {
        "id": "lZjZg54yvk3R"
      },
      "outputs": [],
      "source": [
        "# !wget --header=\"Host: www.manythings.org\" --header=\"User-Agent: Mozilla/5.0 (Windows NT 10.0; Win64; x64) AppleWebKit/537.36 (KHTML, like Gecko) Chrome/83.0.4103.116 Safari/537.36\" --header=\"Accept: text/html,application/xhtml+xml,application/xml;q=0.9,image/webp,image/apng,*/*;q=0.8,application/signed-exchange;v=b3;q=0.9\" --header=\"Accept-Language: en-US,en;q=0.9\" --header=\"Referer: https://colab.research.google.com/\" --header=\"Cookie: __cfduid=d16fa2cd8fc38b9f700c89cf62b5a453e1593506556\" --header=\"Connection: keep-alive\" \"http://www.manythings.org/anki/ita-eng.zip\" -c -O 'ita-eng.zip'\n",
        "# !wget --header=\"Host: doc-0c-a0-docs.googleusercontent.com\" --header=\"User-Agent: Mozilla/5.0 (Windows NT 10.0; Win64; x64) AppleWebKit/537.36 (KHTML, like Gecko) Chrome/83.0.4103.116 Safari/537.36\" --header=\"Accept: text/html,application/xhtml+xml,application/xml;q=0.9,image/webp,image/apng,*/*;q=0.8,application/signed-exchange;v=b3;q=0.9\" --header=\"Accept-Language: en-US,en;q=0.9\" --header=\"Referer: https://drive.google.com/drive/u/0/my-drive\" --header=\"Cookie: AUTH_4kuvt6cr8mgl7rbuvadsnm96cct15t8d_nonce=9hrilv2239ajo\" --header=\"Connection: keep-alive\" \"https://doc-0c-a0-docs.googleusercontent.com/docs/securesc/7c6p71ehou2ekpfv4iujgdqu0876c9sf/156aumu2kar38qfcmj0sjljcrnp8jsdg/1593751725000/05123619362948744171/05123619362948744171/1-3Kqf0zJFQu7f6KEgcfsHL7Ru57QMtnb?e=download&authuser=0&nonce=9hrilv2239ajo&user=05123619362948744171&hash=96mq8363hh1sevil998f0uesabiea84h\" -c -O 'ita.txt'"
      ]
    },
    {
      "cell_type": "code",
      "execution_count": null,
      "metadata": {
        "id": "fU80Ao-AGaob"
      },
      "outputs": [],
      "source": [
        "with zipfile.ZipFile(\"/content/drive/My Drive/ita-eng.zip\",\"r\") as zip_ref:\n",
        "  zip_ref.extractall(  )"
      ]
    },
    {
      "cell_type": "markdown",
      "metadata": {
        "id": "vmGWTdRmKRph"
      },
      "source": [
        "### Preprocessing\n"
      ]
    },
    {
      "cell_type": "code",
      "execution_count": null,
      "metadata": {
        "id": "BrPLq2oUqHSP"
      },
      "outputs": [],
      "source": [
        "with open( '/content/drive/My Drive/ita.txt' , 'r') as file:\n",
        "  data = file.readlines()\n",
        "  hold_data = []\n",
        "  hold_english = []\n",
        "  hold_italian = []\n",
        "  cleaned_eng = []\n",
        "  cleaned_ita = []\n",
        "  for every in data:\n",
        "    hold_data.append(   every.split('\\t')[ : 2 ]    )\n",
        "    hold_english.append(  every.split( '\\t' )[ 0 ]  )\n",
        "    hold_italian.append(  every.split( '\\t' )[ 1 ] )\n",
        "  cleaned_eng = [  re.sub(  r'([!.?])' ,  r' \\1',  every    )   for every in hold_english  ] \n",
        "  cleaned_ita = [  re.sub(  r'([!.?])' ,  r' \\1',  every    )   for every in hold_italian  ]"
      ]
    },
    {
      "cell_type": "code",
      "execution_count": null,
      "metadata": {
        "id": "biEZIQe2pttX"
      },
      "outputs": [],
      "source": [
        "def unicode_to_ascii(s):\n",
        "    ''' Input :: Takes in a string .\n",
        "        outputs :: the string after unicode to ascii ( as there are characters which do not belong in ascii set)\n",
        "    '''\n",
        "    return ''.join(\n",
        "        c for c in unicodedata.normalize('NFD', s)\n",
        "        if unicodedata.category(c) != 'Mn'\n",
        "    )"
      ]
    },
    {
      "cell_type": "code",
      "execution_count": null,
      "metadata": {
        "id": "0eiWPfFDp3Yo"
      },
      "outputs": [],
      "source": [
        "def normalize_string(s):\n",
        "    ''' Input :: Takes in a string , adds spaces between punctuations such as comma, period, question mark etcc...\n",
        "        returns the modified string\n",
        "    '''\n",
        "    s = unicode_to_ascii(s)\n",
        "    s = re.sub(r'([!.?])', r' \\1', s)\n",
        "    s = re.sub(r'[^a-zA-Z.!?]+', r' ', s)\n",
        "    s = re.sub(r'\\s+', r' ', s)\n",
        "    return s"
      ]
    },
    {
      "cell_type": "code",
      "execution_count": null,
      "metadata": {
        "colab": {
          "base_uri": "https://localhost:8080/",
          "height": 34
        },
        "id": "VTuRkJOtp-0d",
        "outputId": "dd5fd2e6-fa07-4444-caf0-9e9d7ccb73aa"
      },
      "outputs": [
        {
          "data": {
            "text/plain": [
              "['Hi .', 'Run !', 'Run !']"
            ]
          },
          "execution_count": 97,
          "metadata": {
            "tags": []
          },
          "output_type": "execute_result"
        }
      ],
      "source": [
        "enc_in = [ normalize_string( word) for word in cleaned_eng ]   # Input for encoder\n",
        "enc_in[ : 3 ]"
      ]
    },
    {
      "cell_type": "code",
      "execution_count": null,
      "metadata": {
        "id": "cEdGma8Np7vT"
      },
      "outputs": [],
      "source": [
        "dec_ita_in = ['<start> ' + normalize_string(word) for word  in cleaned_ita]  # Give this to decoder input\n",
        "dec_ita_out = [  normalize_string(word) + ' <end>' for word in cleaned_ita] #  This is what must be actual decoder output "
      ]
    },
    {
      "cell_type": "code",
      "execution_count": null,
      "metadata": {
        "colab": {
          "base_uri": "https://localhost:8080/",
          "height": 34
        },
        "id": "NTUM6XLpqfQc",
        "outputId": "56544c8a-4c02-4dfe-d3e0-f1f921926efe"
      },
      "outputs": [
        {
          "data": {
            "text/plain": [
              "['<start> Ciao !', '<start> Corri !', '<start> Corra !']"
            ]
          },
          "execution_count": 99,
          "metadata": {
            "tags": []
          },
          "output_type": "execute_result"
        }
      ],
      "source": [
        "dec_ita_in[:3]"
      ]
    },
    {
      "cell_type": "code",
      "execution_count": null,
      "metadata": {
        "colab": {
          "base_uri": "https://localhost:8080/",
          "height": 34
        },
        "id": "U-8Olax3qi7p",
        "outputId": "e0745eed-241c-431b-961f-54e3a67fb899"
      },
      "outputs": [
        {
          "data": {
            "text/plain": [
              "['Ciao ! <end>', 'Corri ! <end>', 'Corra ! <end>']"
            ]
          },
          "execution_count": 100,
          "metadata": {
            "tags": []
          },
          "output_type": "execute_result"
        }
      ],
      "source": [
        "dec_ita_out[ : 3]"
      ]
    },
    {
      "cell_type": "code",
      "execution_count": null,
      "metadata": {
        "colab": {
          "base_uri": "https://localhost:8080/",
          "height": 116
        },
        "id": "TSFGCoS6Qc0f",
        "outputId": "d02664f0-20b1-4578-ae75-994c8c4f6157"
      },
      "outputs": [
        {
          "name": "stdout",
          "output_type": "stream",
          "text": [
            "Sample English word Dictionary  ::  [('.', 1), ('i', 2), ('you', 3), ('tom', 4), ('to', 5)]\n",
            "Sample Encoder input after converting it into  texts to word sequences  based on dictionary::  [[2429, 1], [536, 171], [536, 171], [536, 171], [78, 6]]\n",
            "Sample encoder input  with sentence :: \n",
            "\n",
            "Hi .\n",
            "[2429, 1]\n"
          ]
        }
      ],
      "source": [
        "# Here We are Tokenizing english sentences  with no filters  and this is the fed into the encoder \n",
        "\n",
        "tok_eng = tf.keras.preprocessing.text.Tokenizer( filters='' )\n",
        "tok_eng.fit_on_texts( enc_in )\n",
        "print( 'Sample English word Dictionary  :: ',  list(tok_eng.word_index.items() )[ : 5]  )\n",
        "\n",
        "seq_eng  =  tok_eng.texts_to_sequences( enc_in )\n",
        "print( 'Sample Encoder input after converting it into  texts to word sequences  based on dictionary:: ' , seq_eng[ :5]  )\n",
        "print( 'Sample encoder input  with sentence :: \\n' , enc_in[0] ,  seq_eng[ 0 ] , sep = '\\n')"
      ]
    },
    {
      "cell_type": "code",
      "execution_count": null,
      "metadata": {
        "colab": {
          "base_uri": "https://localhost:8080/",
          "height": 233
        },
        "id": "NippTdHaZ4bS",
        "outputId": "dfb4428e-d87e-40b3-bdf0-527b1a267961"
      },
      "outputs": [
        {
          "name": "stdout",
          "output_type": "stream",
          "text": [
            "Sample Encoder input sequence after padding it with Zeros :: \n",
            " [[2429    1    0    0    0    0    0    0    0    0    0    0    0    0\n",
            "     0    0    0    0    0    0    0    0    0    0    0    0    0    0\n",
            "     0    0    0    0    0    0    0    0    0    0    0    0    0    0\n",
            "     0    0    0    0    0    0    0]\n",
            " [ 536  171    0    0    0    0    0    0    0    0    0    0    0    0\n",
            "     0    0    0    0    0    0    0    0    0    0    0    0    0    0\n",
            "     0    0    0    0    0    0    0    0    0    0    0    0    0    0\n",
            "     0    0    0    0    0    0    0]\n",
            " [ 536  171    0    0    0    0    0    0    0    0    0    0    0    0\n",
            "     0    0    0    0    0    0    0    0    0    0    0    0    0    0\n",
            "     0    0    0    0    0    0    0    0    0    0    0    0    0    0\n",
            "     0    0    0    0    0    0    0]]\n"
          ]
        }
      ],
      "source": [
        "seq_eng_pad = tf.keras.preprocessing.sequence.pad_sequences( seq_eng  ,  padding = 'post' , truncating = 'post' )       \n",
        "# By default it takes in Max length which is 49 words\n",
        "print( 'Sample Encoder input sequence after padding it with Zeros :: \\n' , seq_eng_pad[ : 3] )"
      ]
    },
    {
      "cell_type": "code",
      "execution_count": null,
      "metadata": {
        "colab": {
          "base_uri": "https://localhost:8080/",
          "height": 133
        },
        "id": "e5pHvxSMs3B3",
        "outputId": "5558ce3c-04fc-44c3-fef6-c81f569b5ae3"
      },
      "outputs": [
        {
          "name": "stdout",
          "output_type": "stream",
          "text": [
            "Sample Italian word Dictionary  ::  [('.', 1), ('<start>', 2), ('<end>', 3), ('tom', 4), ('?', 5)]\n",
            "Sample decoder input and output sequences with sentence :: \n",
            "\n",
            "<start> Ciao !\n",
            "Ciao ! <end>\n",
            "[2, 4049, 130]\n",
            "[4049, 130, 3]\n"
          ]
        }
      ],
      "source": [
        "# Here we are tokenizing Italian sentences  and  a part of these sentences are fed into the decoder\n",
        "\n",
        "tok_ita = tf.keras.preprocessing.text.Tokenizer( filters='' )\n",
        "tok_ita.fit_on_texts( dec_ita_in )\n",
        "tok_ita.fit_on_texts( dec_ita_out )\n",
        "\n",
        "print( 'Sample Italian word Dictionary  :: ',  list(tok_ita.word_index.items() )[ : 5]  )\n",
        "\n",
        "dec_seq_ita_in = tok_ita.texts_to_sequences(  dec_ita_in  )\n",
        "dec_seq_ita_out = tok_ita.texts_to_sequences(  dec_ita_out  )\n",
        "\n",
        "print( 'Sample decoder input and output sequences with sentence :: \\n' , dec_ita_in[0] , dec_ita_out[ 0 ] , dec_seq_ita_in[ 0 ] , dec_seq_ita_out [ 0 ] , sep = '\\n')"
      ]
    },
    {
      "cell_type": "code",
      "execution_count": null,
      "metadata": {
        "id": "vfXQQrintG8j"
      },
      "outputs": [],
      "source": [
        "dec_seq_ita_in_pad =  tf.keras.preprocessing.sequence.pad_sequences( dec_seq_ita_in   ,  padding = 'post' , truncating = 'post' )      \n",
        "dec_seq_ita_out_pad =  tf.keras.preprocessing.sequence.pad_sequences( dec_seq_ita_out  ,  padding = 'post' , truncating = 'post' )      "
      ]
    },
    {
      "cell_type": "code",
      "execution_count": null,
      "metadata": {
        "colab": {
          "base_uri": "https://localhost:8080/",
          "height": 33
        },
        "id": "seQV4oGuUcLv",
        "outputId": "899d575b-a995-4c91-9dba-61d48863ba19"
      },
      "outputs": [
        {
          "data": {
            "text/plain": [
              "(49, 53, 53)"
            ]
          },
          "execution_count": 114,
          "metadata": {
            "tags": []
          },
          "output_type": "execute_result"
        }
      ],
      "source": [
        "len( seq_eng_pad[0]) ,  len( dec_seq_ita_in_pad [ 0] ) ,  len( dec_seq_ita_out_pad [ 0] ) "
      ]
    },
    {
      "cell_type": "markdown",
      "metadata": {
        "id": "poKoDeuZd-_7"
      },
      "source": [
        "### Encoder Class\n"
      ]
    },
    {
      "cell_type": "code",
      "execution_count": null,
      "metadata": {
        "id": "Lx_5NA24KzRp"
      },
      "outputs": [],
      "source": [
        "class Encoder(tf.keras.Model):         # tf.keras.Model\n",
        "    '''\n",
        "    Encoder model -- That takes a input sequence and returns output sequence\n",
        "    '''\n",
        "    def __init__( self , inp_vocab_size , embedding_size ,  lstm_size , input_length ):\n",
        "      super( Encoder, self).__init__()      \n",
        "      \n",
        "      self.lstm_size = lstm_size\n",
        "      self.embedding = tf.keras.layers.Embedding( inp_vocab_size , embedding_size, \n",
        "                                                                                      input_length = input_length, name = 'encoder_embedding_layer' , trainable = True)\n",
        "      self.lstm = tf.keras.layers.LSTM (  lstm_size , return_sequences = True , return_state = True , name = 'encoder_Lstm_layer')\n",
        "\n",
        "    def call(  self,  input_sequence ,  states):\n",
        "      '''\n",
        "          This function takes a sequence input and the initial states of the encoder.\n",
        "          Pass the input_sequence input to the Embedding layer, Pass the embedding layer ouput to encoder_lstm\n",
        "          returns -- All encoder_outputs, last time steps hidden and cell state\n",
        "      '''\n",
        "      embedding_lr = self.embedding( input_sequence )\n",
        "      output_sequence, final_state_hidden , final_state_cell = self.lstm(  embedding_lr , initial_state = states )\n",
        "      return output_sequence , final_state_hidden, final_state_cell\n",
        "\n",
        "    def initialize_states( self ,  batch_size ):\n",
        "      '''\n",
        "      Given a batch size it will return intial hidden state and intial cell state.\n",
        "      If batch size is 32- Hidden state shape is [32,lstm_units], cell state shape is [32,lstm_units]\n",
        "      '''\n",
        "      init_hidden = tf.zeros(  [ batch_size , self.lstm_size ] , dtype = 'float32' )                   # Initialize zeros as initial hidden and cell states  \n",
        "      init_cell  =  tf.zeros(  [ batch_size , self.lstm_size ], dtype= 'float32' )\n",
        "    \n",
        "      # init_hidden = tf.random.normal( shape =  [batch_size , self.lstm_size  ]  )               # Can initialize initial hidden and cell state from any distribution\n",
        "      # init_cell = tf.random.normal( shape =  [batch_size , self.lstm_size  ]  ) \n",
        "    \n",
        "      return init_hidden, init_cell"
      ]
    },
    {
      "cell_type": "markdown",
      "metadata": {
        "id": "4ub9aN-hK244"
      },
      "source": [
        "<font color='cyan'>**Grader function - 1**</font>"
      ]
    },
    {
      "cell_type": "code",
      "execution_count": null,
      "metadata": {
        "colab": {
          "base_uri": "https://localhost:8080/",
          "height": 34
        },
        "id": "wRoe65b9LB0D",
        "outputId": "372bcdff-332f-47f1-c08d-b8695082a6a7"
      },
      "outputs": [
        {
          "name": "stdout",
          "output_type": "stream",
          "text": [
            "True\n"
          ]
        }
      ],
      "source": [
        "def grader_check_encoder():\n",
        "    vocab_size=10\n",
        "    embedding_size=20\n",
        "    lstm_size=32\n",
        "    input_length=10\n",
        "    batch_size=16\n",
        "    encoder=Encoder(vocab_size,embedding_size,lstm_size,input_length)\n",
        "    input_sequence=tf.random.uniform(shape=[batch_size,input_length],maxval=vocab_size,minval=0,dtype=tf.int32)\n",
        "    initial_state=encoder.initialize_states(batch_size)\n",
        "    encoder_output,state_h,state_c=encoder(input_sequence,initial_state)\n",
        "    \n",
        "    assert(encoder_output.shape==(batch_size,input_length,lstm_size) and state_h.shape==(batch_size,lstm_size) and state_c.shape==(batch_size,lstm_size))\n",
        "    return True\n",
        "print(grader_check_encoder())"
      ]
    },
    {
      "cell_type": "markdown",
      "metadata": {
        "id": "7TZ1w76SeDNJ"
      },
      "source": [
        "### Attention Class\n"
      ]
    },
    {
      "cell_type": "code",
      "execution_count": null,
      "metadata": {
        "id": "E9_wGhZjOjGu"
      },
      "outputs": [],
      "source": [
        "class Attention(  tf.keras.layers.Layer  ):           # tf.keras.layers.Layer          tf.keras.Model  \n",
        "  '''\n",
        "    Class the calculates score based on the scoring_function using Bahdanu attention mechanism.\n",
        "  '''\n",
        "  def __init__(self,scoring_function, att_units):\n",
        "    super(Attention, self).__init__()\n",
        "    self.att_units = att_units                                                  \n",
        "    self.scoring_function = scoring_function      # Scoring function either dot, general  or concat.\n",
        "\n",
        "    if scoring_function == 'general':\n",
        "      self.W_alpha = Dense(  self.att_units  )\n",
        "      \n",
        "    elif scoring_function == 'concat':\n",
        "      self.W_alpha = Dense( self.att_units , activation = 'tanh')\n",
        "      self.V_alpha = Dense( 1 )\n",
        "\n",
        "  def call(  self  ,  decoder_hidden_state  ,  encoder_output):\n",
        "    '''\n",
        "      Attention mechanism takes two inputs current step -- decoder_hidden_state and all the encoder_outputs.\n",
        "      * Based on the scoring function we will find the score or similarity between decoder_hidden_state and encoder_output.\n",
        "        Multiply the score function with your encoder_outputs to get the context vector.\n",
        "        Function returns context vector and attention weights(softmax - scores)\n",
        "    '''\n",
        "\n",
        "    if self.scoring_function == 'dot':      \n",
        "      decoder_hidden_state = tf.reshape(  decoder_hidden_state , shape = (decoder_hidden_state.shape[ 0 ], 1 ,  decoder_hidden_state.shape[ 1 ]  )  )\n",
        "      score = tf.matmul(  decoder_hidden_state  , encoder_output  ,   transpose_b=True   )\n",
        "        \n",
        "    elif self.scoring_function == 'general' :\n",
        "      decoder_hidden_state = tf.reshape(  decoder_hidden_state , shape = (decoder_hidden_state.shape[ 0 ], 1 ,  decoder_hidden_state.shape[ 1 ]  )  )\n",
        "      score = tf.matmul(   decoder_hidden_state   ,   self.W_alpha(    encoder_output    )     , transpose_b=True     )\n",
        "      \n",
        "        \n",
        "    elif self.scoring_function == 'concat':\n",
        "      decoder_hidden_state = tf.reshape(  decoder_hidden_state , shape = (decoder_hidden_state.shape[ 0 ], 1 ,  decoder_hidden_state.shape[ 1 ]  )  )\n",
        "      # We have to do broadcasting on the decoder's hidden state in order to match the shapes \n",
        "      decoder_hidden_state = tf.tile( decoder_hidden_state , [1, encoder_output.shape[ 1 ]  , 1  ])   \n",
        "      # Concat operation done along the column dimension , meaning we added more columns.\n",
        "      score = self.V_alpha(    self.W_alpha (  tf.concat(  (  decoder_hidden_state  ,   encoder_output  )  , axis = -1  )   )   )\n",
        "      # Transpose it to meet  requirements\n",
        "      score = tf.transpose(score, [0, 2, 1])\n",
        "        \n",
        "    attention_weights = tf.nn.softmax(score, axis  =  2 )       # Along  2nd axis .!\n",
        "    context_vector = tf.matmul(  attention_weights , encoder_output)          # Calculate the context vector \n",
        "\n",
        "    # Reshape Context and alignment vectors to required shape \n",
        "    context_vector = tf.reshape ( context_vector , shape = ( context_vector.shape[ 0 ], context_vector.shape[ 2 ]  )  )\n",
        "    attention_weights = tf.reshape( attention_weights , shape = ( attention_weights.shape[ 0 ] , attention_weights.shape[ 2  ] , attention_weights.shape[ 1 ] ) )\n",
        "\n",
        "    return context_vector , attention_weights"
      ]
    },
    {
      "cell_type": "markdown",
      "metadata": {
        "id": "ExQDlxI9LuqK"
      },
      "source": [
        "<font color='cyan'>**Grader function - 2**</font>"
      ]
    },
    {
      "cell_type": "code",
      "execution_count": null,
      "metadata": {
        "colab": {
          "base_uri": "https://localhost:8080/",
          "height": 68
        },
        "id": "51x50h_TLrl9",
        "outputId": "6dc9d781-a724-4ead-c5bb-3ff9aee5aecd"
      },
      "outputs": [
        {
          "name": "stdout",
          "output_type": "stream",
          "text": [
            "True\n",
            "True\n",
            "True\n"
          ]
        }
      ],
      "source": [
        "def grader_check_attention(scoring_fun):\n",
        "    input_length=10\n",
        "    vocab_size=10\n",
        "    batch_size=16\n",
        "    att_units=32\n",
        "    state_h=tf.random.uniform(shape=[batch_size,att_units])\n",
        "    encoder_output=tf.random.uniform(shape=[batch_size, input_length, att_units])\n",
        "    attention=Attention(scoring_fun,att_units)\n",
        "    context_vector,attention_weights=attention(state_h,encoder_output)\n",
        "    assert(context_vector.shape == ( batch_size ,  att_units ) and attention_weights.shape == ( batch_size , input_length ,1) )\n",
        "    return True\n",
        "\n",
        "print(grader_check_attention('dot'))\n",
        "print(grader_check_attention('general'))\n",
        "print(grader_check_attention('concat'))"
      ]
    },
    {
      "cell_type": "markdown",
      "metadata": {
        "id": "A3RBsS57eIap"
      },
      "source": [
        "### One-Step Decoder Class"
      ]
    },
    {
      "cell_type": "code",
      "execution_count": null,
      "metadata": {
        "id": "Kc8m7lmOL097"
      },
      "outputs": [],
      "source": [
        "class One_Step_Decoder(tf.keras.Model):\n",
        "    ''' Performs the decoder operation for a Single Time step, returns the hidden, cell states and the output\n",
        "    '''\n",
        "  def __init__( self ,  tar_vocab_size  , embedding_dim , input_length  , dec_units ,  score_fun  , att_units  ):\n",
        "    super(One_Step_Decoder, self).__init__()\n",
        "\n",
        "    self.att_units = att_units\n",
        "    self.score_fun = score_fun\n",
        "    self.input_length = input_length\n",
        "    self.dec_units = dec_units\n",
        "    self.attention = Attention( scoring_function = self.score_fun , att_units = self.att_units  )\n",
        "    \n",
        "    self.dec_embedding = tf.keras.layers.Embedding( tar_vocab_size , embedding_dim , \n",
        "                                                                                            input_length = self.input_length , name = 'one_step_Decoder_embedding' , trainable = True) \n",
        "    self.dec_lstm = tf.keras.layers.LSTM (  self.dec_units , return_sequences = True , return_state = True , name = 'one_step_Decoder_lstm'  )\n",
        "    self.dense_layer = Dense(tar_vocab_size , name = 'one_step_decoder_Dense' )\n",
        "\n",
        "\n",
        "  def call(self , input_to_decoder, encoder_output, state_h, state_c):\n",
        "    '''\n",
        "        One step decoder mechanisim step by step:\n",
        "      A. Pass the input_to_decoder to the embedding layer and then get the output(1,1,embedding_dim)    \n",
        "      B. Using the encoder_output and decoder hidden state, compute the context vector.\n",
        "      C. Concat the context vector with the step A output\n",
        "      D. Pass the Step-C output to LSTM/GRU and get the decoder output and states(hidden and cell state)\n",
        "      E. Pass the decoder output to dense layer(vocab size) and store the result into output.\n",
        "      F. Return the states from step D, output from Step E, attention weights from Step -B\n",
        "    '''\n",
        "    embedding_output = self.dec_embedding(  input_to_decoder  )   # Get the embedding representations and the context vector \n",
        "    context_vector, attention_weights = self.attention( state_h , encoder_output )\n",
        "    \n",
        "    context_vector_after_reshaping = tf.reshape( tensor = context_vector , shape =  ( context_vector.shape[ 0 ], 1, context_vector.shape[ 1 ]  ) )\n",
        "    \n",
        "    # Now concatenate both embedding output and the context vector \n",
        "    concat_A_and_C = tf.concat(  [ embedding_output , context_vector_after_reshaping ]  , axis = -1  )\n",
        "    \n",
        "    # Pass this to lstm as Input with hidden state and cellstate  at first time step to be the same as encoder's last time step states\n",
        "    # When its not the first time step, previous decoder hidden and cell states get passed to next time step\n",
        "    dec_lstm_seq , dec_h_state, dec_c_state = self.dec_lstm( concat_A_and_C , initial_state = ( state_h , state_c) )\n",
        "    \n",
        "    \n",
        "    dec_lstm_seq_squeeze = tf.squeeze( dec_lstm_seq , 1)\n",
        "    \n",
        "    # Output from the decoder lstm with no activation.\n",
        "    dense_layer_output = self.dense_layer(   dec_lstm_seq_squeeze  )\n",
        "    \n",
        "    return  dense_layer_output , dec_h_state,  dec_c_state,  attention_weights , context_vector     "
      ]
    },
    {
      "cell_type": "markdown",
      "metadata": {
        "id": "R_I8I4EIMAXq"
      },
      "source": [
        "<font color='cyan'>**Grader function - 3**</font>"
      ]
    },
    {
      "cell_type": "code",
      "execution_count": null,
      "metadata": {
        "colab": {
          "base_uri": "https://localhost:8080/",
          "height": 66
        },
        "id": "uLEXhChnMC1k",
        "outputId": "05316aa3-d956-4a0e-a81c-b4b026bd046d"
      },
      "outputs": [
        {
          "name": "stdout",
          "output_type": "stream",
          "text": [
            "True\n",
            "True\n",
            "True\n"
          ]
        }
      ],
      "source": [
        "def grader_onestepdecoder(score_fun):\n",
        "    vocab_size=13 \n",
        "    embedding_dim=12 \n",
        "    input_length=10\n",
        "    dec_units=16 \n",
        "    att_units=16\n",
        "    batch_size=32\n",
        "    onestepdecoder=One_Step_Decoder(vocab_size, embedding_dim, input_length, dec_units ,score_fun ,att_units)\n",
        "    input_to_decoder=tf.random.uniform(shape=(batch_size,1),maxval=10,minval=0,dtype=tf.int32)\n",
        "    encoder_output=tf.random.uniform(shape=[batch_size,input_length,dec_units])\n",
        "    state_h=tf.random.uniform(shape=[batch_size,dec_units])\n",
        "    state_c=tf.random.uniform(shape=[batch_size,dec_units])\n",
        "    output,state_h,state_c,attention_weights,context_vector=onestepdecoder(input_to_decoder,encoder_output,state_h,state_c)\n",
        "    assert(output.shape==(batch_size,vocab_size))\n",
        "    assert(state_h.shape==(batch_size,dec_units))\n",
        "    assert(state_c.shape==(batch_size,dec_units))\n",
        "    assert(attention_weights.shape==(batch_size,input_length,1))\n",
        "    assert(context_vector.shape==(batch_size,dec_units))\n",
        "    return True\n",
        "    \n",
        "print(grader_onestepdecoder('dot'))\n",
        "print(grader_onestepdecoder('general'))\n",
        "print(grader_onestepdecoder('concat'))"
      ]
    },
    {
      "cell_type": "markdown",
      "metadata": {
        "id": "mOivScs-eMrh"
      },
      "source": [
        "### Decoder Class"
      ]
    },
    {
      "cell_type": "code",
      "execution_count": null,
      "metadata": {
        "id": "zm7MAD5TMIzo"
      },
      "outputs": [],
      "source": [
        "class Decoder(   tf.keras.Model   ):\n",
        "    ''' Here One step decoder model is run for all time steps \n",
        "        and the results are returned\n",
        "    '''\n",
        "    def __init__(self, out_vocab_size, embedding_dim, output_length, dec_units ,score_fun ,att_units):\n",
        "        \n",
        "      super(Decoder, self).__init__()\n",
        "\n",
        "      self.out_vocab_size = out_vocab_size \n",
        "      self.embedding_dim = embedding_dim\n",
        "      self.dec_units = dec_units\n",
        "      self.score_fun = score_fun\n",
        "      self.att_units = att_units\n",
        "      self.output_length = output_length\n",
        "\n",
        "     # Using one step decoder \n",
        "      self.onestepDecoder = One_Step_Decoder(  tar_vocab_size = self.out_vocab_size ,  embedding_dim = self.embedding_dim , \n",
        "                                                                                     input_length = self.output_length ,  dec_units  = self.dec_units  ,  score_fun = self.score_fun , att_units = self.att_units  )\n",
        "      \n",
        "  \n",
        "    def call(self,  input_to_decoder, encoder_output , decoder_hidden_state, state_c  ):        \n",
        "        \n",
        "      # An empty tensor Array which helps us to store at every time step\n",
        "      # https://www.tensorflow.org/api_docs/python/tf/TensorArray\n",
        "      all_outputs=tf.TensorArray(tf.float32 ,  size=input_to_decoder.shape[1]  ,  name='output_array')\n",
        "    \n",
        "      for timestep in range(  0  , input_to_decoder.shape[  1  ]   ):\n",
        "            # Begin at time step 0 until last time step\n",
        "            \n",
        "        dense_layer_output ,  decoder_state_h, decoder_state_c, attention_weights, context_vector  =  self.onestepDecoder( input_to_decoder = input_to_decoder [ : ,timestep : timestep + 1 ] , \n",
        "                                                                          encoder_output =  encoder_output, state_h = decoder_hidden_state  , state_c = state_c )\n",
        "        \n",
        "        # Pass current hidden state and cell state for next time step\n",
        "        decoder_hidden_state =  decoder_state_h\n",
        "        state_c  = decoder_state_c\n",
        "        \n",
        "        all_outputs=all_outputs.write(timestep  ,  dense_layer_output)            \n",
        "      all_outputs=tf.transpose(all_outputs.stack(), [1,0,2]   ) # Finally stack all outputs  and permute \n",
        "\n",
        "\n",
        "      return all_outputs"
      ]
    },
    {
      "cell_type": "markdown",
      "metadata": {
        "id": "FxrL-P8bMJH6"
      },
      "source": [
        "<font color='cyan'>**Grader function - 4**</font>"
      ]
    },
    {
      "cell_type": "code",
      "execution_count": null,
      "metadata": {
        "colab": {
          "base_uri": "https://localhost:8080/",
          "height": 66
        },
        "id": "rtbx6onFMJXb",
        "outputId": "905c1cca-5567-4558-d628-ee2e57b562d9"
      },
      "outputs": [
        {
          "name": "stdout",
          "output_type": "stream",
          "text": [
            "True\n",
            "True\n",
            "True\n"
          ]
        }
      ],
      "source": [
        "def grader_decoder(score_fun):\n",
        "    out_vocab_size=13 \n",
        "    embedding_dim=12 \n",
        "    input_length=10\n",
        "    output_length=11\n",
        "    dec_units=16 \n",
        "    att_units=16\n",
        "    batch_size=32\n",
        "    \n",
        "    target_sentences=tf.random.uniform(shape=(batch_size,output_length),maxval=10,minval=0,dtype=tf.int32)\n",
        "    encoder_output=tf.random.uniform(shape=[batch_size,input_length,dec_units])\n",
        "    state_h=tf.random.uniform(shape=[batch_size,dec_units])\n",
        "    state_c=tf.random.uniform(shape=[batch_size,dec_units])\n",
        "    \n",
        "    decoder=Decoder(out_vocab_size, embedding_dim, output_length, dec_units ,score_fun ,att_units)\n",
        "\n",
        "    output=decoder(target_sentences , encoder_output , state_h , state_c )\n",
        "    \n",
        "    assert(output.shape==(batch_size,output_length,out_vocab_size))\n",
        "    return True\n",
        "print(grader_decoder('dot'))\n",
        "print(grader_decoder('general'))\n",
        "print(grader_decoder('concat'))"
      ]
    },
    {
      "cell_type": "markdown",
      "metadata": {
        "id": "SkUEU-yIePQh"
      },
      "source": [
        "### Encoder Decoder Model Class"
      ]
    },
    {
      "cell_type": "code",
      "execution_count": null,
      "metadata": {
        "colab": {
          "base_uri": "https://localhost:8080/",
          "height": 33
        },
        "id": "kpheXRBVqid1",
        "outputId": "505b064f-4bff-4926-c999-5d57952c7ec3"
      },
      "outputs": [
        {
          "data": {
            "text/plain": [
              "(49, 53, 53)"
            ]
          },
          "execution_count": 130,
          "metadata": {
            "tags": []
          },
          "output_type": "execute_result"
        }
      ],
      "source": [
        "len( seq_eng_pad[0]) ,  len( dec_seq_ita_in_pad [ 0] ) ,  len( dec_seq_ita_out_pad [ 0] ) "
      ]
    },
    {
      "cell_type": "code",
      "execution_count": null,
      "metadata": {
        "id": "x9GPUfFgc6_D"
      },
      "outputs": [],
      "source": [
        "input_vocab_size = len(tok_eng.word_index) + 1            # For encoder\n",
        "output_vocab_size =  len(tok_ita.word_index ) + 1         # For decoder \n",
        "att_units = 256\n",
        "encoder_inputs_length =  len( seq_eng_pad[0]) \n",
        "decoder_inputs_length = len( dec_seq_ita_in_pad [ 0] )\n",
        "\n",
        "\n",
        "class Encoder_Decoder(tf.keras.Model):\n",
        "  def __init__(self, encoder_inputs_length ,  decoder_inputs_length ,  input_vocab_size , output_vocab_size, score_function  , att_units ):\n",
        "    super( Encoder_Decoder , self  ).__init__()\n",
        "\n",
        "    self.input_vocab_size = input_vocab_size                                                # For encoder \n",
        "    self.output_vocab_size = output_vocab_size                                          # For Decoder\n",
        "    self.score_function = score_function    \n",
        "    self.encoder_inputs_length = encoder_inputs_length\n",
        "    self.decoder_inputs_length = decoder_inputs_length\n",
        "    self.att_units = att_units\n",
        "\n",
        "    # Encoder object\n",
        "    self.encoder = Encoder( inp_vocab_size  = self.input_vocab_size   , embedding_size = 64  , lstm_size  = 256 , input_length =  self.encoder_inputs_length  )  # 512, 256, \n",
        "\n",
        "    # Decode object\n",
        "    self.decoder = Decoder( out_vocab_size =  self.output_vocab_size   , embedding_dim = 64  , output_length  =  self.decoder_inputs_length   , \n",
        "                                                dec_units = 256   , score_fun =  self.score_function   , att_units  = self.att_units  )\n",
        "  \n",
        "  def call( self, inputs  ):\n",
        "        \n",
        "    #Intialize encoder states, Pass the encoder_sequence to the embedding layer\n",
        "    encoder_inputs , decoder_inputs  = inputs[ 0 ] , inputs [ 1 ]\n",
        "    \n",
        "     # self.encoder_inputs.shape[ 0 ] is the batch size .\n",
        "    enc_initial_states = self.encoder.initialize_states(  batch_size = encoder_inputs.shape[ 0 ]  ) \n",
        "    enc_output_seq, enc_hid_state, enc_cell_state = self.encoder(  input_sequence = encoder_inputs , states = enc_initial_states   )\n",
        "\n",
        "    all_outputs = self.decoder( input_to_decoder = decoder_inputs , encoder_output = enc_output_seq , decoder_hidden_state = enc_hid_state , state_c = enc_cell_state   )\n",
        "\n",
        "    return all_outputs"
      ]
    },
    {
      "cell_type": "markdown",
      "metadata": {
        "id": "WVRxB-FDMJWL"
      },
      "source": [
        "### Custom loss function"
      ]
    },
    {
      "cell_type": "code",
      "execution_count": null,
      "metadata": {
        "id": "BP1JmOYuyYTa"
      },
      "outputs": [],
      "source": [
        "def modified_sparse_cce(targets, logits):\n",
        "    ''' Input :: Takes in the actual and logits from the model \n",
        "        Function :: calculates sparse categoricl cross entropy ony for non padded values\n",
        "        Here we are calculating the mean loss for a batch\n",
        "    '''\n",
        "    crossentropy = tf.keras.losses.SparseCategoricalCrossentropy(\n",
        "        from_logits=True)\n",
        "    mask = tf.math.logical_not(tf.math.equal(targets, 0))\n",
        "    mask = tf.cast(mask, dtype=tf.int64)\n",
        "    # Neglect the padded postiions whilce calculated cross entropy by weighting them as 0 and remaining as 1\n",
        "    loss = crossentropy(targets, logits, sample_weight=mask)  \n",
        "\n",
        "    return tf.reduce_mean(loss)"
      ]
    },
    {
      "cell_type": "markdown",
      "metadata": {
        "id": "E7Dp7H_3ahUe"
      },
      "source": [
        "### Train Test Split"
      ]
    },
    {
      "cell_type": "code",
      "execution_count": null,
      "metadata": {
        "colab": {
          "base_uri": "https://localhost:8080/",
          "height": 68
        },
        "id": "p86yn9cSKgyF",
        "outputId": "c949e0ac-09db-4d45-ab4f-7e3f9890f186"
      },
      "outputs": [
        {
          "name": "stdout",
          "output_type": "stream",
          "text": [
            "Inputs to the model are in format  eng ( at encoder) - Hi .  , \n",
            "italian ( at decoder input) - <start> Ciao ! , \n",
            "Italian ( for teacher forcing) - Ciao ! <end> \n"
          ]
        }
      ],
      "source": [
        "print(  f'Inputs to the model are in format  eng ( at encoder) - {cleaned_eng[0]}  , \\nitalian ( at decoder input) - {dec_ita_in[0]} , \\nItalian ( for teacher forcing) - {dec_ita_out[0] } ')"
      ]
    },
    {
      "cell_type": "code",
      "execution_count": null,
      "metadata": {
        "id": "hFVo2sMxQOxQ"
      },
      "outputs": [],
      "source": [
        "#(269291, 67322.8)  ( 80% Train and 20% Test )"
      ]
    },
    {
      "cell_type": "code",
      "execution_count": null,
      "metadata": {
        "colab": {
          "base_uri": "https://localhost:8080/",
          "height": 34
        },
        "id": "6L2PaxR11aps",
        "outputId": "c7981421-5fea-4d4b-b6fe-f7f664f3cf71"
      },
      "outputs": [
        {
          "data": {
            "text/plain": [
              "(269291, 269291)"
            ]
          },
          "execution_count": 135,
          "metadata": {
            "tags": []
          },
          "output_type": "execute_result"
        }
      ],
      "source": [
        "make_train_data = random.sample(   range( len(seq_eng_pad )  )  , 269291 )\n",
        "len( set( make_train_data ) ) , len( make_train_data )"
      ]
    },
    {
      "cell_type": "code",
      "execution_count": null,
      "metadata": {
        "colab": {
          "base_uri": "https://localhost:8080/",
          "height": 66,
          "referenced_widgets": [
            "76ac6cbe16ee4e08ae1665da6f525bb7",
            "18c7544f2d8c4b658d7e82417ca40925",
            "3d476a94b98f4caf965ee408a798e8ce",
            "9ea1bab08b3e4f6d8a6e3141cd497419",
            "bb55a02a690a45b68d77ace6803b242d",
            "0e3816beb7d54edca74c9955d350e73b",
            "100876463c454eeeb07c41d9eada27b3",
            "f7d4b887faba460797cdc02502b5a777"
          ]
        },
        "id": "vFnz0h6nohQ1",
        "outputId": "bb7a7830-2bf0-4713-ef5b-c9102c293ab2"
      },
      "outputs": [
        {
          "data": {
            "application/vnd.jupyter.widget-view+json": {
              "model_id": "76ac6cbe16ee4e08ae1665da6f525bb7",
              "version_major": 2,
              "version_minor": 0
            },
            "text/plain": [
              "HBox(children=(FloatProgress(value=0.0, max=269291.0), HTML(value='')))"
            ]
          },
          "metadata": {
            "tags": []
          },
          "output_type": "display_data"
        },
        {
          "name": "stdout",
          "output_type": "stream",
          "text": [
            "\n"
          ]
        }
      ],
      "source": [
        "# Train set !!\n",
        "\n",
        "train_eng = []\n",
        "train_dec_ita_in = []\n",
        "train_dec_ita_out = []\n",
        "for index in tqdm(make_train_data) :\n",
        "  train_eng.append(   list(seq_eng_pad[  index  ]  ) )\n",
        "  train_dec_ita_in.append(   list(dec_seq_ita_in_pad [ index ]   ))\n",
        "  train_dec_ita_out.append(   list(dec_seq_ita_out_pad [ index ] ))\n",
        "\n",
        "train_eng = np.array( train_eng )\n",
        "train_dec_ita_in = np.array( train_dec_ita_in )\n",
        "train_dec_ita_out = np.array(train_dec_ita_out)"
      ]
    },
    {
      "cell_type": "code",
      "execution_count": null,
      "metadata": {
        "colab": {
          "base_uri": "https://localhost:8080/",
          "height": 255
        },
        "id": "NOgVUbWT2jWw",
        "outputId": "034c2197-92f3-45a7-eefd-16fc566d7aa3"
      },
      "outputs": [
        {
          "data": {
            "text/plain": [
              "(array([  4,  93,   7,  33,   5, 132,  59,  12,  48,   1,   0,   0,   0,\n",
              "          0,   0,   0,   0,   0,   0,   0,   0,   0,   0,   0,   0,   0,\n",
              "          0,   0,   0,   0,   0,   0,   0,   0,   0,   0,   0,   0,   0,\n",
              "          0,   0,   0,   0,   0,   0,   0,   0,   0,   0], dtype=int32),\n",
              " array([  2,   4,   6, 113,  88, 105,  45,   1,   0,   0,   0,   0,   0,\n",
              "          0,   0,   0,   0,   0,   0,   0,   0,   0,   0,   0,   0,   0,\n",
              "          0,   0,   0,   0,   0,   0,   0,   0,   0,   0,   0,   0,   0,\n",
              "          0,   0,   0,   0,   0,   0,   0,   0,   0,   0,   0,   0,   0,\n",
              "          0], dtype=int32),\n",
              " array([  4,   6, 113,  88, 105,  45,   1,   3,   0,   0,   0,   0,   0,\n",
              "          0,   0,   0,   0,   0,   0,   0,   0,   0,   0,   0,   0,   0,\n",
              "          0,   0,   0,   0,   0,   0,   0,   0,   0,   0,   0,   0,   0,\n",
              "          0,   0,   0,   0,   0,   0,   0,   0,   0,   0,   0,   0,   0,\n",
              "          0], dtype=int32))"
            ]
          },
          "execution_count": 137,
          "metadata": {
            "tags": []
          },
          "output_type": "execute_result"
        }
      ],
      "source": [
        "train_eng [0] , train_dec_ita_in[0] , train_dec_ita_out[0]"
      ]
    },
    {
      "cell_type": "code",
      "execution_count": null,
      "metadata": {
        "id": "fhEvjXWa4Buk"
      },
      "outputs": [],
      "source": [
        "make_test_data=  list(set(  range(len( seq_eng_pad) ) ).difference(  set(make_train_data)  ))"
      ]
    },
    {
      "cell_type": "code",
      "execution_count": null,
      "metadata": {
        "colab": {
          "base_uri": "https://localhost:8080/",
          "height": 66,
          "referenced_widgets": [
            "3229970aa1af4e2f945fe13c1009160d",
            "4601167a3e874c7899420562dc9e2caa",
            "deabf4b150a34ceabf545179ce6dbad4",
            "f45bb49e808f485c8f1fd12a0e1eff3f",
            "70b3dc665ff9484f97d876bbc507a71c",
            "690011a0d13f48cab2448b0fbc67282f",
            "88c071217baa4c32b19e74ad2fbba9b9",
            "2b1838120a37463491b35b2bc0df4382"
          ]
        },
        "id": "6gHZVvrU3cEA",
        "outputId": "4b11380e-24ec-499c-e9f0-bf364fc479c5"
      },
      "outputs": [
        {
          "data": {
            "application/vnd.jupyter.widget-view+json": {
              "model_id": "3229970aa1af4e2f945fe13c1009160d",
              "version_major": 2,
              "version_minor": 0
            },
            "text/plain": [
              "HBox(children=(FloatProgress(value=0.0, max=67323.0), HTML(value='')))"
            ]
          },
          "metadata": {
            "tags": []
          },
          "output_type": "display_data"
        },
        {
          "name": "stdout",
          "output_type": "stream",
          "text": [
            "\n"
          ]
        }
      ],
      "source": [
        "# Test set !!\n",
        "test_eng = []\n",
        "test_dec_ita_in = []\n",
        "test_dec_ita_out = []\n",
        "for index in tqdm(make_test_data) :\n",
        "  test_eng.append(   list(seq_eng_pad[  index  ]  ) )\n",
        "  test_dec_ita_in.append(   list(dec_seq_ita_in_pad [ index ]   ))\n",
        "  test_dec_ita_out.append(   list(dec_seq_ita_out_pad [ index ] ))\n",
        "\n",
        "\n",
        "test_eng = np.array( test_eng )\n",
        "test_dec_ita_in = np.array( test_dec_ita_in )\n",
        "test_dec_ita_out = np.array(test_dec_ita_out)"
      ]
    },
    {
      "cell_type": "code",
      "execution_count": null,
      "metadata": {
        "colab": {
          "base_uri": "https://localhost:8080/",
          "height": 34
        },
        "id": "eQUmNFG8saZE",
        "outputId": "5707a82d-b6c2-40ec-afcb-3ca57801e0a4"
      },
      "outputs": [
        {
          "data": {
            "text/plain": [
              "(67323, 67323, 67323)"
            ]
          },
          "execution_count": 140,
          "metadata": {
            "tags": []
          },
          "output_type": "execute_result"
        }
      ],
      "source": [
        "len(test_eng) , len( test_dec_ita_in) , len( test_dec_ita_out)"
      ]
    },
    {
      "cell_type": "code",
      "execution_count": null,
      "metadata": {
        "colab": {
          "base_uri": "https://localhost:8080/",
          "height": 255
        },
        "id": "8XJJsVS95OAi",
        "outputId": "fd52ad97-6826-492b-8876-64ef2f01c6c9"
      },
      "outputs": [
        {
          "data": {
            "text/plain": [
              "(array([ 83,  57,  13, 713,  57,  13, 601,   1,   0,   0,   0,   0,   0,\n",
              "          0,   0,   0,   0,   0,   0,   0,   0,   0,   0,   0,   0,   0,\n",
              "          0,   0,   0,   0,   0,   0,   0,   0,   0,   0,   0,   0,   0,\n",
              "          0,   0,   0,   0,   0,   0,   0,   0,   0,   0], dtype=int32),\n",
              " array([   2,    6,   97,    7, 1801,  204, 9860,    1,    0,    0,    0,\n",
              "           0,    0,    0,    0,    0,    0,    0,    0,    0,    0,    0,\n",
              "           0,    0,    0,    0,    0,    0,    0,    0,    0,    0,    0,\n",
              "           0,    0,    0,    0,    0,    0,    0,    0,    0,    0,    0,\n",
              "           0,    0,    0,    0,    0,    0,    0,    0,    0], dtype=int32),\n",
              " array([   6,   97,    7, 1801,  204, 9860,    1,    3,    0,    0,    0,\n",
              "           0,    0,    0,    0,    0,    0,    0,    0,    0,    0,    0,\n",
              "           0,    0,    0,    0,    0,    0,    0,    0,    0,    0,    0,\n",
              "           0,    0,    0,    0,    0,    0,    0,    0,    0,    0,    0,\n",
              "           0,    0,    0,    0,    0,    0,    0,    0,    0], dtype=int32))"
            ]
          },
          "execution_count": 141,
          "metadata": {
            "tags": []
          },
          "output_type": "execute_result"
        }
      ],
      "source": [
        "test_eng[0] , test_dec_ita_in[0] , test_dec_ita_out[0]"
      ]
    },
    {
      "cell_type": "markdown",
      "metadata": {
        "id": "M1Lb-cWwahUh"
      },
      "source": [
        "## Dot Model"
      ]
    },
    {
      "cell_type": "code",
      "execution_count": null,
      "metadata": {
        "id": "uYCgxxMvhLUk"
      },
      "outputs": [],
      "source": [
        "tf.config.experimental_run_functions_eagerly( True  )"
      ]
    },
    {
      "cell_type": "code",
      "execution_count": null,
      "metadata": {
        "id": "O_fP9e2FpKWv"
      },
      "outputs": [],
      "source": [
        "# Creating the model\n",
        "dot_model = Encoder_Decoder ( encoder_inputs_length = encoder_inputs_length , decoder_inputs_length = decoder_inputs_length , \n",
        "                                                                              input_vocab_size = input_vocab_size ,  output_vocab_size =  output_vocab_size , \n",
        "                                                                              score_function = 'dot'  , att_units = att_units  )"
      ]
    },
    {
      "cell_type": "code",
      "execution_count": null,
      "metadata": {
        "id": "6OTlN3VbC_47"
      },
      "outputs": [],
      "source": [
        "# Selecting optimizer and loss ( here modified sparse cce )\n",
        "model_optimizer = tf.keras.optimizers.Adam( learning_rate = 0.001  )\n",
        "dot_model.compile(optimizer=model_optimizer  , loss = modified_sparse_cce  )"
      ]
    },
    {
      "cell_type": "code",
      "execution_count": null,
      "metadata": {
        "colab": {
          "base_uri": "https://localhost:8080/",
          "height": 33
        },
        "id": "ZFCt2_kT3lmz",
        "outputId": "fb374bc6-330e-4528-c3cb-9468d0f30466"
      },
      "outputs": [
        {
          "name": "stdout",
          "output_type": "stream",
          "text": [
            "WARNING:tensorflow:`write_grads` will be ignored in TensorFlow 2.0 for the `TensorBoard` Callback.\n"
          ]
        }
      ],
      "source": [
        "# Using tensorboard\n",
        "import datetime\n",
        "!rm -rf ./logs/\n",
        "log_dir=\"logs/fit1/\" + datetime.datetime.now().strftime(\"%Y%m%d-%H%M%S\")\n",
        "tensorboard_callback = tf.keras.callbacks.TensorBoard(log_dir=log_dir, histogram_freq=1, write_graph=True,write_grads=True)"
      ]
    },
    {
      "cell_type": "code",
      "execution_count": null,
      "metadata": {
        "colab": {
          "base_uri": "https://localhost:8080/",
          "height": 183
        },
        "id": "kktVRoCW6nVH",
        "outputId": "7b504f92-4292-424d-c8a2-2f05f996bfad"
      },
      "outputs": [
        {
          "name": "stdout",
          "output_type": "stream",
          "text": [
            "Epoch 1/5\n",
            "1051/1051 [==============================] - 1041s 991ms/step - loss: 0.6671 - val_loss: 0.4975\n",
            "Epoch 2/5\n",
            "1051/1051 [==============================] - 1039s 989ms/step - loss: 0.3679 - val_loss: 0.2776\n",
            "Epoch 3/5\n",
            "1051/1051 [==============================] - 1035s 984ms/step - loss: 0.2106 - val_loss: 0.1837\n",
            "Epoch 4/5\n",
            "1051/1051 [==============================] - 1036s 986ms/step - loss: 0.1351 - val_loss: 0.1443\n",
            "Epoch 5/5\n",
            "1051/1051 [==============================] - 1036s 986ms/step - loss: 0.0980 - val_loss: 0.1263\n"
          ]
        }
      ],
      "source": [
        "dot_history = dot_model.fit( x = [  train_eng  ,  train_dec_ita_in ] , y = train_dec_ita_out , callbacks= [ tensorboard_callback],\n",
        "                                                              steps_per_epoch  = len( train_eng) // 256 ,  batch_size = 256 , epochs = 5 ,\n",
        "                                                               validation_data = ( [  test_eng  ,  test_dec_ita_in ],  test_dec_ita_out ) , \n",
        "                                                              validation_steps = len( test_eng) // 256  \n",
        "                                 )"
      ]
    },
    {
      "cell_type": "code",
      "execution_count": null,
      "metadata": {
        "colab": {
          "base_uri": "https://localhost:8080/",
          "height": 83
        },
        "id": "xYBKG77b7bTz",
        "outputId": "2e810bfb-495c-4cca-cc1d-7d86ecb0b26d"
      },
      "outputs": [
        {
          "name": "stdout",
          "output_type": "stream",
          "text": [
            "Epoch 1/2\n",
            "1051/1051 [==============================] - 1030s 980ms/step - loss: 0.0778 - val_loss: 0.1175\n",
            "Epoch 2/2\n",
            "1051/1051 [==============================] - 1034s 984ms/step - loss: 0.0662 - val_loss: 0.1133\n"
          ]
        }
      ],
      "source": [
        "dot_history1 = dot_model.fit( x = [  train_eng  ,  train_dec_ita_in ] , y = train_dec_ita_out ,\n",
        "                                                              steps_per_epoch  = len( train_eng ) // 256 ,  batch_size = 256 , epochs = 2 ,\n",
        "                                                               validation_data = ( [  test_eng  ,  test_dec_ita_in ],  test_dec_ita_out ) , \n",
        "                                                              validation_steps = len( test_eng ) // 256  \n",
        "                                 )"
      ]
    },
    {
      "cell_type": "code",
      "execution_count": null,
      "metadata": {
        "id": "tboXFENVSKEE"
      },
      "outputs": [],
      "source": [
        "%load_ext tensorboard"
      ]
    },
    {
      "cell_type": "code",
      "execution_count": null,
      "metadata": {
        "id": "IN6j867CSX_N"
      },
      "outputs": [],
      "source": [
        "%tensorboard --logdir logs/fit1"
      ]
    },
    {
      "cell_type": "code",
      "execution_count": null,
      "metadata": {
        "colab": {
          "base_uri": "https://localhost:8080/",
          "height": 216
        },
        "id": "QyNGfPmS6Wbv",
        "outputId": "4378eb55-e21f-4a8d-cb61-940cb9c806b2"
      },
      "outputs": [
        {
          "name": "stdout",
          "output_type": "stream",
          "text": [
            "Model: \"encoder__decoder\"\n",
            "_________________________________________________________________\n",
            "Layer (type)                 Output Shape              Param #   \n",
            "=================================================================\n",
            "encoder_2 (Encoder)          multiple                  5288384   \n",
            "_________________________________________________________________\n",
            "decoder_4 (Decoder)          multiple                  36796786  \n",
            "=================================================================\n",
            "Total params: 42,085,170\n",
            "Trainable params: 42,085,170\n",
            "Non-trainable params: 0\n",
            "_________________________________________________________________\n"
          ]
        }
      ],
      "source": [
        "dot_model.summary()"
      ]
    },
    {
      "cell_type": "code",
      "execution_count": null,
      "metadata": {
        "id": "Dg8aGhIfqjUo"
      },
      "outputs": [],
      "source": [
        "def plot_attention(attention, sentence, predicted_sentence):\n",
        "  ''' Input :: Takes in attention weights, original sentence and the predicted sentence .\n",
        "      Function :: Plots the model's importance towards words in the original sentence.\n",
        "  '''\n",
        "  import matplotlib.ticker as ticker\n",
        "  import matplotlib.pyplot as plt\n",
        "  \n",
        "  fig = plt.figure(figsize=(10,10))\n",
        "  ax = fig.add_subplot(1, 1, 1)\n",
        "  ax.matshow(attention, cmap='viridis')\n",
        "\n",
        "  fontdict = {'fontsize': 14}\n",
        "\n",
        "  ax.set_xticklabels([''] + sentence, fontdict=fontdict, rotation=90)\n",
        "  ax.set_yticklabels([''] + predicted_sentence, fontdict=fontdict)\n",
        "\n",
        "  ax.xaxis.set_major_locator(ticker.MultipleLocator(1))\n",
        "  ax.yaxis.set_major_locator(ticker.MultipleLocator(1))\n",
        "\n",
        "  plt.show()"
      ]
    },
    {
      "cell_type": "markdown",
      "metadata": {
        "id": "e1IhdBrgQYJr"
      },
      "source": [
        "<font color='blue'>**Predict the sentence translation**</font>"
      ]
    },
    {
      "cell_type": "code",
      "execution_count": null,
      "metadata": {
        "id": "MP3kLZoPMvSu"
      },
      "outputs": [],
      "source": [
        "def predict(input_sentence):\n",
        "  '''\n",
        "  Input :: Takes in an input sentence, converts it into sequences , pads it, and passed into the encoder. <Start > is given at first time step to the decoder .\n",
        "  Returns :: The predicted sentence, input sentence and the attention weights.\n",
        "  '''\n",
        "  attention_plot = np.zeros(  (  53 ,  49 ) )\n",
        "  en_sent =  tok_eng.texts_to_sequences (  [input_sentence] )\n",
        "  en_pad =  tf.keras.preprocessing.sequence.pad_sequences( en_sent , maxlen = 49,  padding = 'post' , truncating = 'post' ) \n",
        "  embedd =  concat_model.layers[0].embedding(  en_pad   , training = False)                                                                     \n",
        "  encoder_op  , enc_hidden  , enc_cell     = concat_model.layers[ 0 ].lstm(  embedd   )                                                \n",
        "  dec_hidden = enc_hidden\n",
        "  dec_cell = enc_cell\n",
        "  dec_input = tf.expand_dims( [ tok_ita.word_index['<start>'] ], 0)\n",
        "  result = ''\n",
        "\n",
        "  for  t in range( 53 ):\n",
        "    predictions, dec_hidden, dec_cell , attention_weights , context_vec = concat_model.layers[1].onestepDecoder(  input_to_decoder = dec_input ,  encoder_output = encoder_op,\n",
        "                                                                                                                                                                                                                          state_h = dec_hidden, state_c = dec_cell , training = False )    \n",
        "    attention_weights = tf.reshape(attention_weights, (-1, ))\n",
        "    attention_plot[t] = attention_weights.numpy()\n",
        "    \n",
        "    predicted_id = tf.argmax (  predictions[0]  ).numpy()\n",
        "    result += tok_ita.index_word[  predicted_id  ] + ' '\n",
        "    \n",
        "    if tok_ita.index_word[  predicted_id  ] == '<end>':\n",
        "      return result, input_sentence, attention_plot\n",
        "\n",
        "    dec_input = tf.expand_dims( [  predicted_id  ] , 0 )\n",
        "\n",
        "  attention_plot = attention_plot[  :  len(result.split(' '))  , :  len(input_sentence.split(' ')  )  ]     \n",
        "  return result, input_sentence, attention_plot"
      ]
    },
    {
      "cell_type": "code",
      "execution_count": null,
      "metadata": {
        "colab": {
          "base_uri": "https://localhost:8080/",
          "height": 726
        },
        "id": "I0x0Ldzy5prJ",
        "outputId": "bce994e4-28cc-4dfb-fa19-1be037b098d6"
      },
      "outputs": [
        {
          "name": "stdout",
          "output_type": "stream",
          "text": [
            "Input English sentence is ::  He kept his promise .\n",
            "Model's Translation ::  lui ha mantenuto la sua promessa . <end> \n",
            "Original Italian sentence ::  Lui mantenne la sua promessa .\n",
            "Google Translate  of the prediction in english is  :: he kept his promise \n"
          ]
        },
        {
          "data": {
            "image/png": "[encoded data removed]",
            "text/plain": [
              "<Figure size 720x720 with 1 Axes>"
            ]
          },
          "metadata": {
            "needs_background": "light",
            "tags": []
          },
          "output_type": "display_data"
        },
        {
          "name": "stdout",
          "output_type": "stream",
          "text": [
            "Sample Bleu score ::  0.5946035575013605\n"
          ]
        }
      ],
      "source": [
        "ind = random.sample( make_train_data ,  1 ).pop()\n",
        "input_sent = cleaned_eng [ ind      ]\n",
        "result, input_sentence, attention_plot  = predict(  input_sent  )\n",
        "orig_sent = cleaned_ita[ ind    ]\n",
        "input_sent = cleaned_eng [ ind      ]\n",
        "result, input_sentence, attention_plot  = predict(  input_sent  )\n",
        "orig_sent = cleaned_ita[ ind   ]\n",
        "print('Input English sentence is :: ', input_sentence)\n",
        "print( 'Model\\'s Translation :: ' , result)\n",
        "print('Original Italian sentence :: ', orig_sent)\n",
        "print('Google Translate  of the prediction in english is  :: he kept his promise ' )\n",
        "\n",
        "plot_attention( attention_plot[  :  len(result.split(' '))  , :  len(input_sentence.split(' ')  )  ] , input_sentence.split() , result.split() )\n",
        "print( 'Sample Bleu score :: ', bleu.sentence_bleu(orig_sent.split() , result.split() )  ) "
      ]
    },
    {
      "cell_type": "code",
      "execution_count": null,
      "metadata": {
        "colab": {
          "base_uri": "https://localhost:8080/",
          "height": 705
        },
        "id": "WMkI__Ek7pe4",
        "outputId": "558f0192-ab78-46b1-cd55-52243d31b252"
      },
      "outputs": [
        {
          "name": "stdout",
          "output_type": "stream",
          "text": [
            "Input English sentence is ::  Tom will find out the truth .\n",
            "Model's Translation ::  tom trovera la verita . <end> \n",
            "Original Italian sentence ::  Tom scoprirà la verità .\n",
            "Google Translate  of the prediction in english is  :: tom will find the truth. \n"
          ]
        },
        {
          "data": {
            "image/png": "[encoded data removed]",
            "text/plain": [
              "<Figure size 720x720 with 1 Axes>"
            ]
          },
          "metadata": {
            "needs_background": "light",
            "tags": []
          },
          "output_type": "display_data"
        },
        {
          "name": "stdout",
          "output_type": "stream",
          "text": [
            "Sample Bleu score ::  0.6389431042462724\n"
          ]
        }
      ],
      "source": [
        "ind = random.sample( make_train_data ,  1 ).pop()\n",
        "input_sent = cleaned_eng [ ind      ]\n",
        "result, input_sentence, attention_plot  = predict(  input_sent  )\n",
        "orig_sent = cleaned_ita[ ind    ]\n",
        "input_sent = cleaned_eng [ ind      ]\n",
        "result, input_sentence, attention_plot  = predict(  input_sent  )\n",
        "orig_sent = cleaned_ita[ ind   ]\n",
        "print('Input English sentence is :: ', input_sentence)\n",
        "print( 'Model\\'s Translation :: ' , result)\n",
        "print('Original Italian sentence :: ', orig_sent)\n",
        "print('Google Translate  of the prediction in english is  :: tom will find the truth. ' )\n",
        "\n",
        "plot_attention( attention_plot[  :  len(result.split(' '))  , :  len(input_sentence.split(' ')  )  ] , input_sentence.split() , result.split() )\n",
        "print( 'Sample Bleu score :: ', bleu.sentence_bleu(orig_sent.split() , result.split() )  ) "
      ]
    },
    {
      "cell_type": "code",
      "execution_count": null,
      "metadata": {
        "colab": {
          "base_uri": "https://localhost:8080/",
          "height": 741
        },
        "id": "QPNsK6XUxUMR",
        "outputId": "952417a3-0256-4e23-a589-3a6331a0fb86"
      },
      "outputs": [
        {
          "name": "stdout",
          "output_type": "stream",
          "text": [
            "Input English sentence is ::  I got your messages .\n",
            "Model's Translation ::  ho ricevuto i tuoi messaggi . <end> \n",
            "Original Italian sentence ::  Ho ricevuto i tuoi messaggi .\n",
            "Google Translate  of the prediction in english is  :: I have received your messages. \n"
          ]
        },
        {
          "data": {
            "image/png": "[encoded data removed]",
            "text/plain": [
              "<Figure size 720x720 with 1 Axes>"
            ]
          },
          "metadata": {
            "needs_background": "light",
            "tags": []
          },
          "output_type": "display_data"
        },
        {
          "name": "stdout",
          "output_type": "stream",
          "text": [
            "Sample Bleu score ::  0.6337834876616586\n"
          ]
        }
      ],
      "source": [
        "ind = random.sample( make_test_data ,  1 ).pop()\n",
        "input_sent = cleaned_eng [ ind      ]\n",
        "result, input_sentence, attention_plot  = predict(  input_sent  )\n",
        "orig_sent = cleaned_ita[ ind    ]\n",
        "input_sent = cleaned_eng [ ind      ]\n",
        "result, input_sentence, attention_plot  = predict(  input_sent  )\n",
        "orig_sent = cleaned_ita[ ind   ]\n",
        "print('Input English sentence is :: ', input_sentence)\n",
        "print( 'Model\\'s Translation :: ' , result)\n",
        "print('Original Italian sentence :: ', orig_sent)\n",
        "print('Google Translate  of the prediction in english is  :: I have received your messages. ' )\n",
        "\n",
        "plot_attention( attention_plot[  :  len(result.split(' '))  , :  len(input_sentence.split(' ')  )  ] , input_sentence.split() , result.split() )\n",
        "print( 'Sample Bleu score :: ', bleu.sentence_bleu(orig_sent.split() , result.split() )  ) "
      ]
    },
    {
      "cell_type": "code",
      "execution_count": null,
      "metadata": {
        "colab": {
          "base_uri": "https://localhost:8080/",
          "height": 713
        },
        "id": "In-NR2C79Emb",
        "outputId": "6b161a26-3dbd-4733-a13c-d395a99a6444"
      },
      "outputs": [
        {
          "name": "stdout",
          "output_type": "stream",
          "text": [
            "Input English sentence is ::  The town in which I live is rather small .\n",
            "Model's Translation ::  la citta in cui abito e piuttosto piccolo . <end> \n",
            "Original Italian sentence ::  La città in cui vivo è piuttosto piccola .\n",
            "Google Translate  of the prediction in english is  ::the city where I live is quite small.\n"
          ]
        },
        {
          "data": {
            "image/png": "[encoded data removed]",
            "text/plain": [
              "<Figure size 720x720 with 1 Axes>"
            ]
          },
          "metadata": {
            "needs_background": "light",
            "tags": []
          },
          "output_type": "display_data"
        },
        {
          "name": "stdout",
          "output_type": "stream",
          "text": [
            "Sample Bleu score ::  0.5623413251903491\n"
          ]
        }
      ],
      "source": [
        "ind = random.sample( make_test_data ,  1 ).pop()\n",
        "input_sent = cleaned_eng [ ind      ]\n",
        "result, input_sentence, attention_plot  = predict(  input_sent  )\n",
        "orig_sent = cleaned_ita[ ind    ]\n",
        "input_sent = cleaned_eng [ ind      ]\n",
        "result, input_sentence, attention_plot  = predict(  input_sent  )\n",
        "orig_sent = cleaned_ita[ ind   ]\n",
        "print('Input English sentence is :: ', input_sentence)\n",
        "print( 'Model\\'s Translation :: ' , result)\n",
        "print('Original Italian sentence :: ', orig_sent)\n",
        "print('Google Translate  of the prediction in english is  ::the city where I live is quite small.' )\n",
        "\n",
        "plot_attention( attention_plot[  :  len(result.split(' '))  , :  len(input_sentence.split(' ')  )  ] , input_sentence.split() , result.split() )\n",
        "print( 'Sample Bleu score :: ', bleu.sentence_bleu(orig_sent.split() , result.split() )  ) "
      ]
    },
    {
      "cell_type": "markdown",
      "metadata": {
        "id": "jmxIVOOQPWMu"
      },
      "source": [
        "<font color='blue'>**Calculate Average BLEU score for a random of 1000 Sentences**</font>"
      ]
    },
    {
      "cell_type": "code",
      "execution_count": null,
      "metadata": {
        "colab": {
          "base_uri": "https://localhost:8080/",
          "height": 34
        },
        "id": "Ed3pVviTdiIV",
        "outputId": "83c333dc-6ed2-423e-8305-a6cd656cf6e9"
      },
      "outputs": [
        {
          "data": {
            "text/plain": [
              "([250499, 66892, 76875], 1000)"
            ]
          },
          "execution_count": 299,
          "metadata": {
            "tags": []
          },
          "output_type": "execute_result"
        }
      ],
      "source": [
        "rand_integer_arr = random.sample( make_test_data ,  1000 )\n",
        "rand_integer_arr[:3] , len( rand_integer_arr)"
      ]
    },
    {
      "cell_type": "code",
      "execution_count": null,
      "metadata": {
        "colab": {
          "base_uri": "https://localhost:8080/",
          "height": 83,
          "referenced_widgets": [
            "f4985e02849d4a1a825b023b3e9a1d40",
            "28fcb82ed1a748e59a84f606b98df8ae",
            "7d11a9abd1cb490c823935d2f4c4d6e4",
            "0a96771b89c94de59b1e8cd144013bab",
            "5168158dfcac4ab889820067bac61a33",
            "3cca5a915eac40d88a5937e25aed5550",
            "a3a2b2d72be140f181fdd08ee6faa360",
            "84524ff1649a49268ead6b3e74e4c851"
          ]
        },
        "id": "ANE-UIVecDZ9",
        "outputId": "711a9bf7-b65b-4eec-b667-10bcf684e092"
      },
      "outputs": [
        {
          "data": {
            "application/vnd.jupyter.widget-view+json": {
              "model_id": "f4985e02849d4a1a825b023b3e9a1d40",
              "version_major": 2,
              "version_minor": 0
            },
            "text/plain": [
              "HBox(children=(FloatProgress(value=0.0, max=1000.0), HTML(value='')))"
            ]
          },
          "metadata": {
            "tags": []
          },
          "output_type": "display_data"
        },
        {
          "name": "stdout",
          "output_type": "stream",
          "text": [
            "\n",
            "Average Bleau score of 1000 test sentences are ::  0.6354589525940794\n"
          ]
        }
      ],
      "source": [
        "hold_bleau_score = []\n",
        "for sent in tqdm( rand_integer_arr ): \n",
        "  result, input_sentence, attention_weights = predict( cleaned_eng[ sent ] )\n",
        "  hold_bleau_score.append(  bleu.sentence_bleu(  cleaned_ita[ sent ].split()  , result.split()  )   )\n",
        "\n",
        "print('Average Bleau score of 1000 test sentences are :: ', sum( hold_bleau_score )/ 1000 ) "
      ]
    },
    {
      "cell_type": "markdown",
      "metadata": {
        "id": "qA_zvgz2ahUq"
      },
      "source": [
        "**Tensorboard Plots**"
      ]
    },
    {
      "cell_type": "code",
      "execution_count": null,
      "metadata": {
        "id": "CX3Hz76uahUq"
      },
      "outputs": [],
      "source": [
        "from IPython.display import Image\n",
        "from IPython.core.display import HTML"
      ]
    },
    {
      "cell_type": "code",
      "execution_count": null,
      "metadata": {
        "id": "D8-tq4ztahUq",
        "outputId": "d8fccb94-fae6-4001-e3ec-64ed9b6817df"
      },
      "outputs": [
        {
          "name": "stdout",
          "output_type": "stream",
          "text": [
            "Loss over epochs \n"
          ]
        },
        {
          "data": {
            "text/html": [
              "<img src=\"https://i.imgur.com/8oEXAzQ.png\"/>"
            ],
            "text/plain": [
              "<IPython.core.display.Image object>"
            ]
          },
          "execution_count": 3,
          "metadata": {},
          "output_type": "execute_result"
        }
      ],
      "source": [
        "print('Loss over epochs ')\n",
        "Image(url= 'https://i.imgur.com/8oEXAzQ.png' ) "
      ]
    },
    {
      "cell_type": "code",
      "execution_count": null,
      "metadata": {
        "id": "2avDPItWahUr",
        "outputId": "c77ea863-fc7c-41b0-9938-97a7b476f8c0"
      },
      "outputs": [
        {
          "name": "stdout",
          "output_type": "stream",
          "text": [
            "Histograms\n"
          ]
        },
        {
          "data": {
            "text/html": [
              "<img src=\"https://i.imgur.com/GM7sp1c.png\"/>"
            ],
            "text/plain": [
              "<IPython.core.display.Image object>"
            ]
          },
          "execution_count": 4,
          "metadata": {},
          "output_type": "execute_result"
        }
      ],
      "source": [
        "print('Histograms')\n",
        "Image(url= 'https://i.imgur.com/GM7sp1c.png' ) "
      ]
    },
    {
      "cell_type": "markdown",
      "metadata": {
        "id": "5R7BqmmSp6ce"
      },
      "source": [
        "## General Model"
      ]
    },
    {
      "cell_type": "code",
      "execution_count": null,
      "metadata": {
        "id": "3MOjlm5zpObY"
      },
      "outputs": [],
      "source": [
        "# General model\n",
        "general_model = Encoder_Decoder ( encoder_inputs_length = encoder_inputs_length , decoder_inputs_length = decoder_inputs_length , \n",
        "                                                                              input_vocab_size = input_vocab_size ,  output_vocab_size =  output_vocab_size , \n",
        "                                                                              score_function = 'general'  , att_units = att_units  )"
      ]
    },
    {
      "cell_type": "code",
      "execution_count": null,
      "metadata": {
        "id": "01YktsHNpObg"
      },
      "outputs": [],
      "source": [
        "# Select model optimizer and loss \n",
        "model_optimizer = tf.keras.optimizers.Adam( learning_rate = 0.001  )\n",
        "general_model.compile(optimizer=model_optimizer  , loss = modified_sparse_cce  )"
      ]
    },
    {
      "cell_type": "code",
      "execution_count": null,
      "metadata": {
        "colab": {
          "base_uri": "https://localhost:8080/",
          "height": 33
        },
        "id": "SsfYz-MapPcX",
        "outputId": "0b78ee2b-4fc5-4f76-984f-3a9d11404fa2"
      },
      "outputs": [
        {
          "name": "stdout",
          "output_type": "stream",
          "text": [
            "WARNING:tensorflow:`write_grads` will be ignored in TensorFlow 2.0 for the `TensorBoard` Callback.\n"
          ]
        }
      ],
      "source": [
        "import datetime\n",
        "!rm -rf ./logs/\n",
        "log_dir=\"logs/fit1/\" + datetime.datetime.now().strftime(\"%Y%m%d-%H%M%S\")\n",
        "tensorboard_callback = tf.keras.callbacks.TensorBoard(log_dir=log_dir, histogram_freq=1, write_graph=True,write_grads=True)"
      ]
    },
    {
      "cell_type": "code",
      "execution_count": null,
      "metadata": {
        "colab": {
          "base_uri": "https://localhost:8080/",
          "height": 516
        },
        "id": "bFNIlkcupPVT",
        "outputId": "04700b2a-e34b-4a80-b70a-6a3b8fecf60b"
      },
      "outputs": [
        {
          "name": "stdout",
          "output_type": "stream",
          "text": [
            "Epoch 1/15\n",
            "1051/1051 [==============================] - 744s 708ms/step - loss: 0.6595 - val_loss: 0.5163\n",
            "Epoch 2/15\n",
            "1051/1051 [==============================] - 742s 706ms/step - loss: 0.4216 - val_loss: 0.3493\n",
            "Epoch 3/15\n",
            "1051/1051 [==============================] - 744s 708ms/step - loss: 0.2889 - val_loss: 0.2522\n",
            "Epoch 4/15\n",
            "1051/1051 [==============================] - 741s 705ms/step - loss: 0.2082 - val_loss: 0.1979\n",
            "Epoch 5/15\n",
            "1051/1051 [==============================] - 743s 707ms/step - loss: 0.1609 - val_loss: 0.1663\n",
            "Epoch 6/15\n",
            "1051/1051 [==============================] - 742s 706ms/step - loss: 0.1311 - val_loss: 0.1477\n",
            "Epoch 7/15\n",
            "1051/1051 [==============================] - 740s 704ms/step - loss: 0.1118 - val_loss: 0.1348\n",
            "Epoch 8/15\n",
            "1051/1051 [==============================] - 740s 705ms/step - loss: 0.0980 - val_loss: 0.1267\n",
            "Epoch 9/15\n",
            "1051/1051 [==============================] - 740s 705ms/step - loss: 0.0879 - val_loss: 0.1207\n",
            "Epoch 10/15\n",
            "1051/1051 [==============================] - 741s 705ms/step - loss: 0.0804 - val_loss: 0.1160\n",
            "Epoch 11/15\n",
            "1051/1051 [==============================] - 740s 704ms/step - loss: 0.0743 - val_loss: 0.1132\n",
            "Epoch 12/15\n",
            "1051/1051 [==============================] - 741s 705ms/step - loss: 0.0696 - val_loss: 0.1109\n",
            "Epoch 13/15\n",
            "1051/1051 [==============================] - 738s 702ms/step - loss: 0.0661 - val_loss: 0.1097\n",
            "Epoch 14/15\n",
            "1051/1051 [==============================] - 739s 703ms/step - loss: 0.0630 - val_loss: 0.1076\n",
            "Epoch 15/15\n",
            "1051/1051 [==============================] - 740s 704ms/step - loss: 0.0603 - val_loss: 0.1063\n"
          ]
        }
      ],
      "source": [
        "general_model_history = general_model.fit( x = [  train_eng  ,  train_dec_ita_in ] , y = train_dec_ita_out , callbacks= [ tensorboard_callback],\n",
        "                                                              steps_per_epoch  = len( train_eng) // 256 ,  batch_size = 256 , epochs = 15 ,\n",
        "                                                               validation_data = ( [  test_eng  ,  test_dec_ita_in ],  test_dec_ita_out ) , \n",
        "                                                              validation_steps = len( test_eng) // 256  \n",
        "                                 )"
      ]
    },
    {
      "cell_type": "code",
      "execution_count": null,
      "metadata": {
        "id": "y4EOA6EOqpk1"
      },
      "outputs": [],
      "source": [
        "%load_ext tensorboard"
      ]
    },
    {
      "cell_type": "code",
      "execution_count": null,
      "metadata": {
        "id": "5g7iOS2qqplE"
      },
      "outputs": [],
      "source": [
        "%tensorboard --logdir logs/fit1"
      ]
    },
    {
      "cell_type": "code",
      "execution_count": null,
      "metadata": {
        "colab": {
          "base_uri": "https://localhost:8080/",
          "height": 216
        },
        "id": "CR2stEOzqplM",
        "outputId": "00ac7df0-624d-418e-b030-56a97ab5d6b8"
      },
      "outputs": [
        {
          "name": "stdout",
          "output_type": "stream",
          "text": [
            "Model: \"encoder__decoder\"\n",
            "_________________________________________________________________\n",
            "Layer (type)                 Output Shape              Param #   \n",
            "=================================================================\n",
            "encoder_2 (Encoder)          multiple                  1156544   \n",
            "_________________________________________________________________\n",
            "decoder_4 (Decoder)          multiple                  8951922   \n",
            "=================================================================\n",
            "Total params: 10,108,466\n",
            "Trainable params: 10,108,466\n",
            "Non-trainable params: 0\n",
            "_________________________________________________________________\n"
          ]
        }
      ],
      "source": [
        "general_model.summary()"
      ]
    },
    {
      "cell_type": "markdown",
      "metadata": {
        "id": "h8BwgszoahUt"
      },
      "source": [
        "**General model results**"
      ]
    },
    {
      "cell_type": "code",
      "execution_count": null,
      "metadata": {
        "colab": {
          "base_uri": "https://localhost:8080/",
          "height": 740
        },
        "id": "V8plreGafxRk",
        "outputId": "7da13d0d-c857-4bda-d14f-5082821a7a79"
      },
      "outputs": [
        {
          "name": "stdout",
          "output_type": "stream",
          "text": [
            "Input English sentence is ::  Tom nodded hesitantly .\n",
            "Model's Translation ::  tom annui con esitazione . <end> \n",
            "Original Italian sentence ::  Tom ha annuito con esitazione .\n",
            "Google Translate  of the prediction in english is  :: tom nodded hesitantly \n"
          ]
        },
        {
          "data": {
            "image/png": "[encoded data removed]",
            "text/plain": [
              "<Figure size 720x720 with 1 Axes>"
            ]
          },
          "metadata": {
            "needs_background": "light",
            "tags": []
          },
          "output_type": "display_data"
        },
        {
          "name": "stdout",
          "output_type": "stream",
          "text": [
            "Sample Bleu score ::  0.5408536609893481\n"
          ]
        }
      ],
      "source": [
        "ind = random.sample( make_train_data ,  1 ).pop()\n",
        "input_sent = cleaned_eng [ ind      ]\n",
        "result, input_sentence, attention_plot  = predict(  input_sent  )\n",
        "orig_sent = cleaned_ita[ ind    ]\n",
        "input_sent = cleaned_eng [ ind      ]\n",
        "result, input_sentence, attention_plot  = predict(  input_sent  )\n",
        "orig_sent = cleaned_ita[ ind   ]\n",
        "print('Input English sentence is :: ', input_sentence)\n",
        "print( 'Model\\'s Translation :: ' , result)\n",
        "print('Original Italian sentence :: ', orig_sent)\n",
        "print('Google Translate  of the prediction in english is  :: tom nodded hesitantly ' )\n",
        "\n",
        "plot_attention( attention_plot[  :  len(result.split(' '))  , :  len(input_sentence.split(' ')  )  ] , input_sentence.split() , result.split() )\n",
        "print( 'Sample Bleu score :: ', bleu.sentence_bleu(orig_sent.split() , result.split() )  ) "
      ]
    },
    {
      "cell_type": "code",
      "execution_count": null,
      "metadata": {
        "colab": {
          "base_uri": "https://localhost:8080/",
          "height": 721
        },
        "id": "PS1_NWjSiga9",
        "outputId": "f4fde239-f957-4ce6-9f69-1b2e473f6c1f"
      },
      "outputs": [
        {
          "name": "stdout",
          "output_type": "stream",
          "text": [
            "Input English sentence is ::  Tom is looking for a way to save money .\n",
            "Model's Translation ::  tom sta cercando un modo per risparmiare soldi . <end> \n",
            "Original Italian sentence ::  Tom sta cercando un modo di risparmiare soldi .\n",
            "Google Translate  of the prediction in english is  :: tom is looking for a way to save money \n"
          ]
        },
        {
          "data": {
            "image/png": "[encoded data removed]",
            "text/plain": [
              "<Figure size 720x720 with 1 Axes>"
            ]
          },
          "metadata": {
            "needs_background": "light",
            "tags": []
          },
          "output_type": "display_data"
        },
        {
          "name": "stdout",
          "output_type": "stream",
          "text": [
            "Sample Bleu score ::  0.5088274727401554\n"
          ]
        }
      ],
      "source": [
        "ind = random.sample( make_train_data ,  1 ).pop()\n",
        "input_sent = cleaned_eng [ ind      ]\n",
        "result, input_sentence, attention_plot  = predict(  input_sent  )\n",
        "orig_sent = cleaned_ita[ ind    ]\n",
        "input_sent = cleaned_eng [ ind      ]\n",
        "result, input_sentence, attention_plot  = predict(  input_sent  )\n",
        "orig_sent = cleaned_ita[ ind   ]\n",
        "print('Input English sentence is :: ', input_sentence)\n",
        "print( 'Model\\'s Translation :: ' , result)\n",
        "print('Original Italian sentence :: ', orig_sent)\n",
        "print('Google Translate  of the prediction in english is  :: tom is looking for a way to save money ' )\n",
        "\n",
        "plot_attention( attention_plot[  :  len(result.split(' '))  , :  len(input_sentence.split(' ')  )  ] , input_sentence.split() , result.split() )\n",
        "print( 'Sample Bleu score :: ', bleu.sentence_bleu(orig_sent.split() , result.split() )  ) "
      ]
    },
    {
      "cell_type": "code",
      "execution_count": null,
      "metadata": {
        "colab": {
          "base_uri": "https://localhost:8080/",
          "height": 711
        },
        "id": "9ZrOlF-Qg6w_",
        "outputId": "a5ea4d26-b53d-4ac4-af77-3df4fe97cfea"
      },
      "outputs": [
        {
          "name": "stdout",
          "output_type": "stream",
          "text": [
            "Input English sentence is ::  Do you know how this works ?\n",
            "Model's Translation ::  sai come funziona questo ? <end> \n",
            "Original Italian sentence ::  Tu lo sai come funziona questo ?\n",
            "Google Translate  of the prediction in english is  :: do you know how this works? \n"
          ]
        },
        {
          "data": {
            "image/png": "[encoded data removed]",
            "text/plain": [
              "<Figure size 720x720 with 1 Axes>"
            ]
          },
          "metadata": {
            "needs_background": "light",
            "tags": []
          },
          "output_type": "display_data"
        },
        {
          "name": "stdout",
          "output_type": "stream",
          "text": [
            "Sample Bleu score ::  0.6389431042462724\n"
          ]
        }
      ],
      "source": [
        "ind = random.sample( make_test_data ,  1 ).pop()\n",
        "input_sent = cleaned_eng [ ind      ]\n",
        "result, input_sentence, attention_plot  = predict(  input_sent  )\n",
        "orig_sent = cleaned_ita[ ind    ]\n",
        "input_sent = cleaned_eng [ ind      ]\n",
        "result, input_sentence, attention_plot  = predict(  input_sent  )\n",
        "orig_sent = cleaned_ita[ ind   ]\n",
        "print('Input English sentence is :: ', input_sentence)\n",
        "print( 'Model\\'s Translation :: ' , result)\n",
        "print('Original Italian sentence :: ', orig_sent)\n",
        "print('Google Translate  of the prediction in english is  :: do you know how this works? ' )\n",
        "\n",
        "plot_attention( attention_plot[  :  len(result.split(' '))  , :  len(input_sentence.split(' ')  )  ] , input_sentence.split() , result.split() )\n",
        "print( 'Sample Bleu score :: ', bleu.sentence_bleu(orig_sent.split() , result.split() )  ) "
      ]
    },
    {
      "cell_type": "code",
      "execution_count": null,
      "metadata": {
        "colab": {
          "base_uri": "https://localhost:8080/",
          "height": 736
        },
        "id": "kUF1Ac-njsCP",
        "outputId": "a984a35e-9c70-4b91-c68b-bc59e3db0a2b",
        "scrolled": false
      },
      "outputs": [
        {
          "name": "stdout",
          "output_type": "stream",
          "text": [
            "Input English sentence is ::  Tom takes a shower every morning before breakfast .\n",
            "Model's Translation ::  tom fa una doccia ogni mattina prima di colazione . <end> \n",
            "Original Italian sentence ::  Tom si fa una doccia ogni mattina prima della colazione .\n",
            "Google Translate  of the prediction in english is  :: Tom takes a shower every morning before breakfast\n"
          ]
        },
        {
          "data": {
            "image/png": "[encoded data removed]",
            "text/plain": [
              "<Figure size 720x720 with 1 Axes>"
            ]
          },
          "metadata": {
            "needs_background": "light",
            "tags": []
          },
          "output_type": "display_data"
        },
        {
          "name": "stdout",
          "output_type": "stream",
          "text": [
            "Sample Bleu score ::  0.5491004867761125\n"
          ]
        }
      ],
      "source": [
        "ind = random.sample( make_test_data ,  1 ).pop()\n",
        "input_sent = cleaned_eng [ ind      ]\n",
        "result, input_sentence, attention_plot  = predict(  input_sent  )\n",
        "orig_sent = cleaned_ita[ ind    ]\n",
        "input_sent = cleaned_eng [ ind      ]\n",
        "result, input_sentence, attention_plot  = predict(  input_sent  )\n",
        "orig_sent = cleaned_ita[ ind   ]\n",
        "print('Input English sentence is :: ', input_sentence)\n",
        "print( 'Model\\'s Translation :: ' , result)\n",
        "print('Original Italian sentence :: ', orig_sent)\n",
        "print('Google Translate  of the prediction in english is  :: Tom takes a shower every morning before breakfast' )\n",
        "\n",
        "plot_attention( attention_plot[  :  len(result.split(' '))  , :  len(input_sentence.split(' ')  )  ] , input_sentence.split() , result.split() )\n",
        "print( 'Sample Bleu score :: ', bleu.sentence_bleu(orig_sent.split() , result.split() )  ) "
      ]
    },
    {
      "cell_type": "markdown",
      "metadata": {
        "id": "Fd6LgmW3ahUw"
      },
      "source": [
        "<font color='blue'>**Calculate Average BLEU score for a random of 1000 Sentences for general model**</font>"
      ]
    },
    {
      "cell_type": "code",
      "execution_count": null,
      "metadata": {
        "colab": {
          "base_uri": "https://localhost:8080/",
          "height": 34
        },
        "id": "8ebuXybgjAZ-",
        "outputId": "3875637a-a9e2-4e6d-d134-0e2d0ca67f57"
      },
      "outputs": [
        {
          "data": {
            "text/plain": [
              "([109984, 33021, 174865], 1000)"
            ]
          },
          "execution_count": 286,
          "metadata": {
            "tags": []
          },
          "output_type": "execute_result"
        }
      ],
      "source": [
        "rand_integer_arr = random.sample( make_test_data ,  1000 )\n",
        "rand_integer_arr[:3] , len( rand_integer_arr)"
      ]
    },
    {
      "cell_type": "code",
      "execution_count": null,
      "metadata": {
        "colab": {
          "base_uri": "https://localhost:8080/",
          "height": 83,
          "referenced_widgets": [
            "2d8a9e37c54643e6ad303db62dc9d236",
            "3a6463108bd04a2eb0292fe0b4e7239a",
            "776e5eb52ce44236a8c9425e3632d672",
            "11005a0058de4211b413e06066e943cd",
            "b748d1e59b1f4c3d92844e698108059b",
            "f84c5742d312477da30e45407ae2a6df",
            "62990c1aace942b49f99cd1514a85737",
            "85734c584cd14c9eaa48201c349d67b0"
          ]
        },
        "id": "KTMj4XNhQquL",
        "outputId": "f315a78f-d9e8-4f07-d836-6639597828fc"
      },
      "outputs": [
        {
          "data": {
            "application/vnd.jupyter.widget-view+json": {
              "model_id": "2d8a9e37c54643e6ad303db62dc9d236",
              "version_major": 2,
              "version_minor": 0
            },
            "text/plain": [
              "HBox(children=(FloatProgress(value=0.0, max=1000.0), HTML(value='')))"
            ]
          },
          "metadata": {
            "tags": []
          },
          "output_type": "display_data"
        },
        {
          "name": "stdout",
          "output_type": "stream",
          "text": [
            "\n",
            "Average Bleau score of 1000 test sentences are ::  0.6358252372835966\n"
          ]
        }
      ],
      "source": [
        "hold_bleau_score = []\n",
        "for sent in tqdm( rand_integer_arr ): \n",
        "  result, input_sentence, attention_weights = predict( cleaned_eng[ sent ] )\n",
        "  hold_bleau_score.append(  bleu.sentence_bleu(  cleaned_ita[ sent ].split()  , result.split()  )   )\n",
        "\n",
        "print('Average Bleau score of 1000 test sentences are :: ', sum( hold_bleau_score )/ 1000 ) "
      ]
    },
    {
      "cell_type": "markdown",
      "metadata": {
        "id": "nIqf9KE8ahUx"
      },
      "source": [
        "**Tensorboard plots**"
      ]
    },
    {
      "cell_type": "code",
      "execution_count": null,
      "metadata": {
        "id": "mhi5XgqqahUx",
        "outputId": "f874f52f-7c23-4e9a-c722-c19e56f7ddbf"
      },
      "outputs": [
        {
          "name": "stdout",
          "output_type": "stream",
          "text": [
            "Loss over epochs :: \n"
          ]
        },
        {
          "data": {
            "text/html": [
              "<img src=\"https://i.imgur.com/Ni36ELv.png\"/>"
            ],
            "text/plain": [
              "<IPython.core.display.Image object>"
            ]
          },
          "execution_count": 5,
          "metadata": {},
          "output_type": "execute_result"
        }
      ],
      "source": [
        "print('Loss over epochs :: ')\n",
        "Image( url = 'https://i.imgur.com/Ni36ELv.png' )"
      ]
    },
    {
      "cell_type": "code",
      "execution_count": null,
      "metadata": {
        "id": "7pHjR68vahUy",
        "outputId": "d29ebc0e-95be-405c-87b2-6a81084b27dd"
      },
      "outputs": [
        {
          "name": "stdout",
          "output_type": "stream",
          "text": [
            "Histograms : \n"
          ]
        },
        {
          "data": {
            "text/html": [
              "<img src=\"https://i.imgur.com/a6r5T02.png\"/>"
            ],
            "text/plain": [
              "<IPython.core.display.Image object>"
            ]
          },
          "execution_count": 6,
          "metadata": {},
          "output_type": "execute_result"
        }
      ],
      "source": [
        "print('Histograms : ')\n",
        "Image( url = 'https://i.imgur.com/a6r5T02.png' )"
      ]
    },
    {
      "cell_type": "markdown",
      "metadata": {
        "id": "7wrcEipdpaZQ"
      },
      "source": [
        "## Concat\n"
      ]
    },
    {
      "cell_type": "code",
      "execution_count": null,
      "metadata": {
        "id": "_m-ap23OqnuH"
      },
      "outputs": [],
      "source": [
        "# Concat model\n",
        "concat_model = Encoder_Decoder ( encoder_inputs_length = encoder_inputs_length , decoder_inputs_length = decoder_inputs_length , \n",
        "                                                                              input_vocab_size = input_vocab_size ,  output_vocab_size =  output_vocab_size , \n",
        "                                                                              score_function = 'concat'  , att_units = att_units  )"
      ]
    },
    {
      "cell_type": "code",
      "execution_count": null,
      "metadata": {
        "id": "e4A4iIY-qnuU"
      },
      "outputs": [],
      "source": [
        "# Select optimizer and loss\n",
        "model_optimizer = tf.keras.optimizers.Adam( learning_rate = 0.001  )\n",
        "concat_model.compile(optimizer=model_optimizer  , loss = modified_sparse_cce  )"
      ]
    },
    {
      "cell_type": "code",
      "execution_count": null,
      "metadata": {
        "colab": {
          "base_uri": "https://localhost:8080/",
          "height": 34
        },
        "id": "E8vOVYjqqnue",
        "outputId": "d53ef317-6c83-46f0-abd4-149096d2c665"
      },
      "outputs": [
        {
          "name": "stdout",
          "output_type": "stream",
          "text": [
            "WARNING:tensorflow:`write_grads` will be ignored in TensorFlow 2.0 for the `TensorBoard` Callback.\n"
          ]
        }
      ],
      "source": [
        "import datetime\n",
        "!rm -rf ./logs/\n",
        "log_dir=\"logs/fit1/\" + datetime.datetime.now().strftime(\"%Y%m%d-%H%M%S\")\n",
        "tensorboard_callback = tf.keras.callbacks.TensorBoard(log_dir=log_dir, histogram_freq=1, write_graph=True,write_grads=True)"
      ]
    },
    {
      "cell_type": "code",
      "execution_count": null,
      "metadata": {
        "colab": {
          "base_uri": "https://localhost:8080/",
          "height": 391
        },
        "id": "jOj9Qr8Tqnum",
        "outputId": "82cd9c59-a3b7-460e-8d58-343b9a0123ff"
      },
      "outputs": [
        {
          "name": "stdout",
          "output_type": "stream",
          "text": [
            "Epoch 1/11\n",
            "1051/1051 [==============================] - 1013s 964ms/step - loss: 0.6961 - val_loss: 0.6047\n",
            "Epoch 2/11\n",
            "1051/1051 [==============================] - 1013s 964ms/step - loss: 0.5492 - val_loss: 0.4825\n",
            "Epoch 3/11\n",
            "1051/1051 [==============================] - 1008s 959ms/step - loss: 0.4236 - val_loss: 0.3826\n",
            "Epoch 4/11\n",
            "1051/1051 [==============================] - 1010s 961ms/step - loss: 0.3346 - val_loss: 0.3062\n",
            "Epoch 5/11\n",
            "1051/1051 [==============================] - 1003s 954ms/step - loss: 0.2584 - val_loss: 0.2419\n",
            "Epoch 6/11\n",
            "1051/1051 [==============================] - 1011s 962ms/step - loss: 0.1992 - val_loss: 0.1969\n",
            "Epoch 7/11\n",
            "1051/1051 [==============================] - 1018s 969ms/step - loss: 0.1587 - val_loss: 0.1685\n",
            "Epoch 8/11\n",
            "1051/1051 [==============================] - 1008s 959ms/step - loss: 0.1314 - val_loss: 0.1507\n",
            "Epoch 9/11\n",
            "1051/1051 [==============================] - 1009s 960ms/step - loss: 0.1128 - val_loss: 0.1381\n",
            "Epoch 10/11\n",
            "1051/1051 [==============================] - 1010s 961ms/step - loss: 0.0992 - val_loss: 0.1294\n",
            "Epoch 11/11\n",
            "1051/1051 [==============================] - 992s 944ms/step - loss: 0.0892 - val_loss: 0.1233\n"
          ]
        }
      ],
      "source": [
        "concat_model_history = concat_model.fit( x = [  train_eng  ,  train_dec_ita_in ] , y = train_dec_ita_out , callbacks= [ tensorboard_callback],\n",
        "                                                              steps_per_epoch  = len( train_eng) // 256 ,  batch_size = 256 , epochs = 11 ,\n",
        "                                                               validation_data = ( [  test_eng  ,  test_dec_ita_in ],  test_dec_ita_out ) , \n",
        "                                                              validation_steps = len( test_eng) // 256  \n",
        "                                 )"
      ]
    },
    {
      "cell_type": "code",
      "execution_count": null,
      "metadata": {
        "colab": {
          "base_uri": "https://localhost:8080/",
          "height": 153
        },
        "id": "o7T04O1E1y9o",
        "outputId": "f4628328-1e8f-4936-8edd-28e39e2d0587"
      },
      "outputs": [
        {
          "name": "stdout",
          "output_type": "stream",
          "text": [
            "Epoch 1/4\n",
            "1051/1051 [==============================] - 966s 919ms/step - loss: 0.0816 - val_loss: 0.1189\n",
            "Epoch 2/4\n",
            "1051/1051 [==============================] - 962s 916ms/step - loss: 0.0754 - val_loss: 0.1156\n",
            "Epoch 3/4\n",
            "1051/1051 [==============================] - 962s 915ms/step - loss: 0.0704 - val_loss: 0.1138\n",
            "Epoch 4/4\n",
            "1051/1051 [==============================] - 961s 914ms/step - loss: 0.0661 - val_loss: 0.1111\n"
          ]
        }
      ],
      "source": [
        "concat_model_history = concat_model.fit( x = [  train_eng  ,  train_dec_ita_in ] , y = train_dec_ita_out , \n",
        "                                                              steps_per_epoch  = len( train_eng) // 256 ,  batch_size = 256 , epochs = 4 ,\n",
        "                                                               validation_data = ( [  test_eng  ,  test_dec_ita_in ],  test_dec_ita_out ) , \n",
        "                                                              validation_steps = len( test_eng) // 256  \n",
        "                                 )"
      ]
    },
    {
      "cell_type": "code",
      "execution_count": null,
      "metadata": {
        "id": "ktdTDCDLqnuu"
      },
      "outputs": [],
      "source": [
        "%load_ext tensorboard"
      ]
    },
    {
      "cell_type": "code",
      "execution_count": null,
      "metadata": {
        "id": "Vkz8AK0jqnu1"
      },
      "outputs": [],
      "source": [
        "%tensorboard --logdir logs/fit1"
      ]
    },
    {
      "cell_type": "code",
      "execution_count": null,
      "metadata": {
        "colab": {
          "base_uri": "https://localhost:8080/",
          "height": 221
        },
        "id": "SMP9EVrCqnu7",
        "outputId": "9365885f-f8c7-4934-8c81-58be964eea8e"
      },
      "outputs": [
        {
          "name": "stdout",
          "output_type": "stream",
          "text": [
            "Model: \"encoder__decoder_2\"\n",
            "_________________________________________________________________\n",
            "Layer (type)                 Output Shape              Param #   \n",
            "=================================================================\n",
            "encoder_6 (Encoder)          multiple                  1156544   \n",
            "_________________________________________________________________\n",
            "decoder_10 (Decoder)         multiple                  9017715   \n",
            "=================================================================\n",
            "Total params: 10,174,259\n",
            "Trainable params: 10,174,259\n",
            "Non-trainable params: 0\n",
            "_________________________________________________________________\n"
          ]
        }
      ],
      "source": [
        "concat_model.summary()"
      ]
    },
    {
      "cell_type": "markdown",
      "metadata": {
        "id": "DuaZqKqvahU2"
      },
      "source": [
        "**Concat model results**"
      ]
    },
    {
      "cell_type": "code",
      "execution_count": null,
      "metadata": {
        "colab": {
          "base_uri": "https://localhost:8080/",
          "height": 755
        },
        "id": "75IqTtriCrGR",
        "outputId": "8f18b160-dc47-4c6e-ffae-64c8dc91ea43"
      },
      "outputs": [
        {
          "name": "stdout",
          "output_type": "stream",
          "text": [
            "Input English sentence is ::  Tom participated in the Boston marathon .\n",
            "Model's Translation ::  tom partecipo alla maratona di boston . <end> \n",
            "Original Italian sentence ::  Tom ha partecipato alla maratona di Boston .\n",
            "Google Translate  of the prediction in english is  :: tom participate in the boston marathon. \n"
          ]
        },
        {
          "data": {
            "image/png": "[encoded data removed]",
            "text/plain": [
              "<Figure size 720x720 with 1 Axes>"
            ]
          },
          "metadata": {
            "needs_background": "light",
            "tags": []
          },
          "output_type": "display_data"
        },
        {
          "name": "stdout",
          "output_type": "stream",
          "text": [
            "Sample Bleu score ::  0.5946035575013605\n"
          ]
        }
      ],
      "source": [
        "ind = random.sample( make_train_data ,  1 ).pop()\n",
        "input_sent = cleaned_eng [ ind      ]\n",
        "result, input_sentence, attention_plot  = predict(  input_sent  )\n",
        "orig_sent = cleaned_ita[ ind    ]\n",
        "input_sent = cleaned_eng [ ind      ]\n",
        "result, input_sentence, attention_plot  = predict(  input_sent  )\n",
        "orig_sent = cleaned_ita[ ind   ]\n",
        "print('Input English sentence is :: ', input_sentence)\n",
        "print( 'Model\\'s Translation :: ' , result)\n",
        "print('Original Italian sentence :: ', orig_sent)\n",
        "print('Google Translate  of the prediction in english is  :: tom participate in the boston marathon. ' )\n",
        "\n",
        "plot_attention( attention_plot[  :  len(result.split(' '))  , :  len(input_sentence.split(' ')  )  ] , input_sentence.split() , result.split() )\n",
        "print( 'Sample Bleu score :: ', bleu.sentence_bleu(orig_sent.split() , result.split() )  ) "
      ]
    },
    {
      "cell_type": "code",
      "execution_count": null,
      "metadata": {
        "colab": {
          "base_uri": "https://localhost:8080/",
          "height": 706
        },
        "id": "mi1oflSko4PU",
        "outputId": "fedcc450-a4ea-4760-aabe-19875c54514d"
      },
      "outputs": [
        {
          "name": "stdout",
          "output_type": "stream",
          "text": [
            "Input English sentence is ::  It took a long time to accustom myself to the noise .\n",
            "Model's Translation ::  mi volle molto tempo per abituarmi al rumore . <end> \n",
            "Original Italian sentence ::  Mi volle molto tempo per abituarmi al rumore .\n",
            "Google Translate  of the prediction in english is  :: it took me a long time to get used to the noise. \n"
          ]
        },
        {
          "data": {
            "image/png": "[encoded data removed]",
            "text/plain": [
              "<Figure size 720x720 with 1 Axes>"
            ]
          },
          "metadata": {
            "needs_background": "light",
            "tags": []
          },
          "output_type": "display_data"
        },
        {
          "name": "stdout",
          "output_type": "stream",
          "text": [
            "Sample Bleu score ::  0.5623413251903491\n"
          ]
        }
      ],
      "source": [
        "ind = random.sample( make_train_data ,  1 ).pop()\n",
        "input_sent = cleaned_eng [ ind      ]\n",
        "result, input_sentence, attention_plot  = predict(  input_sent  )\n",
        "orig_sent = cleaned_ita[ ind    ]\n",
        "input_sent = cleaned_eng [ ind      ]\n",
        "result, input_sentence, attention_plot  = predict(  input_sent  )\n",
        "orig_sent = cleaned_ita[ ind   ]\n",
        "print('Input English sentence is :: ', input_sentence)\n",
        "print( 'Model\\'s Translation :: ' , result)\n",
        "print('Original Italian sentence :: ', orig_sent)\n",
        "print('Google Translate  of the prediction in english is  :: it took me a long time to get used to the noise. ' )\n",
        "\n",
        "plot_attention( attention_plot[  :  len(result.split(' '))  , :  len(input_sentence.split(' ')  )  ] , input_sentence.split() , result.split() )\n",
        "print( 'Sample Bleu score :: ', bleu.sentence_bleu(orig_sent.split(), result.split() )  ) "
      ]
    },
    {
      "cell_type": "code",
      "execution_count": null,
      "metadata": {
        "colab": {
          "base_uri": "https://localhost:8080/",
          "height": 723
        },
        "id": "gLbZl4F-o4J3",
        "outputId": "f800af4c-5252-4198-cad8-b7e52fadb62f"
      },
      "outputs": [
        {
          "name": "stdout",
          "output_type": "stream",
          "text": [
            "Input English sentence is ::  I already told you that she isn't here .\n",
            "Model's Translation ::  ti ho gia detto che lei e qui . <end> \n",
            "Original Italian sentence ::  Vi ho già detto che non è qua .\n",
            "Google Translate  of the prediction in english is  :: I already told you that she is here. \n"
          ]
        },
        {
          "data": {
            "image/png": "[encoded data removed]",
            "text/plain": [
              "<Figure size 720x720 with 1 Axes>"
            ]
          },
          "metadata": {
            "needs_background": "light",
            "tags": []
          },
          "output_type": "display_data"
        },
        {
          "name": "stdout",
          "output_type": "stream",
          "text": [
            "Sample Bleu score ::  0.668740304976422\n"
          ]
        }
      ],
      "source": [
        "ind = random.sample( make_test_data ,  1 ).pop()\n",
        "input_sent = cleaned_eng [ ind      ]\n",
        "result, input_sentence, attention_plot  = predict(  input_sent  )\n",
        "orig_sent = cleaned_ita[ ind    ]\n",
        "input_sent = cleaned_eng [ ind      ]\n",
        "result, input_sentence, attention_plot  = predict(  input_sent  )\n",
        "orig_sent = cleaned_ita[ ind   ]\n",
        "print('Input English sentence is :: ', input_sentence)\n",
        "print( 'Model\\'s Translation :: ' , result)\n",
        "print('Original Italian sentence :: ', orig_sent)\n",
        "print('Google Translate  of the prediction in english is  :: I already told you that she is here. ' )\n",
        "\n",
        "plot_attention( attention_plot[  :  len(result.split(' '))  , :  len(input_sentence.split(' ')  )  ] , input_sentence.split() , result.split() )\n",
        "print( 'Sample Bleu score :: ', bleu.sentence_bleu(orig_sent.split(), result.split() )  ) "
      ]
    },
    {
      "cell_type": "code",
      "execution_count": null,
      "metadata": {
        "colab": {
          "base_uri": "https://localhost:8080/",
          "height": 723
        },
        "id": "yw1UqyK5o4EX",
        "outputId": "6b121490-17c7-480a-bf79-f816815bc733"
      },
      "outputs": [
        {
          "name": "stdout",
          "output_type": "stream",
          "text": [
            "Input English sentence is ::  I don't like this camera .\n",
            "Model's Translation ::  mi piace questa macchina fotografica . <end> \n",
            "Original Italian sentence ::  Non mi piace questa macchina fotografica .\n",
            "Google Translate  of the prediction in english is  :: i like this camera. \n"
          ]
        },
        {
          "data": {
            "image/png": "[encoded data removed]",
            "text/plain": [
              "<Figure size 720x720 with 1 Axes>"
            ]
          },
          "metadata": {
            "needs_background": "light",
            "tags": []
          },
          "output_type": "display_data"
        },
        {
          "name": "stdout",
          "output_type": "stream",
          "text": [
            "Sample Bleu score ::  0.6147881529512643\n"
          ]
        }
      ],
      "source": [
        "ind = random.sample( make_test_data ,  1 ).pop()\n",
        "input_sent = cleaned_eng [ ind      ]\n",
        "result, input_sentence, attention_plot  = predict(  input_sent  )\n",
        "orig_sent = cleaned_ita[ ind    ]\n",
        "input_sent = cleaned_eng [ ind      ]\n",
        "result, input_sentence, attention_plot  = predict(  input_sent  )\n",
        "orig_sent = cleaned_ita[ ind   ]\n",
        "print('Input English sentence is :: ', input_sentence)\n",
        "print( 'Model\\'s Translation :: ' , result)\n",
        "print('Original Italian sentence :: ', orig_sent)\n",
        "print('Google Translate  of the prediction in english is  :: i like this camera. ' )\n",
        "\n",
        "plot_attention( attention_plot[  :  len(result.split(' '))  , :  len(input_sentence.split(' ')  )  ] , input_sentence.split() , result.split() )\n",
        "print( 'Sample Bleu score :: ', bleu.sentence_bleu(orig_sent.split(), result.split() )  ) "
      ]
    },
    {
      "cell_type": "code",
      "execution_count": null,
      "metadata": {
        "colab": {
          "base_uri": "https://localhost:8080/",
          "height": 734
        },
        "id": "6xTZN7C9IUEX",
        "outputId": "86eb2477-a1b6-49e8-99f3-568d85a9f149"
      },
      "outputs": [
        {
          "name": "stdout",
          "output_type": "stream",
          "text": [
            "Input English sentence is ::  He paid no attention to my warning .\n",
            "Model's Translation ::  non ha prestato attenzione al mio avviso . <end> \n",
            "Original Italian sentence ::  ['Non', 'ha', 'prestato', 'attenzione', 'al', 'mio', 'avviso', '.']\n",
            "Google Translate  of the prediction in english is  :: did not pay attention to my notice. \n"
          ]
        },
        {
          "data": {
            "image/png": "[encoded data removed]",
            "text/plain": [
              "<Figure size 720x720 with 1 Axes>"
            ]
          },
          "metadata": {
            "needs_background": "light",
            "tags": []
          },
          "output_type": "display_data"
        },
        {
          "name": "stdout",
          "output_type": "stream",
          "text": [
            "Sample Bleu score ::  0.5773502691896257\n"
          ]
        }
      ],
      "source": [
        "ind = random.sample( make_test_data ,  1 ).pop()\n",
        "input_sent = cleaned_eng [ ind      ]\n",
        "result, input_sentence, attention_plot  = predict(  input_sent  )\n",
        "orig_sent = cleaned_ita[ ind    ].split()\n",
        "input_sent = cleaned_eng [ ind      ]\n",
        "result, input_sentence, attention_plot  = predict(  input_sent  )\n",
        "orig_sent = cleaned_ita[ ind   ].split()\n",
        "print('Input English sentence is :: ', input_sentence)\n",
        "print( 'Model\\'s Translation :: ' , result)\n",
        "print('Original Italian sentence :: ', orig_sent)\n",
        "print('Google Translate  of the prediction in english is  :: did not pay attention to my notice. ' )\n",
        "\n",
        "plot_attention( attention_plot[  :  len(result.split(' '))  , :  len(input_sentence.split(' ')  )  ] , input_sentence.split() , result.split() )\n",
        "print( 'Sample Bleu score :: ', bleu.sentence_bleu(orig_sent, result.split() )  ) "
      ]
    },
    {
      "cell_type": "markdown",
      "metadata": {
        "id": "FQG46ly7ahU4"
      },
      "source": [
        "<font color='blue'>**Calculate Average BLEU score for a random of 1000 Sentences for Concat model**</font>"
      ]
    },
    {
      "cell_type": "code",
      "execution_count": null,
      "metadata": {
        "colab": {
          "base_uri": "https://localhost:8080/",
          "height": 34
        },
        "id": "KFWZr6KIQqt8",
        "outputId": "12d66c5c-2ea1-4247-9b93-e42ce0eb5857"
      },
      "outputs": [
        {
          "data": {
            "text/plain": [
              "([50147, 41071, 42391], 1000)"
            ]
          },
          "execution_count": 295,
          "metadata": {
            "tags": []
          },
          "output_type": "execute_result"
        }
      ],
      "source": [
        "rand_integer_arr = random.sample( make_test_data ,  1000 )\n",
        "rand_integer_arr[:3] , len( rand_integer_arr)"
      ]
    },
    {
      "cell_type": "code",
      "execution_count": null,
      "metadata": {
        "colab": {
          "base_uri": "https://localhost:8080/",
          "height": 83,
          "referenced_widgets": [
            "5fea7529762c45f7915f7d43b444e0db",
            "35bec48505174bc29c17382cb737fb03",
            "e5dc9c79ae83422a80a9a489ebb52fa0",
            "6522eee44a6846b4a66f4690dd533170",
            "559d8e96af984e64b6b21d33aee009c2",
            "933a3315dccf4589983a8ecb38e64b1d",
            "3c2de1c01e5244f8852bf78d17cf18eb",
            "e21756b79bb84d7ba0891adb24bf8c77"
          ]
        },
        "id": "XG5x7uxwhAg8",
        "outputId": "53a6c48c-43c5-44c0-a004-00568d676c23"
      },
      "outputs": [
        {
          "data": {
            "application/vnd.jupyter.widget-view+json": {
              "model_id": "5fea7529762c45f7915f7d43b444e0db",
              "version_major": 2,
              "version_minor": 0
            },
            "text/plain": [
              "HBox(children=(FloatProgress(value=0.0, max=1000.0), HTML(value='')))"
            ]
          },
          "metadata": {
            "tags": []
          },
          "output_type": "display_data"
        },
        {
          "name": "stdout",
          "output_type": "stream",
          "text": [
            "\n",
            "Average Bleau score of 1000 test sentences are ::  0.6445029711378037\n"
          ]
        }
      ],
      "source": [
        "hold_bleau_score = []\n",
        "for sent in tqdm( rand_integer_arr ): \n",
        "  result, input_sentence, attention_weights = predict( cleaned_eng[ sent ] )\n",
        "  hold_bleau_score.append(  bleu.sentence_bleu(  cleaned_ita[ sent ].split()  , result.split()  )   )\n",
        "\n",
        "print('Average Bleau score of 1000 test sentences are :: ', sum( hold_bleau_score )/ 1000 ) "
      ]
    },
    {
      "cell_type": "code",
      "metadata": {
        "id": "_79TyLYOfjMe"
      },
      "source": [
        "**Tensorboard plots**\n"
      ],
      "execution_count": null,
      "outputs": []
    },
    {
      "cell_type": "code",
      "execution_count": null,
      "metadata": {
        "id": "B-EtlW9OQoo_",
        "outputId": "ffe005ee-20b2-4479-9996-884563c9a041"
      },
      "outputs": [
        {
          "name": "stdout",
          "output_type": "stream",
          "text": [
            "loss over epochs :: \n"
          ]
        },
        {
          "data": {
            "text/html": [
              "<img src=\"https://i.imgur.com/JxVfk0h.png\"/>"
            ],
            "text/plain": [
              "<IPython.core.display.Image object>"
            ]
          },
          "execution_count": 7,
          "metadata": {},
          "output_type": "execute_result"
        }
      ],
      "source": [
        "print('loss over epochs :: ')\n",
        "Image( url = 'https://i.imgur.com/JxVfk0h.png')"
      ]
    },
    {
      "cell_type": "code",
      "execution_count": null,
      "metadata": {
        "id": "I1t5bwmOQoj5",
        "outputId": "fa9d963c-d976-4ab4-82a8-54433d350513"
      },
      "outputs": [
        {
          "name": "stdout",
          "output_type": "stream",
          "text": [
            "Histograms :: \n"
          ]
        },
        {
          "data": {
            "text/html": [
              "<img src=\"https://i.imgur.com/H5bMwbN.png\"/>"
            ],
            "text/plain": [
              "<IPython.core.display.Image object>"
            ]
          },
          "execution_count": 8,
          "metadata": {},
          "output_type": "execute_result"
        }
      ],
      "source": [
        "print('Histograms :: ')\n",
        "Image( url = 'https://i.imgur.com/H5bMwbN.png')"
      ]
    },
    {
      "cell_type": "code",
      "metadata": {
        "id": "mDm6lfGcCrMr"
      },
      "source": [
        "### Observations ::"
      ],
      "execution_count": null,
      "outputs": []
    },
    {
      "cell_type": "markdown",
      "metadata": {
        "id": "qNi90NKZahU6"
      },
      "source": [
        "###### Dot\n",
        "* We can see that , by taking the dot product we are calulating some sort of similarty measure, between the decoder hiddenstate and the encoder states, \n",
        "    This is particularly useful when both encoder and decoder hidden state are of the same dimension. Dot scoring function is quickest to calculate , as there is only \n",
        "    one operation, which is multiplication. One of the disadvantages of this is that , there is no limiting factor for the gradient , there are chances for them to become\n",
        "    big.**In order to deal with the gradient issue, another variation of the Dot function , i.e Scaled Dot score is used, which is Dot( hs, ht ) / sqrt( n )** \n",
        "\n",
        "###### General  ( Or  Multiplicative Score function)\n",
        "* Here, it is essentially the  **Dot**  score , but with a Weight matrix in between, which does some sort of weighing to the encoder output, this matrix is learnt through\n",
        "   Backpropagation .  The same problem of Gradients becoming big still exists here. But Since there is learnable matrix W_alpha, we can expect the model to perform \n",
        "   better than the simple **Dot** Scoring function.\n",
        "\n",
        "###### Concat \n",
        "*  Similar to the general function , here , we have a weight matrix , which is applied after concatenating the encoder output and \n",
        "    decoder  hiddenstate ,  and then tanh is applied  followed by a single Multilayer perceptron layer. Since we are using tanh, we can now be sure \n",
        "    that the gradient values are limited , thus not allowing it to become very huge or small."
      ]
    },
    {
      "cell_type": "markdown",
      "metadata": {
        "id": "CT9BosvGahU6"
      },
      "source": [
        "##### Additional observations of results ( all scoring functions combined ) ::"
      ]
    },
    {
      "cell_type": "markdown",
      "metadata": {
        "id": "X7krdEGqahU6"
      },
      "source": [
        "* We can see now that the Concat performs better than general and general performs better than Dot as expected , because \n",
        "    There are additional weight matrices in both general and concat functions, but the difference in performance is  very small.\n",
        "    \n",
        "    \n",
        "* We also notice that the model learns to insert question marks and punctuation marks for some sentences, also , the model is not able to regenerate certain\n",
        "   words with **accent eg :  José  has a different pronounciation than Jose , the last character has an accent, which model could not replicate correctly**\n",
        "                \n",
        "                \n",
        "* The model fails to understand the  meaning of the sentence in certain instances , \n",
        "    eg : The input sentence in english  **I don't like Camera after translating to italian , converted to english gives  'I like Camera'** which is clearly wrong."
      ]
    },
    {
      "cell_type": "markdown",
      "metadata": {
        "id": "HpmCBrf2ahVG"
      },
      "source": [
        "#### Further Improvements that can be made ::\n",
        "\n",
        "* Instead of training the embedding layer, we can use **pretrained Glove or other vectors**  to represent both Italian and English words , results might be more accurate.\n",
        "\n",
        "\n",
        "* Instead of a single Lstm layer, we can also use **Bidirectional RNN/LSTM  , we can also use Stacked LSTMS  .**\n",
        "\n",
        "These are some ideas which might improve the results."
      ]
    },
    {
      "cell_type": "code",
      "metadata": {
        "id": "FTWQjLEiCrPk"
      },
      "source": [
        "## References \n",
        "\n",
        "1)  https://www.tensorflow.org/tutorials/text/nmt_with_attention\n",
        "    \n",
        "2) https://stackoverflow.com/questions/57253841/from-logits-true-and-from-logits-false-get-different-training-result-for-tf-loss\n",
        "\n",
        "3) https://github.com/tensorflow/tensorflow/issues/29545\n",
        "\n",
        "4) https://stackoverflow.com/questions/56904476/how-to-clear-gpu-memory-without-restarting-runtime-in-google-colaboratory-tenso\n",
        "\n",
        "5) http://thoughtsondl.blogspot.com/2018/06/how-to-release-or-reset-gpu-memory-in.html\n",
        "\n",
        "6) https://arxiv.org/abs/1508.04025\n",
        "\n",
        "7) https://arxiv.org/abs/1508.04025\n",
        "\n",
        "8) https://www.youtube.com/watch?v=nA08C0RL9kA&list=PLHVv_Q5Gh-7ik2yLt56F05c7ZoLtQiXCy&index=7\n",
        "\n",
        "9) https://stackoverflow.com/questions/34240703/what-is-logits-softmax-and-softmax-cross-entropy-with-logits?rq=1\n",
        "\n",
        "10) https://www.youtube.com/watch?v=FMXUkEbjf9k"
      ],
      "execution_count": null,
      "outputs": []
    }
  ],
  "metadata": {
    "accelerator": "GPU",
    "colab": {
      "collapsed_sections": [],
      "machine_shape": "hm",
      "provenance": []
    },
    "kernelspec": {
      "display_name": "Python 3",
      "language": "python",
      "name": "python3"
    },
    "language_info": {
      "codemirror_mode": {
        "name": "ipython",
        "version": 3
      },
      "file_extension": ".py",
      "mimetype": "text/x-python",
      "name": "python",
      "nbconvert_exporter": "python",
      "pygments_lexer": "ipython3",
      "version": "3.6.5"
    },
    "widgets": {
      "application/vnd.jupyter.widget-state+json": {
        "0a96771b89c94de59b1e8cd144013bab": {
          "model_module": "@jupyter-widgets/controls",
          "model_name": "HTMLModel",
          "state": {
            "_dom_classes": [],
            "_model_module": "@jupyter-widgets/controls",
            "_model_module_version": "1.5.0",
            "_model_name": "HTMLModel",
            "_view_count": null,
            "_view_module": "@jupyter-widgets/controls",
            "_view_module_version": "1.5.0",
            "_view_name": "HTMLView",
            "description": "",
            "description_tooltip": null,
            "layout": "IPY_MODEL_84524ff1649a49268ead6b3e74e4c851",
            "placeholder": "​",
            "style": "IPY_MODEL_a3a2b2d72be140f181fdd08ee6faa360",
            "value": " 1000/1000 [10:06&lt;00:00,  1.65it/s]"
          },
          "model_module_version": "1.5.0"
        },
        "0e3816beb7d54edca74c9955d350e73b": {
          "model_module": "@jupyter-widgets/base",
          "model_name": "LayoutModel",
          "state": {
            "_model_module": "@jupyter-widgets/base",
            "_model_module_version": "1.2.0",
            "_model_name": "LayoutModel",
            "_view_count": null,
            "_view_module": "@jupyter-widgets/base",
            "_view_module_version": "1.2.0",
            "_view_name": "LayoutView",
            "align_content": null,
            "align_items": null,
            "align_self": null,
            "border": null,
            "bottom": null,
            "display": null,
            "flex": null,
            "flex_flow": null,
            "grid_area": null,
            "grid_auto_columns": null,
            "grid_auto_flow": null,
            "grid_auto_rows": null,
            "grid_column": null,
            "grid_gap": null,
            "grid_row": null,
            "grid_template_areas": null,
            "grid_template_columns": null,
            "grid_template_rows": null,
            "height": null,
            "justify_content": null,
            "justify_items": null,
            "left": null,
            "margin": null,
            "max_height": null,
            "max_width": null,
            "min_height": null,
            "min_width": null,
            "object_fit": null,
            "object_position": null,
            "order": null,
            "overflow": null,
            "overflow_x": null,
            "overflow_y": null,
            "padding": null,
            "right": null,
            "top": null,
            "visibility": null,
            "width": null
          },
          "model_module_version": "1.2.0"
        },
        "100876463c454eeeb07c41d9eada27b3": {
          "model_module": "@jupyter-widgets/controls",
          "model_name": "DescriptionStyleModel",
          "state": {
            "_model_module": "@jupyter-widgets/controls",
            "_model_module_version": "1.5.0",
            "_model_name": "DescriptionStyleModel",
            "_view_count": null,
            "_view_module": "@jupyter-widgets/base",
            "_view_module_version": "1.2.0",
            "_view_name": "StyleView",
            "description_width": ""
          },
          "model_module_version": "1.5.0"
        },
        "11005a0058de4211b413e06066e943cd": {
          "model_module": "@jupyter-widgets/controls",
          "model_name": "HTMLModel",
          "state": {
            "_dom_classes": [],
            "_model_module": "@jupyter-widgets/controls",
            "_model_module_version": "1.5.0",
            "_model_name": "HTMLModel",
            "_view_count": null,
            "_view_module": "@jupyter-widgets/controls",
            "_view_module_version": "1.5.0",
            "_view_name": "HTMLView",
            "description": "",
            "description_tooltip": null,
            "layout": "IPY_MODEL_85734c584cd14c9eaa48201c349d67b0",
            "placeholder": "​",
            "style": "IPY_MODEL_62990c1aace942b49f99cd1514a85737",
            "value": " 1000/1000 [12:48&lt;00:00,  1.30it/s]"
          },
          "model_module_version": "1.5.0"
        },
        "18c7544f2d8c4b658d7e82417ca40925": {
          "model_module": "@jupyter-widgets/base",
          "model_name": "LayoutModel",
          "state": {
            "_model_module": "@jupyter-widgets/base",
            "_model_module_version": "1.2.0",
            "_model_name": "LayoutModel",
            "_view_count": null,
            "_view_module": "@jupyter-widgets/base",
            "_view_module_version": "1.2.0",
            "_view_name": "LayoutView",
            "align_content": null,
            "align_items": null,
            "align_self": null,
            "border": null,
            "bottom": null,
            "display": null,
            "flex": null,
            "flex_flow": null,
            "grid_area": null,
            "grid_auto_columns": null,
            "grid_auto_flow": null,
            "grid_auto_rows": null,
            "grid_column": null,
            "grid_gap": null,
            "grid_row": null,
            "grid_template_areas": null,
            "grid_template_columns": null,
            "grid_template_rows": null,
            "height": null,
            "justify_content": null,
            "justify_items": null,
            "left": null,
            "margin": null,
            "max_height": null,
            "max_width": null,
            "min_height": null,
            "min_width": null,
            "object_fit": null,
            "object_position": null,
            "order": null,
            "overflow": null,
            "overflow_x": null,
            "overflow_y": null,
            "padding": null,
            "right": null,
            "top": null,
            "visibility": null,
            "width": null
          },
          "model_module_version": "1.2.0"
        },
        "28fcb82ed1a748e59a84f606b98df8ae": {
          "model_module": "@jupyter-widgets/base",
          "model_name": "LayoutModel",
          "state": {
            "_model_module": "@jupyter-widgets/base",
            "_model_module_version": "1.2.0",
            "_model_name": "LayoutModel",
            "_view_count": null,
            "_view_module": "@jupyter-widgets/base",
            "_view_module_version": "1.2.0",
            "_view_name": "LayoutView",
            "align_content": null,
            "align_items": null,
            "align_self": null,
            "border": null,
            "bottom": null,
            "display": null,
            "flex": null,
            "flex_flow": null,
            "grid_area": null,
            "grid_auto_columns": null,
            "grid_auto_flow": null,
            "grid_auto_rows": null,
            "grid_column": null,
            "grid_gap": null,
            "grid_row": null,
            "grid_template_areas": null,
            "grid_template_columns": null,
            "grid_template_rows": null,
            "height": null,
            "justify_content": null,
            "justify_items": null,
            "left": null,
            "margin": null,
            "max_height": null,
            "max_width": null,
            "min_height": null,
            "min_width": null,
            "object_fit": null,
            "object_position": null,
            "order": null,
            "overflow": null,
            "overflow_x": null,
            "overflow_y": null,
            "padding": null,
            "right": null,
            "top": null,
            "visibility": null,
            "width": null
          },
          "model_module_version": "1.2.0"
        },
        "2b1838120a37463491b35b2bc0df4382": {
          "model_module": "@jupyter-widgets/base",
          "model_name": "LayoutModel",
          "state": {
            "_model_module": "@jupyter-widgets/base",
            "_model_module_version": "1.2.0",
            "_model_name": "LayoutModel",
            "_view_count": null,
            "_view_module": "@jupyter-widgets/base",
            "_view_module_version": "1.2.0",
            "_view_name": "LayoutView",
            "align_content": null,
            "align_items": null,
            "align_self": null,
            "border": null,
            "bottom": null,
            "display": null,
            "flex": null,
            "flex_flow": null,
            "grid_area": null,
            "grid_auto_columns": null,
            "grid_auto_flow": null,
            "grid_auto_rows": null,
            "grid_column": null,
            "grid_gap": null,
            "grid_row": null,
            "grid_template_areas": null,
            "grid_template_columns": null,
            "grid_template_rows": null,
            "height": null,
            "justify_content": null,
            "justify_items": null,
            "left": null,
            "margin": null,
            "max_height": null,
            "max_width": null,
            "min_height": null,
            "min_width": null,
            "object_fit": null,
            "object_position": null,
            "order": null,
            "overflow": null,
            "overflow_x": null,
            "overflow_y": null,
            "padding": null,
            "right": null,
            "top": null,
            "visibility": null,
            "width": null
          },
          "model_module_version": "1.2.0"
        },
        "2d8a9e37c54643e6ad303db62dc9d236": {
          "model_module": "@jupyter-widgets/controls",
          "model_name": "HBoxModel",
          "state": {
            "_dom_classes": [],
            "_model_module": "@jupyter-widgets/controls",
            "_model_module_version": "1.5.0",
            "_model_name": "HBoxModel",
            "_view_count": null,
            "_view_module": "@jupyter-widgets/controls",
            "_view_module_version": "1.5.0",
            "_view_name": "HBoxView",
            "box_style": "",
            "children": [
              "IPY_MODEL_776e5eb52ce44236a8c9425e3632d672",
              "IPY_MODEL_11005a0058de4211b413e06066e943cd"
            ],
            "layout": "IPY_MODEL_3a6463108bd04a2eb0292fe0b4e7239a"
          },
          "model_module_version": "1.5.0"
        },
        "3229970aa1af4e2f945fe13c1009160d": {
          "model_module": "@jupyter-widgets/controls",
          "model_name": "HBoxModel",
          "state": {
            "_dom_classes": [],
            "_model_module": "@jupyter-widgets/controls",
            "_model_module_version": "1.5.0",
            "_model_name": "HBoxModel",
            "_view_count": null,
            "_view_module": "@jupyter-widgets/controls",
            "_view_module_version": "1.5.0",
            "_view_name": "HBoxView",
            "box_style": "",
            "children": [
              "IPY_MODEL_deabf4b150a34ceabf545179ce6dbad4",
              "IPY_MODEL_f45bb49e808f485c8f1fd12a0e1eff3f"
            ],
            "layout": "IPY_MODEL_4601167a3e874c7899420562dc9e2caa"
          },
          "model_module_version": "1.5.0"
        },
        "35bec48505174bc29c17382cb737fb03": {
          "model_module": "@jupyter-widgets/base",
          "model_name": "LayoutModel",
          "state": {
            "_model_module": "@jupyter-widgets/base",
            "_model_module_version": "1.2.0",
            "_model_name": "LayoutModel",
            "_view_count": null,
            "_view_module": "@jupyter-widgets/base",
            "_view_module_version": "1.2.0",
            "_view_name": "LayoutView",
            "align_content": null,
            "align_items": null,
            "align_self": null,
            "border": null,
            "bottom": null,
            "display": null,
            "flex": null,
            "flex_flow": null,
            "grid_area": null,
            "grid_auto_columns": null,
            "grid_auto_flow": null,
            "grid_auto_rows": null,
            "grid_column": null,
            "grid_gap": null,
            "grid_row": null,
            "grid_template_areas": null,
            "grid_template_columns": null,
            "grid_template_rows": null,
            "height": null,
            "justify_content": null,
            "justify_items": null,
            "left": null,
            "margin": null,
            "max_height": null,
            "max_width": null,
            "min_height": null,
            "min_width": null,
            "object_fit": null,
            "object_position": null,
            "order": null,
            "overflow": null,
            "overflow_x": null,
            "overflow_y": null,
            "padding": null,
            "right": null,
            "top": null,
            "visibility": null,
            "width": null
          },
          "model_module_version": "1.2.0"
        },
        "3a6463108bd04a2eb0292fe0b4e7239a": {
          "model_module": "@jupyter-widgets/base",
          "model_name": "LayoutModel",
          "state": {
            "_model_module": "@jupyter-widgets/base",
            "_model_module_version": "1.2.0",
            "_model_name": "LayoutModel",
            "_view_count": null,
            "_view_module": "@jupyter-widgets/base",
            "_view_module_version": "1.2.0",
            "_view_name": "LayoutView",
            "align_content": null,
            "align_items": null,
            "align_self": null,
            "border": null,
            "bottom": null,
            "display": null,
            "flex": null,
            "flex_flow": null,
            "grid_area": null,
            "grid_auto_columns": null,
            "grid_auto_flow": null,
            "grid_auto_rows": null,
            "grid_column": null,
            "grid_gap": null,
            "grid_row": null,
            "grid_template_areas": null,
            "grid_template_columns": null,
            "grid_template_rows": null,
            "height": null,
            "justify_content": null,
            "justify_items": null,
            "left": null,
            "margin": null,
            "max_height": null,
            "max_width": null,
            "min_height": null,
            "min_width": null,
            "object_fit": null,
            "object_position": null,
            "order": null,
            "overflow": null,
            "overflow_x": null,
            "overflow_y": null,
            "padding": null,
            "right": null,
            "top": null,
            "visibility": null,
            "width": null
          },
          "model_module_version": "1.2.0"
        },
        "3c2de1c01e5244f8852bf78d17cf18eb": {
          "model_module": "@jupyter-widgets/controls",
          "model_name": "DescriptionStyleModel",
          "state": {
            "_model_module": "@jupyter-widgets/controls",
            "_model_module_version": "1.5.0",
            "_model_name": "DescriptionStyleModel",
            "_view_count": null,
            "_view_module": "@jupyter-widgets/base",
            "_view_module_version": "1.2.0",
            "_view_name": "StyleView",
            "description_width": ""
          },
          "model_module_version": "1.5.0"
        },
        "3cca5a915eac40d88a5937e25aed5550": {
          "model_module": "@jupyter-widgets/base",
          "model_name": "LayoutModel",
          "state": {
            "_model_module": "@jupyter-widgets/base",
            "_model_module_version": "1.2.0",
            "_model_name": "LayoutModel",
            "_view_count": null,
            "_view_module": "@jupyter-widgets/base",
            "_view_module_version": "1.2.0",
            "_view_name": "LayoutView",
            "align_content": null,
            "align_items": null,
            "align_self": null,
            "border": null,
            "bottom": null,
            "display": null,
            "flex": null,
            "flex_flow": null,
            "grid_area": null,
            "grid_auto_columns": null,
            "grid_auto_flow": null,
            "grid_auto_rows": null,
            "grid_column": null,
            "grid_gap": null,
            "grid_row": null,
            "grid_template_areas": null,
            "grid_template_columns": null,
            "grid_template_rows": null,
            "height": null,
            "justify_content": null,
            "justify_items": null,
            "left": null,
            "margin": null,
            "max_height": null,
            "max_width": null,
            "min_height": null,
            "min_width": null,
            "object_fit": null,
            "object_position": null,
            "order": null,
            "overflow": null,
            "overflow_x": null,
            "overflow_y": null,
            "padding": null,
            "right": null,
            "top": null,
            "visibility": null,
            "width": null
          },
          "model_module_version": "1.2.0"
        },
        "3d476a94b98f4caf965ee408a798e8ce": {
          "model_module": "@jupyter-widgets/controls",
          "model_name": "FloatProgressModel",
          "state": {
            "_dom_classes": [],
            "_model_module": "@jupyter-widgets/controls",
            "_model_module_version": "1.5.0",
            "_model_name": "FloatProgressModel",
            "_view_count": null,
            "_view_module": "@jupyter-widgets/controls",
            "_view_module_version": "1.5.0",
            "_view_name": "ProgressView",
            "bar_style": "success",
            "description": "100%",
            "description_tooltip": null,
            "layout": "IPY_MODEL_0e3816beb7d54edca74c9955d350e73b",
            "max": 269291,
            "min": 0,
            "orientation": "horizontal",
            "style": "IPY_MODEL_bb55a02a690a45b68d77ace6803b242d",
            "value": 269291
          },
          "model_module_version": "1.5.0"
        },
        "4601167a3e874c7899420562dc9e2caa": {
          "model_module": "@jupyter-widgets/base",
          "model_name": "LayoutModel",
          "state": {
            "_model_module": "@jupyter-widgets/base",
            "_model_module_version": "1.2.0",
            "_model_name": "LayoutModel",
            "_view_count": null,
            "_view_module": "@jupyter-widgets/base",
            "_view_module_version": "1.2.0",
            "_view_name": "LayoutView",
            "align_content": null,
            "align_items": null,
            "align_self": null,
            "border": null,
            "bottom": null,
            "display": null,
            "flex": null,
            "flex_flow": null,
            "grid_area": null,
            "grid_auto_columns": null,
            "grid_auto_flow": null,
            "grid_auto_rows": null,
            "grid_column": null,
            "grid_gap": null,
            "grid_row": null,
            "grid_template_areas": null,
            "grid_template_columns": null,
            "grid_template_rows": null,
            "height": null,
            "justify_content": null,
            "justify_items": null,
            "left": null,
            "margin": null,
            "max_height": null,
            "max_width": null,
            "min_height": null,
            "min_width": null,
            "object_fit": null,
            "object_position": null,
            "order": null,
            "overflow": null,
            "overflow_x": null,
            "overflow_y": null,
            "padding": null,
            "right": null,
            "top": null,
            "visibility": null,
            "width": null
          },
          "model_module_version": "1.2.0"
        },
        "5168158dfcac4ab889820067bac61a33": {
          "model_module": "@jupyter-widgets/controls",
          "model_name": "ProgressStyleModel",
          "state": {
            "_model_module": "@jupyter-widgets/controls",
            "_model_module_version": "1.5.0",
            "_model_name": "ProgressStyleModel",
            "_view_count": null,
            "_view_module": "@jupyter-widgets/base",
            "_view_module_version": "1.2.0",
            "_view_name": "StyleView",
            "bar_color": null,
            "description_width": "initial"
          },
          "model_module_version": "1.5.0"
        },
        "559d8e96af984e64b6b21d33aee009c2": {
          "model_module": "@jupyter-widgets/controls",
          "model_name": "ProgressStyleModel",
          "state": {
            "_model_module": "@jupyter-widgets/controls",
            "_model_module_version": "1.5.0",
            "_model_name": "ProgressStyleModel",
            "_view_count": null,
            "_view_module": "@jupyter-widgets/base",
            "_view_module_version": "1.2.0",
            "_view_name": "StyleView",
            "bar_color": null,
            "description_width": "initial"
          },
          "model_module_version": "1.5.0"
        },
        "5fea7529762c45f7915f7d43b444e0db": {
          "model_module": "@jupyter-widgets/controls",
          "model_name": "HBoxModel",
          "state": {
            "_dom_classes": [],
            "_model_module": "@jupyter-widgets/controls",
            "_model_module_version": "1.5.0",
            "_model_name": "HBoxModel",
            "_view_count": null,
            "_view_module": "@jupyter-widgets/controls",
            "_view_module_version": "1.5.0",
            "_view_name": "HBoxView",
            "box_style": "",
            "children": [
              "IPY_MODEL_e5dc9c79ae83422a80a9a489ebb52fa0",
              "IPY_MODEL_6522eee44a6846b4a66f4690dd533170"
            ],
            "layout": "IPY_MODEL_35bec48505174bc29c17382cb737fb03"
          },
          "model_module_version": "1.5.0"
        },
        "62990c1aace942b49f99cd1514a85737": {
          "model_module": "@jupyter-widgets/controls",
          "model_name": "DescriptionStyleModel",
          "state": {
            "_model_module": "@jupyter-widgets/controls",
            "_model_module_version": "1.5.0",
            "_model_name": "DescriptionStyleModel",
            "_view_count": null,
            "_view_module": "@jupyter-widgets/base",
            "_view_module_version": "1.2.0",
            "_view_name": "StyleView",
            "description_width": ""
          },
          "model_module_version": "1.5.0"
        },
        "6522eee44a6846b4a66f4690dd533170": {
          "model_module": "@jupyter-widgets/controls",
          "model_name": "HTMLModel",
          "state": {
            "_dom_classes": [],
            "_model_module": "@jupyter-widgets/controls",
            "_model_module_version": "1.5.0",
            "_model_name": "HTMLModel",
            "_view_count": null,
            "_view_module": "@jupyter-widgets/controls",
            "_view_module_version": "1.5.0",
            "_view_name": "HTMLView",
            "description": "",
            "description_tooltip": null,
            "layout": "IPY_MODEL_e21756b79bb84d7ba0891adb24bf8c77",
            "placeholder": "​",
            "style": "IPY_MODEL_3c2de1c01e5244f8852bf78d17cf18eb",
            "value": " 1000/1000 [01:22&lt;00:00, 12.16it/s]"
          },
          "model_module_version": "1.5.0"
        },
        "690011a0d13f48cab2448b0fbc67282f": {
          "model_module": "@jupyter-widgets/base",
          "model_name": "LayoutModel",
          "state": {
            "_model_module": "@jupyter-widgets/base",
            "_model_module_version": "1.2.0",
            "_model_name": "LayoutModel",
            "_view_count": null,
            "_view_module": "@jupyter-widgets/base",
            "_view_module_version": "1.2.0",
            "_view_name": "LayoutView",
            "align_content": null,
            "align_items": null,
            "align_self": null,
            "border": null,
            "bottom": null,
            "display": null,
            "flex": null,
            "flex_flow": null,
            "grid_area": null,
            "grid_auto_columns": null,
            "grid_auto_flow": null,
            "grid_auto_rows": null,
            "grid_column": null,
            "grid_gap": null,
            "grid_row": null,
            "grid_template_areas": null,
            "grid_template_columns": null,
            "grid_template_rows": null,
            "height": null,
            "justify_content": null,
            "justify_items": null,
            "left": null,
            "margin": null,
            "max_height": null,
            "max_width": null,
            "min_height": null,
            "min_width": null,
            "object_fit": null,
            "object_position": null,
            "order": null,
            "overflow": null,
            "overflow_x": null,
            "overflow_y": null,
            "padding": null,
            "right": null,
            "top": null,
            "visibility": null,
            "width": null
          },
          "model_module_version": "1.2.0"
        },
        "70b3dc665ff9484f97d876bbc507a71c": {
          "model_module": "@jupyter-widgets/controls",
          "model_name": "ProgressStyleModel",
          "state": {
            "_model_module": "@jupyter-widgets/controls",
            "_model_module_version": "1.5.0",
            "_model_name": "ProgressStyleModel",
            "_view_count": null,
            "_view_module": "@jupyter-widgets/base",
            "_view_module_version": "1.2.0",
            "_view_name": "StyleView",
            "bar_color": null,
            "description_width": "initial"
          },
          "model_module_version": "1.5.0"
        },
        "76ac6cbe16ee4e08ae1665da6f525bb7": {
          "model_module": "@jupyter-widgets/controls",
          "model_name": "HBoxModel",
          "state": {
            "_dom_classes": [],
            "_model_module": "@jupyter-widgets/controls",
            "_model_module_version": "1.5.0",
            "_model_name": "HBoxModel",
            "_view_count": null,
            "_view_module": "@jupyter-widgets/controls",
            "_view_module_version": "1.5.0",
            "_view_name": "HBoxView",
            "box_style": "",
            "children": [
              "IPY_MODEL_3d476a94b98f4caf965ee408a798e8ce",
              "IPY_MODEL_9ea1bab08b3e4f6d8a6e3141cd497419"
            ],
            "layout": "IPY_MODEL_18c7544f2d8c4b658d7e82417ca40925"
          },
          "model_module_version": "1.5.0"
        },
        "776e5eb52ce44236a8c9425e3632d672": {
          "model_module": "@jupyter-widgets/controls",
          "model_name": "FloatProgressModel",
          "state": {
            "_dom_classes": [],
            "_model_module": "@jupyter-widgets/controls",
            "_model_module_version": "1.5.0",
            "_model_name": "FloatProgressModel",
            "_view_count": null,
            "_view_module": "@jupyter-widgets/controls",
            "_view_module_version": "1.5.0",
            "_view_name": "ProgressView",
            "bar_style": "success",
            "description": "100%",
            "description_tooltip": null,
            "layout": "IPY_MODEL_f84c5742d312477da30e45407ae2a6df",
            "max": 1000,
            "min": 0,
            "orientation": "horizontal",
            "style": "IPY_MODEL_b748d1e59b1f4c3d92844e698108059b",
            "value": 1000
          },
          "model_module_version": "1.5.0"
        },
        "7d11a9abd1cb490c823935d2f4c4d6e4": {
          "model_module": "@jupyter-widgets/controls",
          "model_name": "FloatProgressModel",
          "state": {
            "_dom_classes": [],
            "_model_module": "@jupyter-widgets/controls",
            "_model_module_version": "1.5.0",
            "_model_name": "FloatProgressModel",
            "_view_count": null,
            "_view_module": "@jupyter-widgets/controls",
            "_view_module_version": "1.5.0",
            "_view_name": "ProgressView",
            "bar_style": "success",
            "description": "100%",
            "description_tooltip": null,
            "layout": "IPY_MODEL_3cca5a915eac40d88a5937e25aed5550",
            "max": 1000,
            "min": 0,
            "orientation": "horizontal",
            "style": "IPY_MODEL_5168158dfcac4ab889820067bac61a33",
            "value": 1000
          },
          "model_module_version": "1.5.0"
        },
        "84524ff1649a49268ead6b3e74e4c851": {
          "model_module": "@jupyter-widgets/base",
          "model_name": "LayoutModel",
          "state": {
            "_model_module": "@jupyter-widgets/base",
            "_model_module_version": "1.2.0",
            "_model_name": "LayoutModel",
            "_view_count": null,
            "_view_module": "@jupyter-widgets/base",
            "_view_module_version": "1.2.0",
            "_view_name": "LayoutView",
            "align_content": null,
            "align_items": null,
            "align_self": null,
            "border": null,
            "bottom": null,
            "display": null,
            "flex": null,
            "flex_flow": null,
            "grid_area": null,
            "grid_auto_columns": null,
            "grid_auto_flow": null,
            "grid_auto_rows": null,
            "grid_column": null,
            "grid_gap": null,
            "grid_row": null,
            "grid_template_areas": null,
            "grid_template_columns": null,
            "grid_template_rows": null,
            "height": null,
            "justify_content": null,
            "justify_items": null,
            "left": null,
            "margin": null,
            "max_height": null,
            "max_width": null,
            "min_height": null,
            "min_width": null,
            "object_fit": null,
            "object_position": null,
            "order": null,
            "overflow": null,
            "overflow_x": null,
            "overflow_y": null,
            "padding": null,
            "right": null,
            "top": null,
            "visibility": null,
            "width": null
          },
          "model_module_version": "1.2.0"
        },
        "85734c584cd14c9eaa48201c349d67b0": {
          "model_module": "@jupyter-widgets/base",
          "model_name": "LayoutModel",
          "state": {
            "_model_module": "@jupyter-widgets/base",
            "_model_module_version": "1.2.0",
            "_model_name": "LayoutModel",
            "_view_count": null,
            "_view_module": "@jupyter-widgets/base",
            "_view_module_version": "1.2.0",
            "_view_name": "LayoutView",
            "align_content": null,
            "align_items": null,
            "align_self": null,
            "border": null,
            "bottom": null,
            "display": null,
            "flex": null,
            "flex_flow": null,
            "grid_area": null,
            "grid_auto_columns": null,
            "grid_auto_flow": null,
            "grid_auto_rows": null,
            "grid_column": null,
            "grid_gap": null,
            "grid_row": null,
            "grid_template_areas": null,
            "grid_template_columns": null,
            "grid_template_rows": null,
            "height": null,
            "justify_content": null,
            "justify_items": null,
            "left": null,
            "margin": null,
            "max_height": null,
            "max_width": null,
            "min_height": null,
            "min_width": null,
            "object_fit": null,
            "object_position": null,
            "order": null,
            "overflow": null,
            "overflow_x": null,
            "overflow_y": null,
            "padding": null,
            "right": null,
            "top": null,
            "visibility": null,
            "width": null
          },
          "model_module_version": "1.2.0"
        },
        "88c071217baa4c32b19e74ad2fbba9b9": {
          "model_module": "@jupyter-widgets/controls",
          "model_name": "DescriptionStyleModel",
          "state": {
            "_model_module": "@jupyter-widgets/controls",
            "_model_module_version": "1.5.0",
            "_model_name": "DescriptionStyleModel",
            "_view_count": null,
            "_view_module": "@jupyter-widgets/base",
            "_view_module_version": "1.2.0",
            "_view_name": "StyleView",
            "description_width": ""
          },
          "model_module_version": "1.5.0"
        },
        "933a3315dccf4589983a8ecb38e64b1d": {
          "model_module": "@jupyter-widgets/base",
          "model_name": "LayoutModel",
          "state": {
            "_model_module": "@jupyter-widgets/base",
            "_model_module_version": "1.2.0",
            "_model_name": "LayoutModel",
            "_view_count": null,
            "_view_module": "@jupyter-widgets/base",
            "_view_module_version": "1.2.0",
            "_view_name": "LayoutView",
            "align_content": null,
            "align_items": null,
            "align_self": null,
            "border": null,
            "bottom": null,
            "display": null,
            "flex": null,
            "flex_flow": null,
            "grid_area": null,
            "grid_auto_columns": null,
            "grid_auto_flow": null,
            "grid_auto_rows": null,
            "grid_column": null,
            "grid_gap": null,
            "grid_row": null,
            "grid_template_areas": null,
            "grid_template_columns": null,
            "grid_template_rows": null,
            "height": null,
            "justify_content": null,
            "justify_items": null,
            "left": null,
            "margin": null,
            "max_height": null,
            "max_width": null,
            "min_height": null,
            "min_width": null,
            "object_fit": null,
            "object_position": null,
            "order": null,
            "overflow": null,
            "overflow_x": null,
            "overflow_y": null,
            "padding": null,
            "right": null,
            "top": null,
            "visibility": null,
            "width": null
          },
          "model_module_version": "1.2.0"
        },
        "9ea1bab08b3e4f6d8a6e3141cd497419": {
          "model_module": "@jupyter-widgets/controls",
          "model_name": "HTMLModel",
          "state": {
            "_dom_classes": [],
            "_model_module": "@jupyter-widgets/controls",
            "_model_module_version": "1.5.0",
            "_model_name": "HTMLModel",
            "_view_count": null,
            "_view_module": "@jupyter-widgets/controls",
            "_view_module_version": "1.5.0",
            "_view_name": "HTMLView",
            "description": "",
            "description_tooltip": null,
            "layout": "IPY_MODEL_f7d4b887faba460797cdc02502b5a777",
            "placeholder": "​",
            "style": "IPY_MODEL_100876463c454eeeb07c41d9eada27b3",
            "value": " 269291/269291 [00:50&lt;00:00, 5385.80it/s]"
          },
          "model_module_version": "1.5.0"
        },
        "a3a2b2d72be140f181fdd08ee6faa360": {
          "model_module": "@jupyter-widgets/controls",
          "model_name": "DescriptionStyleModel",
          "state": {
            "_model_module": "@jupyter-widgets/controls",
            "_model_module_version": "1.5.0",
            "_model_name": "DescriptionStyleModel",
            "_view_count": null,
            "_view_module": "@jupyter-widgets/base",
            "_view_module_version": "1.2.0",
            "_view_name": "StyleView",
            "description_width": ""
          },
          "model_module_version": "1.5.0"
        },
        "b748d1e59b1f4c3d92844e698108059b": {
          "model_module": "@jupyter-widgets/controls",
          "model_name": "ProgressStyleModel",
          "state": {
            "_model_module": "@jupyter-widgets/controls",
            "_model_module_version": "1.5.0",
            "_model_name": "ProgressStyleModel",
            "_view_count": null,
            "_view_module": "@jupyter-widgets/base",
            "_view_module_version": "1.2.0",
            "_view_name": "StyleView",
            "bar_color": null,
            "description_width": "initial"
          },
          "model_module_version": "1.5.0"
        },
        "bb55a02a690a45b68d77ace6803b242d": {
          "model_module": "@jupyter-widgets/controls",
          "model_name": "ProgressStyleModel",
          "state": {
            "_model_module": "@jupyter-widgets/controls",
            "_model_module_version": "1.5.0",
            "_model_name": "ProgressStyleModel",
            "_view_count": null,
            "_view_module": "@jupyter-widgets/base",
            "_view_module_version": "1.2.0",
            "_view_name": "StyleView",
            "bar_color": null,
            "description_width": "initial"
          },
          "model_module_version": "1.5.0"
        },
        "deabf4b150a34ceabf545179ce6dbad4": {
          "model_module": "@jupyter-widgets/controls",
          "model_name": "FloatProgressModel",
          "state": {
            "_dom_classes": [],
            "_model_module": "@jupyter-widgets/controls",
            "_model_module_version": "1.5.0",
            "_model_name": "FloatProgressModel",
            "_view_count": null,
            "_view_module": "@jupyter-widgets/controls",
            "_view_module_version": "1.5.0",
            "_view_name": "ProgressView",
            "bar_style": "success",
            "description": "100%",
            "description_tooltip": null,
            "layout": "IPY_MODEL_690011a0d13f48cab2448b0fbc67282f",
            "max": 67323,
            "min": 0,
            "orientation": "horizontal",
            "style": "IPY_MODEL_70b3dc665ff9484f97d876bbc507a71c",
            "value": 67323
          },
          "model_module_version": "1.5.0"
        },
        "e21756b79bb84d7ba0891adb24bf8c77": {
          "model_module": "@jupyter-widgets/base",
          "model_name": "LayoutModel",
          "state": {
            "_model_module": "@jupyter-widgets/base",
            "_model_module_version": "1.2.0",
            "_model_name": "LayoutModel",
            "_view_count": null,
            "_view_module": "@jupyter-widgets/base",
            "_view_module_version": "1.2.0",
            "_view_name": "LayoutView",
            "align_content": null,
            "align_items": null,
            "align_self": null,
            "border": null,
            "bottom": null,
            "display": null,
            "flex": null,
            "flex_flow": null,
            "grid_area": null,
            "grid_auto_columns": null,
            "grid_auto_flow": null,
            "grid_auto_rows": null,
            "grid_column": null,
            "grid_gap": null,
            "grid_row": null,
            "grid_template_areas": null,
            "grid_template_columns": null,
            "grid_template_rows": null,
            "height": null,
            "justify_content": null,
            "justify_items": null,
            "left": null,
            "margin": null,
            "max_height": null,
            "max_width": null,
            "min_height": null,
            "min_width": null,
            "object_fit": null,
            "object_position": null,
            "order": null,
            "overflow": null,
            "overflow_x": null,
            "overflow_y": null,
            "padding": null,
            "right": null,
            "top": null,
            "visibility": null,
            "width": null
          },
          "model_module_version": "1.2.0"
        },
        "e5dc9c79ae83422a80a9a489ebb52fa0": {
          "model_module": "@jupyter-widgets/controls",
          "model_name": "FloatProgressModel",
          "state": {
            "_dom_classes": [],
            "_model_module": "@jupyter-widgets/controls",
            "_model_module_version": "1.5.0",
            "_model_name": "FloatProgressModel",
            "_view_count": null,
            "_view_module": "@jupyter-widgets/controls",
            "_view_module_version": "1.5.0",
            "_view_name": "ProgressView",
            "bar_style": "success",
            "description": "100%",
            "description_tooltip": null,
            "layout": "IPY_MODEL_933a3315dccf4589983a8ecb38e64b1d",
            "max": 1000,
            "min": 0,
            "orientation": "horizontal",
            "style": "IPY_MODEL_559d8e96af984e64b6b21d33aee009c2",
            "value": 1000
          },
          "model_module_version": "1.5.0"
        },
        "f45bb49e808f485c8f1fd12a0e1eff3f": {
          "model_module": "@jupyter-widgets/controls",
          "model_name": "HTMLModel",
          "state": {
            "_dom_classes": [],
            "_model_module": "@jupyter-widgets/controls",
            "_model_module_version": "1.5.0",
            "_model_name": "HTMLModel",
            "_view_count": null,
            "_view_module": "@jupyter-widgets/controls",
            "_view_module_version": "1.5.0",
            "_view_name": "HTMLView",
            "description": "",
            "description_tooltip": null,
            "layout": "IPY_MODEL_2b1838120a37463491b35b2bc0df4382",
            "placeholder": "​",
            "style": "IPY_MODEL_88c071217baa4c32b19e74ad2fbba9b9",
            "value": " 67323/67323 [00:38&lt;00:00, 1743.18it/s]"
          },
          "model_module_version": "1.5.0"
        },
        "f4985e02849d4a1a825b023b3e9a1d40": {
          "model_module": "@jupyter-widgets/controls",
          "model_name": "HBoxModel",
          "state": {
            "_dom_classes": [],
            "_model_module": "@jupyter-widgets/controls",
            "_model_module_version": "1.5.0",
            "_model_name": "HBoxModel",
            "_view_count": null,
            "_view_module": "@jupyter-widgets/controls",
            "_view_module_version": "1.5.0",
            "_view_name": "HBoxView",
            "box_style": "",
            "children": [
              "IPY_MODEL_7d11a9abd1cb490c823935d2f4c4d6e4",
              "IPY_MODEL_0a96771b89c94de59b1e8cd144013bab"
            ],
            "layout": "IPY_MODEL_28fcb82ed1a748e59a84f606b98df8ae"
          },
          "model_module_version": "1.5.0"
        },
        "f7d4b887faba460797cdc02502b5a777": {
          "model_module": "@jupyter-widgets/base",
          "model_name": "LayoutModel",
          "state": {
            "_model_module": "@jupyter-widgets/base",
            "_model_module_version": "1.2.0",
            "_model_name": "LayoutModel",
            "_view_count": null,
            "_view_module": "@jupyter-widgets/base",
            "_view_module_version": "1.2.0",
            "_view_name": "LayoutView",
            "align_content": null,
            "align_items": null,
            "align_self": null,
            "border": null,
            "bottom": null,
            "display": null,
            "flex": null,
            "flex_flow": null,
            "grid_area": null,
            "grid_auto_columns": null,
            "grid_auto_flow": null,
            "grid_auto_rows": null,
            "grid_column": null,
            "grid_gap": null,
            "grid_row": null,
            "grid_template_areas": null,
            "grid_template_columns": null,
            "grid_template_rows": null,
            "height": null,
            "justify_content": null,
            "justify_items": null,
            "left": null,
            "margin": null,
            "max_height": null,
            "max_width": null,
            "min_height": null,
            "min_width": null,
            "object_fit": null,
            "object_position": null,
            "order": null,
            "overflow": null,
            "overflow_x": null,
            "overflow_y": null,
            "padding": null,
            "right": null,
            "top": null,
            "visibility": null,
            "width": null
          },
          "model_module_version": "1.2.0"
        },
        "f84c5742d312477da30e45407ae2a6df": {
          "model_module": "@jupyter-widgets/base",
          "model_name": "LayoutModel",
          "state": {
            "_model_module": "@jupyter-widgets/base",
            "_model_module_version": "1.2.0",
            "_model_name": "LayoutModel",
            "_view_count": null,
            "_view_module": "@jupyter-widgets/base",
            "_view_module_version": "1.2.0",
            "_view_name": "LayoutView",
            "align_content": null,
            "align_items": null,
            "align_self": null,
            "border": null,
            "bottom": null,
            "display": null,
            "flex": null,
            "flex_flow": null,
            "grid_area": null,
            "grid_auto_columns": null,
            "grid_auto_flow": null,
            "grid_auto_rows": null,
            "grid_column": null,
            "grid_gap": null,
            "grid_row": null,
            "grid_template_areas": null,
            "grid_template_columns": null,
            "grid_template_rows": null,
            "height": null,
            "justify_content": null,
            "justify_items": null,
            "left": null,
            "margin": null,
            "max_height": null,
            "max_width": null,
            "min_height": null,
            "min_width": null,
            "object_fit": null,
            "object_position": null,
            "order": null,
            "overflow": null,
            "overflow_x": null,
            "overflow_y": null,
            "padding": null,
            "right": null,
            "top": null,
            "visibility": null,
            "width": null
          },
          "model_module_version": "1.2.0"
        }
      }
    }
  },
  "nbformat": 4,
  "nbformat_minor": 0
}