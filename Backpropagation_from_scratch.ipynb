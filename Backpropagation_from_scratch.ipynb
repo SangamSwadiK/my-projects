{
  "cells": [
    {
      "cell_type": "markdown",
      "metadata": {
        "id": "N5QCLaUnrnBV"
      },
      "source": [
        "# This notebook contains the implementation of a neural network from scratch using python without any frameworks."
      ]
    },
    {
      "cell_type": "markdown",
      "metadata": {
        "id": "TWPO0ZtTSZvK"
      },
      "source": [
        "## 0. Importing Necessary libraries  "
      ]
    },
    {
      "cell_type": "code",
      "execution_count": null,
      "metadata": {
        "id": "AWhErh6VSZvL"
      },
      "outputs": [],
      "source": [
        "import numpy as np\n",
        "import math as mt\n",
        "from scipy.special import expit\n",
        "import matplotlib.pyplot as plt"
      ]
    },
    {
      "cell_type": "markdown",
      "metadata": {
        "id": "sH5jPVX-rnBd"
      },
      "source": [
        "## 1. loading of data"
      ]
    },
    {
      "cell_type": "code",
      "execution_count": null,
      "metadata": {
        "id": "y4WT0EJRrnBg",
        "outputId": "90804161-647c-4283-a8c2-27188dd451ce"
      },
      "outputs": [
        {
          "name": "stdout",
          "output_type": "stream",
          "text": [
            "(506, 6)\n",
            "(506, 5) (506,)\n"
          ]
        }
      ],
      "source": [
        "import pickle\n",
        "with open('data.pkl', 'rb') as f:\n",
        "    data = pickle.load(f)\n",
        "print(data.shape)\n",
        "X = data[:, :5]\n",
        "y = data[:, -1]\n",
        "print(X.shape, y.shape)"
      ]
    },
    {
      "cell_type": "markdown",
      "metadata": {
        "id": "GIkq6U0SrnBu"
      },
      "source": [
        "# 2. Computational graph"
      ]
    },
    {
      "cell_type": "markdown",
      "metadata": {
        "id": "3XnJH-McrnBx"
      },
      "source": [
        "<img src='https://i.imgur.com/seSGbNS.png'>"
      ]
    },
    {
      "cell_type": "markdown",
      "metadata": {
        "id": "YRQKYgJrrnB0"
      },
      "source": [
        "<pre>\n",
        "1. if the above graph, we are having input features [f1, f2, f3, f4, f5] and 9 weights [w1, w2, w3, w4, w5, w6, w7, w8, w9]\n",
        "2. the final output of this graph is a value L which is computed as (Y-Y')^2\n",
        "</pre>"
      ]
    },
    {
      "cell_type": "markdown",
      "source": [
        "## Forward propagation"
      ],
      "metadata": {
        "id": "TNnFfR8GXhko"
      }
    },
    {
      "cell_type": "code",
      "execution_count": null,
      "metadata": {
        "id": "y0bsWyljSZvR"
      },
      "outputs": [],
      "source": [
        "def Forward_propagation (X, y, W):\n",
        "    '''Input :: Takes in a datum X and its label y ,with the randomly initialized weight vector W\n",
        "       Returns  :: A dictionary holding intermediate variables along with the y_hat(predicted value) and the Loss during forward propagation\n",
        "    '''\n",
        "    import math as mt \n",
        "    \n",
        "    neural_network = dict()                                  # empty dict \n",
        "    neural_network['a'] =  W[0] * X[0]\n",
        "    neural_network['b'] =  W[1] * X[1]\n",
        "    neural_network['c'] =  (neural_network['a'] + neural_network['b']) ** 2     \n",
        "    neural_network['d'] =  neural_network['c'] + W[5]\n",
        "    neural_network['e'] =  mt.exp (neural_network['d'])\n",
        "    neural_network['f']  =  neural_network['e'] + W[6]\n",
        "    neural_network['g'] =  mt.tanh( neural_network['f'] )                          # output of the upper graph.                \n",
        "    \n",
        "    neural_network['h'] =  W[2]*X[2]\n",
        "    neural_network['i']  =   W[3] * X[3]\n",
        "    neural_network['j']  =  W[4] * X[4]\n",
        "    neural_network['k'] =  mt.sin( neural_network['h'] )\n",
        "    neural_network['l']  =   neural_network['i'] + neural_network['j']\n",
        "    neural_network['m'] =  neural_network['k'] * neural_network['l'] \n",
        "    neural_network['n'] =   neural_network['m'] + W[7] \n",
        "    neural_network['o'] =   expit( neural_network['n'] )                              # Expit is the sigmoid implementation in scipy.\n",
        "    neural_network['p'] =   neural_network['o']  * W[8]                             # output of the lower graph.\n",
        "    \n",
        "    neural_network['y_hat'] =  neural_network['g'] +  neural_network['p']               # Final values, i.e prediction from upper and lower combined.\n",
        "    neural_network['loss'] = pow ( (y - neural_network['y_hat']  ), 2   )\n",
        "    neural_network['diff_loss_1'] = -2 * (y - neural_network['y_hat'] )                      # derivative of the loss\n",
        "    \n",
        "    return  neural_network\n",
        "    "
      ]
    },
    {
      "cell_type": "markdown",
      "source": [
        "## Backward propagation via partial derivatives"
      ],
      "metadata": {
        "id": "zZ1yRw3TXj8P"
      }
    },
    {
      "cell_type": "code",
      "execution_count": null,
      "metadata": {
        "id": "EP_bctmNSZvS"
      },
      "outputs": [],
      "source": [
        "def Backward_propagation(dictionary , X, y, W):\n",
        "    '''Input :: Takes in a dictionary that holds the intermediate values, loss and prediction of a network \n",
        "                     during forward propagation, a datum with its label, along with the randomly initialized weight vector.\n",
        "      Returns ::  Returns a list of gradient  values as a result of backpropagation.\n",
        "    '''\n",
        "    dw9 = dictionary['diff_loss_1'] * dictionary['o']\n",
        "    dw8 = dictionary['diff_loss_1'] * W[8] * dictionary['o'] * (1 - dictionary['o'] )                                                                                \n",
        "    dw7 = dictionary['diff_loss_1'] * ( 1 - pow( dictionary['g'], 2))\n",
        "    dw6 = dictionary['diff_loss_1'] * ( 1 - pow( dictionary['g'], 2) ) * dictionary['e']\n",
        "    dw5 = dictionary['diff_loss_1'] * W[8] *  dictionary['o']* ( 1 - dictionary['o']) * dictionary['k'] * X[4]\n",
        "    dw4 = dictionary['diff_loss_1']* W[8] * dictionary['o'] * (1 - dictionary['o'] ) * dictionary['k'] * X[3]\n",
        "    dw3 = dictionary['diff_loss_1'] * W[8] * dictionary['o'] * (1 - dictionary['o']) * dictionary['l'] * mt.cos( dictionary['h'] ) * X[2]\n",
        "\n",
        "    dw2 = dictionary['diff_loss_1'] * ( 1 - pow(dictionary['g'], 2) ) * dictionary['e'] * ( 2 * ( dictionary['b'] + dictionary['a'] ) * X[1]  )             \n",
        "    dw1 = dictionary['diff_loss_1'] * (1 - pow(dictionary['g'], 2)) * dictionary['e'] * ( 2 * ( dictionary['b'] + dictionary['a'] ) * X[0]  )             \n",
        "\n",
        "    return [dw1, dw2, dw3, dw4, dw5, dw6, dw7 ,dw8, dw9 ]\n",
        "    "
      ]
    },
    {
      "cell_type": "markdown",
      "source": [
        "## Gradient check wrt numerical methods"
      ],
      "metadata": {
        "id": "4qqEcMz5Xox-"
      }
    },
    {
      "cell_type": "code",
      "execution_count": null,
      "metadata": {
        "id": "RCczSWYsSZvS"
      },
      "outputs": [],
      "source": [
        "def gradient_check (w, epsilon, Xi, yi, forward_prop_func):\n",
        "    '''\n",
        "    Inputs :: Takes in a randomly initialized weight vector, a small value epsilon for calculating limits, datum with its label, and the \n",
        "                    Forward propagation Function\n",
        "    Returns :: The gradient check list with the error between approximated and one found with backpropagation, and the list of approximated gradients.\n",
        "    '''\n",
        "    approx_grad = []                  \n",
        "    gradient_check_list = []\n",
        "    \n",
        "    for i in range(len(w)):\n",
        "        \n",
        "        w_1 = w[:]                                # Making a copy of the weight vector\n",
        "        w_1[i] += epsilon                     # adding small value (epsilon) to it \n",
        "        t1= forward_prop_func(Xi,yi, w_1)['loss']                 # Getting the loss from the forward propagation\n",
        "        \n",
        "        w_2 =w[:]                               # Making a second copy of the weight vector\n",
        "        w_2[i] -= epsilon                  # subtracting epsilon in order to calculate the approx gradient\n",
        "        t2 = forward_prop_func(Xi,yi, w_2)['loss']               # Getting the loss from the forward propagation\n",
        "        \n",
        "        grad_by_limit= (t1 - t2)/(2 *epsilon)                  # calculate the gradient by approximation \n",
        "        approx_grad.append(grad_by_limit)\n",
        "        \n",
        "         # calculate the error b/w approx and one with backpropagation\n",
        "        grad_chk = np.linalg.norm( dw[i] - grad_by_limit   )/ (np.linalg.norm( dw ) + np.linalg.norm(grad_by_limit))           \n",
        "        \n",
        "        gradient_check_list.append(grad_chk)             # append the results to a list \n",
        "\n",
        "    return gradient_check_list, approx_grad\n"
      ]
    },
    {
      "cell_type": "code",
      "execution_count": null,
      "metadata": {
        "id": "N0F-TcfUSZvT",
        "outputId": "01e9761b-e606-4338-cd62-2b36b954f2d1"
      },
      "outputs": [
        {
          "name": "stdout",
          "output_type": "stream",
          "text": [
            "*** ** *** *** ** *** *** ** *** *** ** *** *** ** *** *** ** *** *** ** *** *** ** *** *** ** *** *** ** *** *** ** *** *** ** *** *** ** *** *** ** *** *** ** *** \n",
            "*** ** *** *** ** *** *** ** *** *** ** *** *** ** *** *** ** *** *** ** *** *** ** *** *** ** *** *** ** *** *** ** *** *** ** *** *** ** *** *** ** *** *** ** *** \n",
            "The gradients as a result of Backpropagation are :: [-0.014280455552480654, -0.001330719477653175, -1.0400818969452213e-05, 2.2482721607339203e-05, 4.8640270899566355e-06, -0.9184022666562436, -0.9229545820366094, -0.010384615586160374, -1.0959015491822777]\n",
            "\n",
            "The approximate gradients are  :: [-0.014280455339354958, -0.0013307194779432763, -1.0400817984645983e-05, 2.248272235050308e-05, 4.864028069206938e-06, -0.9184022643649037, -0.9229545870070854, -0.010384615577452294, -1.0959015491829316]\n",
            "*****************************************************************************************************************************\n",
            "*****************************************************************************************************************************\n",
            "The result of gradient checking i.e the errors are in the  range [1.2418270474101816e-10, 1.703194793215918e-13, 5.786317349220841e-13, 4.366495036740141e-13, 5.753691713935067e-13, 8.74440834982254e-10, 1.893586085196927e-09, 5.085511616441027e-12, 2.337229783788818e-13]\n",
            "*** ** *** *** ** *** *** ** *** *** ** *** *** ** *** *** ** *** *** ** *** *** ** *** *** ** *** *** ** *** *** ** *** *** ** *** *** ** *** *** ** *** *** ** *** \n",
            "*** ** *** *** ** *** *** ** *** *** ** *** *** ** *** *** ** *** *** ** *** *** ** *** *** ** *** *** ** *** *** ** *** *** ** *** *** ** *** *** ** *** *** ** *** \n"
          ]
        }
      ],
      "source": [
        "w = np.random.normal(loc = 0, scale = 0.01, size = 9)              # Initialize weights on normal distribution\n",
        "w = list(w)\n",
        "\n",
        "tmp_dict = Forward_propagation(X[0],y[0], w)                          # perform forward propagation and backward propagation\n",
        "dw = Backward_propagation(tmp_dict, X[0], y[0], w)\n",
        "\n",
        "chk, apprx_grad_lst = gradient_check(w, 0.0001, X[0], y[0], Forward_propagation)                  #  perform gradient checking \n",
        "\n",
        "print('*** ** *** ' * 15)\n",
        "print('*** ** *** ' * 15)\n",
        "print(f'The gradients as a result of Backpropagation are :: {dw}\\n' )\n",
        "\n",
        "print(f'The approximate gradients are  :: {apprx_grad_lst}')\n",
        "print('*****' * 25)\n",
        "print('*****' * 25)\n",
        "print(f'The result of gradient checking i.e the errors are in the  range {chk}' ) \n",
        "print('*** ** *** ' * 15)\n",
        "print('*** ** *** ' * 15)"
      ]
    },
    {
      "cell_type": "markdown",
      "metadata": {
        "id": "mf1fj5ZernB5"
      },
      "source": [
        "### Experiment the network with different Optimizers\n"
      ]
    },
    {
      "cell_type": "code",
      "execution_count": null,
      "metadata": {
        "id": "EfJoODjnSZvU"
      },
      "outputs": [],
      "source": [
        "W = np.random.normal(loc = 0,scale =  0.01, size=9)                      # initialize weights randomly \n",
        "W1 = np.copy(W)       # Make three copies of the same  weights in order to understand how each update rule performs \n",
        "W2 = np.copy(W)\n",
        "W3 = np.copy(W)"
      ]
    },
    {
      "cell_type": "markdown",
      "metadata": {
        "id": "HCRPdZXvSZvU"
      },
      "source": [
        "##### Vanilla SGD"
      ]
    },
    {
      "cell_type": "code",
      "execution_count": null,
      "metadata": {
        "id": "9JLZ5_3MSZvV"
      },
      "outputs": [],
      "source": [
        "alpha = 0.0005                    # learning rate\n",
        "loss_lst = []                          # list to hold the loss\n",
        "\n",
        "for each_epoch in range(100):                     # taking epochs as 100 \n",
        "    for index in  range(len(X)):                         # for each datum\n",
        "        \n",
        "        tmp =  Forward_propagation(X[index], y[index], W1)                       # 1) Perform Forward propagation.\n",
        "        dw = Backward_propagation(tmp, X[index], y[index], W1)              # 2) Perform Backward propagation.\n",
        "        W1 -=  (alpha)*np.array(dw)                                                                  #3)  Update the weights.\n",
        "    \n",
        "    loss_lst.append( Forward_propagation(X[index], y[index], W1)['loss'] )            # append the loss for the graph\n",
        "    #print(Forward_propagation(X[index], y[index], W)['loss'])"
      ]
    },
    {
      "cell_type": "code",
      "execution_count": null,
      "metadata": {
        "id": "YtlBebT0SZvV",
        "outputId": "ef4dce02-d414-46ef-96fb-b73e8a246693"
      },
      "outputs": [
        {
          "data": {
            "image/png": "[encoded data removed]",
            "text/plain": [
              "<Figure size 432x288 with 1 Axes>"
            ]
          },
          "metadata": {},
          "output_type": "display_data"
        }
      ],
      "source": [
        "# Plotting the loss vs Epoch\n",
        "\n",
        "plt.plot(range(1,101), loss_lst, 'bo-',  linewidth=1, label = 'Loss')\n",
        "plt.xticks(np.arange(0, 101, 10))\n",
        "plt.xlabel('Epochs')\n",
        "plt.ylabel('Loss')\n",
        "plt.title('Vannilla :: Loss vs epochs')\n",
        "plt.legend()\n",
        "plt.show();"
      ]
    },
    {
      "cell_type": "markdown",
      "metadata": {
        "id": "26v9AS0TSZvV"
      },
      "source": [
        "##### SGD + momemtum"
      ]
    },
    {
      "cell_type": "code",
      "execution_count": null,
      "metadata": {
        "scrolled": true,
        "id": "9rJS3qP8SZvW"
      },
      "outputs": [],
      "source": [
        "# Resource ::  https://www.youtube.com/watch?v=hd_KFJ5ktUc\n",
        "alpha = 0.0005                    # learning rate\n",
        "loss_lst = []                          # list to hold the loss\n",
        "\n",
        "mu = 0.8                              # Taking mu as constant\n",
        "v = np.zeros_like(W2)       # initializing velocity to zero vector\n",
        " \n",
        "for each_epoch in range(100):                     # taking epochs as 100 \n",
        "    for index in  range(len(X)):                         # for each datum\n",
        "        \n",
        "        tmp =  Forward_propagation(X[index], y[index], W2)                       # 1) Perform Forward propagation.\n",
        "        dw = Backward_propagation(tmp, X[index], y[index], W2)              # 2) Perform Backward propagation.\n",
        "        v = (mu * v) -  (alpha)*np.array(dw)                                                      #  calculate velocity vector\n",
        "        W2 +=v                                                                                                        # 3) Update the weights.\n",
        "    \n",
        "    loss_lst.append( Forward_propagation(X[index], y[index], W2)['loss'] )                  # append loss for plotting graph"
      ]
    },
    {
      "cell_type": "code",
      "execution_count": null,
      "metadata": {
        "id": "ItqQ81QmSZvW",
        "outputId": "0772edf0-875b-4160-9a7d-312a21bd4da0"
      },
      "outputs": [
        {
          "data": {
            "image/png": "[encoded data removed]",
            "text/plain": [
              "<Figure size 432x288 with 1 Axes>"
            ]
          },
          "metadata": {},
          "output_type": "display_data"
        }
      ],
      "source": [
        "# Plotting the loss vs Epoch\n",
        "# sharp changes\n",
        "\n",
        "plt.plot(range(1,101), loss_lst, 'bo-',  linewidth=1, label = 'Loss')\n",
        "plt.xticks(np.arange(0, 101, 10))\n",
        "plt.xlabel('Epochs')\n",
        "plt.ylabel('Loss')\n",
        "plt.title('Momemtum update :: Loss vs epochs')\n",
        "plt.legend()\n",
        "plt.show()"
      ]
    },
    {
      "cell_type": "markdown",
      "metadata": {
        "id": "LoZDtrIlSZvX"
      },
      "source": [
        "##### Adam weight update rule"
      ]
    },
    {
      "cell_type": "code",
      "execution_count": null,
      "metadata": {
        "id": "zHQ_bvUPSZvX"
      },
      "outputs": [],
      "source": [
        "alpha = 0.0005                    # learning rate\n",
        "loss_lst = []                          # list to hold the loss\n",
        "\n",
        "v = np.zeros_like(W3)        # m and v are  zerovectors \n",
        "m = np.zeros_like(W3)\n",
        "\n",
        "beta1 = 0.9                         #  decaying the running average \n",
        "beta2 = 0.999\n",
        "eps = 1e-8                         # to prevent Division from zero error\n",
        "\n",
        "for each_epoch in range(50):\n",
        "    for index in  range(len(X)):\n",
        "        \n",
        "        tmp =  Forward_propagation(X[index], y[index], W3)                       # 1) Perform Forward propagation.\n",
        "        dw = Backward_propagation(tmp, X[index], y[index], W3)              # 2) Perform Backward propagation.\n",
        "        \n",
        "        m = beta1*m + (1-beta1)*np.array(dw)                                # calculate m , v and update the W3\n",
        "        v = beta2*v + (1-beta2)*(np.array(dw)**2)\n",
        "        W3 += - alpha * m / (np.sqrt(v) + eps)\n",
        "    \n",
        "    loss_lst.append( Forward_propagation(X[index], y[index], W3)['loss'])           # append the loss vector"
      ]
    },
    {
      "cell_type": "code",
      "execution_count": null,
      "metadata": {
        "id": "dOmXy8EuSZvX",
        "outputId": "5169a8ee-1e95-464c-8ab7-d9e7cc557374"
      },
      "outputs": [
        {
          "data": {
            "image/png": "[encoded data removed]",
            "text/plain": [
              "<Figure size 432x288 with 1 Axes>"
            ]
          },
          "metadata": {},
          "output_type": "display_data"
        }
      ],
      "source": [
        "# Plot the loss vs epoch graph\n",
        "plt.plot(range(1,51), loss_lst, 'bo-',  linewidth=1, label = 'Loss')\n",
        "plt.xticks(np.arange(0, 51, 10))\n",
        "plt.xlabel('Epochs')\n",
        "plt.ylabel('Loss')\n",
        "plt.title('Adam update :: Loss vs epochs')\n",
        "plt.legend()\n",
        "plt.show()"
      ]
    },
    {
      "cell_type": "markdown",
      "metadata": {
        "id": "wIvAMiBlSZvY"
      },
      "source": [
        "### References ::\n",
        "1) https://docs.scipy.org/doc/scipy-0.15.1/reference/generated/scipy.special.expit.html\n",
        "\n",
        "2) https://stackoverflow.com/questions/28077733/numpy-sin-function-in-degrees\n",
        "\n",
        "3) https://wiseodd.github.io/techblog/2016/06/22/nn-optimization/\n",
        "\n",
        "4) https://www.youtube.com/watch?v=hd_KFJ5ktUc\n",
        "\n",
        "5) https://medium.com/deep-learning-demystified/https-medium-com-deep-learning-demystified-understanding-optimizers-313b787a69fe\n",
        "\n",
        "6) https://www.youtube.com/watch?v=NfnWJUyUJYU&list=PLkt2uSq6rBVctENoVBg1TpCC7OQi31AlC\n",
        "\n",
        "7) https://hackernoon.com/how-to-interpret-a-contour-plot-a617d45f91ba"
      ]
    }
  ],
  "metadata": {
    "colab": {
      "provenance": [],
      "collapsed_sections": []
    },
    "kernelspec": {
      "display_name": "Python 3",
      "language": "python",
      "name": "python3"
    },
    "language_info": {
      "codemirror_mode": {
        "name": "ipython",
        "version": 3
      },
      "file_extension": ".py",
      "mimetype": "text/x-python",
      "name": "python",
      "nbconvert_exporter": "python",
      "pygments_lexer": "ipython3",
      "version": "3.6.5"
    }
  },
  "nbformat": 4,
  "nbformat_minor": 0
}